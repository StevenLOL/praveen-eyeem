{
 "cells": [
  {
   "cell_type": "code",
   "execution_count": 1,
   "metadata": {
    "collapsed": false
   },
   "outputs": [
    {
     "name": "stderr",
     "output_type": "stream",
     "text": [
      "Using Theano backend.\n",
      "Using gpu device 0: Tesla K40c (CNMeM is disabled, cuDNN 5103)\n"
     ]
    }
   ],
   "source": [
    "import os, sys\n",
    "\n",
    "import argparse\n",
    "\n",
    "from keras import backend as K\n",
    "\n",
    "try:\n",
    "    import keras.backend.tensorflow_backend as KTF\n",
    "except ImportError as e:\n",
    "    KTF = None\n",
    "    TENSORFLOW_IMPORT_ERROR = e\n",
    "\n",
    "from rnd_libs.lib.keras.train import TheanoTrainer\n",
    "from rnd_libs.lib.keras.test import TheanoTester\n",
    "from rnd_libs.lib.keras.train_captions import TheanoTrainerCaptions\n",
    "from rnd_libs.lib.keras.test_captions import TheanoTesterCaptions\n",
    "from rnd_libs.lib.keras.lmdb_parser import LMDBParser\n",
    "\n",
    "trainer_dict = {'concepts': TheanoTrainer, 'captions': TheanoTrainerCaptions}\n",
    "tester_dict = {'concepts': TheanoTester, 'captions': TheanoTesterCaptions}"
   ]
  },
  {
   "cell_type": "code",
   "execution_count": 2,
   "metadata": {
    "collapsed": false
   },
   "outputs": [
    {
     "name": "stdout",
     "output_type": "stream",
     "text": [
      "\u001b[32m[03 Feb 2017 18h06m08s][INFO] Added conv:Convolution2D\u001b[0m\n",
      "\u001b[32m[03 Feb 2017 18h06m08s][INFO] Added conv_bn:BatchNormalization\u001b[0m\n",
      "\u001b[32m[03 Feb 2017 18h06m08s][INFO] Added conv_nonlin:Activation\u001b[0m\n",
      "\u001b[32m[03 Feb 2017 18h06m08s][INFO] Added conv_1:Convolution2D\u001b[0m\n",
      "\u001b[32m[03 Feb 2017 18h06m08s][INFO] Added conv_bn_1:BatchNormalization\u001b[0m\n",
      "\u001b[32m[03 Feb 2017 18h06m08s][INFO] Added conv_nonlin_1:Activation\u001b[0m\n",
      "\u001b[32m[03 Feb 2017 18h06m08s][INFO] Added padding_conv2:ZeroPadding2D\u001b[0m\n",
      "\u001b[32m[03 Feb 2017 18h06m08s][INFO] Added conv_2:Convolution2D\u001b[0m\n",
      "\u001b[32m[03 Feb 2017 18h06m08s][INFO] Added conv_bn_2:BatchNormalization\u001b[0m\n",
      "\u001b[32m[03 Feb 2017 18h06m08s][INFO] Added conv_nonlin_2:Activation\u001b[0m\n",
      "\u001b[32m[03 Feb 2017 18h06m08s][INFO] Added pool:MaxPooling2D\u001b[0m\n",
      "\u001b[32m[03 Feb 2017 18h06m08s][INFO] Added conv_3:Convolution2D\u001b[0m\n",
      "\u001b[32m[03 Feb 2017 18h06m08s][INFO] Added conv_bn_3:BatchNormalization\u001b[0m\n",
      "\u001b[32m[03 Feb 2017 18h06m08s][INFO] Added conv_nonlin_3:Activation\u001b[0m\n",
      "\u001b[32m[03 Feb 2017 18h06m08s][INFO] Added conv_4:Convolution2D\u001b[0m\n",
      "\u001b[32m[03 Feb 2017 18h06m08s][INFO] Added conv_bn_4:BatchNormalization\u001b[0m\n",
      "\u001b[32m[03 Feb 2017 18h06m08s][INFO] Added conv_nonlin_4:Activation\u001b[0m\n",
      "\u001b[32m[03 Feb 2017 18h06m08s][INFO] Added pool_1:MaxPooling2D\u001b[0m\n",
      "\u001b[32m[03 Feb 2017 18h06m08s][INFO] Added Inception-A mixed\u001b[0m\n",
      "\u001b[32m[03 Feb 2017 18h06m08s][INFO] Added Inception-A mixed_1\u001b[0m\n",
      "\u001b[32m[03 Feb 2017 18h06m08s][INFO] Added Inception-A mixed_2\u001b[0m\n",
      "\u001b[32m[03 Feb 2017 18h06m08s][INFO] Added Inception-B mixed_3\u001b[0m\n",
      "\u001b[32m[03 Feb 2017 18h06m08s][INFO] Added Inception-C mixed_4\u001b[0m\n",
      "\u001b[32m[03 Feb 2017 18h06m08s][INFO] Added Inception-C mixed_5\u001b[0m\n",
      "\u001b[32m[03 Feb 2017 18h06m08s][INFO] Added Inception-C mixed_6\u001b[0m\n",
      "\u001b[32m[03 Feb 2017 18h06m08s][INFO] Added Inception-C mixed_7\u001b[0m\n",
      "\u001b[32m[03 Feb 2017 18h06m08s][INFO] Added Inception-D mixed_8\u001b[0m\n",
      "\u001b[32m[03 Feb 2017 18h06m08s][INFO] Added Inception-E mixed_9\u001b[0m\n",
      "\u001b[32m[03 Feb 2017 18h06m08s][INFO] Added Inception-E mixed_10\u001b[0m\n",
      "\u001b[32m[03 Feb 2017 18h06m08s][INFO] Added batchnorm:BatchNormalization before finetuning\u001b[0m\n",
      "\u001b[32m[03 Feb 2017 18h06m09s][INFO] Added partClassifiers:partClassifiers\u001b[0m\n",
      "\u001b[32m[03 Feb 2017 18h06m09s][INFO] Added relu_on_partClassifiers:ReLu on partClassifiers\u001b[0m\n",
      "\u001b[32m[03 Feb 2017 18h06m09s][INFO] Added custom_pool:Custom Pooling Layer:softpool\u001b[0m\n",
      "\u001b[32m[03 Feb 2017 18h06m09s][INFO] Added flatten:Flatten\u001b[0m\n",
      "\u001b[32m[03 Feb 2017 18h06m11s][INFO] Added softmax:Softmax-dense weights\u001b[0m\n",
      "\u001b[32m[03 Feb 2017 18h06m11s][INFO] Added prob:Activation\u001b[0m\n",
      "\u001b[32m[03 Feb 2017 18h06m11s][INFO] Transfering parameters from mixed_4_l3_3_pad_conv_bn\u001b[0m\n",
      "\u001b[32m[03 Feb 2017 18h06m11s][INFO] Transfering parameters from mixed_2_l2_2_pad_conv_bn_nonlin\u001b[0m\n",
      "\u001b[32m[03 Feb 2017 18h06m11s][INFO] Transfering parameters from mixed_10_l3_2_pad_conv\u001b[0m\n",
      "\u001b[32m[03 Feb 2017 18h06m11s][INFO] Transfering parameters from mixed_9_l3_2_pad_conv\u001b[0m\n",
      "\u001b[32m[03 Feb 2017 18h06m11s][INFO] Transfering parameters from mixed_4_l2_3_pad\u001b[0m\n",
      "\u001b[32m[03 Feb 2017 18h06m11s][INFO] Transfering parameters from mixed_8_l1_1_conv\u001b[0m\n",
      "\u001b[32m[03 Feb 2017 18h06m11s][INFO] Transfering parameters from mixed_3_l1_1_conv_bn_nonlin\u001b[0m\n",
      "\u001b[32m[03 Feb 2017 18h06m11s][INFO] Transfering parameters from mixed_10_l2_1_conv_bn_nonlin\u001b[0m\n",
      "\u001b[32m[03 Feb 2017 18h06m11s][INFO] Transfering parameters from mixed_2_l4_3_conv_bn_nonlin\u001b[0m\n",
      "\u001b[32m[03 Feb 2017 18h06m11s][INFO] Transfering parameters from mixed_l3_3_pad_conv_bn\u001b[0m\n",
      "\u001b[32m[03 Feb 2017 18h06m11s][INFO] Transfering parameters from mixed_9_l3_3b_pad_conv_bn\u001b[0m\n",
      "\u001b[32m[03 Feb 2017 18h06m11s][INFO] Transfering parameters from mixed_10_l2_2b_pad_conv\u001b[0m\n",
      "\u001b[32m[03 Feb 2017 18h06m11s][INFO] Transfering parameters from mixed_9_l3_2_pad_conv_bn\u001b[0m\n",
      "\u001b[32m[03 Feb 2017 18h06m11s][INFO] Transfering parameters from mixed_8_l2_2_pad_conv_bn_nonlin\u001b[0m\n",
      "\u001b[32m[03 Feb 2017 18h06m11s][INFO] Transfering parameters from mixed_7_l4_3_conv\u001b[0m\n",
      "\u001b[32m[03 Feb 2017 18h06m11s][INFO] Transfering parameters from mixed_3_l1_1_conv\u001b[0m\n",
      "\u001b[32m[03 Feb 2017 18h06m11s][INFO] Transfering parameters from mixed_4_l2_3_pad_conv_bn\u001b[0m\n",
      "\u001b[32m[03 Feb 2017 18h06m11s][INFO] Transfering parameters from conv_1\u001b[0m\n",
      "\u001b[32m[03 Feb 2017 18h06m11s][INFO] Transfering parameters from mixed_6_l3_4_pad_conv_bn_nonlin\u001b[0m\n",
      "\u001b[32m[03 Feb 2017 18h06m11s][INFO] Transfering parameters from conv_3\u001b[0m\n",
      "\u001b[32m[03 Feb 2017 18h06m11s][INFO] Transfering parameters from conv_2\u001b[0m\n",
      "\u001b[32m[03 Feb 2017 18h06m11s][INFO] Transfering parameters from mixed_9_l2_2a_pad_conv_bn_nonlin\u001b[0m\n",
      "\u001b[32m[03 Feb 2017 18h06m11s][INFO] Transfering parameters from mixed_2_l3_1_conv_bn_nonlin\u001b[0m\n",
      "\u001b[32m[03 Feb 2017 18h06m11s][INFO] Transfering parameters from mixed_l4_3_conv_bn_nonlin\u001b[0m\n",
      "\u001b[32m[03 Feb 2017 18h06m11s][INFO] Transfering parameters from mixed_6_l2_3_pad_conv_bn_nonlin\u001b[0m\n",
      "\u001b[32m[03 Feb 2017 18h06m11s][INFO] Transfering parameters from mixed_4_l2_2_pad\u001b[0m\n",
      "\u001b[32m[03 Feb 2017 18h06m11s][INFO] Transfering parameters from mixed_1_l2_1_conv\u001b[0m\n",
      "\u001b[32m[03 Feb 2017 18h06m11s][INFO] Transfering parameters from mixed_8_l2_2_pad_conv\u001b[0m\n",
      "\u001b[32m[03 Feb 2017 18h06m11s][INFO] Transfering parameters from mixed_2_l1_1_conv_bn\u001b[0m\n",
      "\u001b[32m[03 Feb 2017 18h06m11s][INFO] Transfering parameters from mixed_7_l3_5_pad_conv_bn\u001b[0m\n",
      "\u001b[32m[03 Feb 2017 18h06m11s][INFO] Transfering parameters from mixed_1_l2_2_pad\u001b[0m\n",
      "\u001b[32m[03 Feb 2017 18h06m11s][INFO] Transfering parameters from mixed_7_l3_1_conv_bn\u001b[0m\n",
      "\u001b[32m[03 Feb 2017 18h06m11s][INFO] Transfering parameters from mixed_7_l1_1_conv_bn_nonlin\u001b[0m\n",
      "\u001b[32m[03 Feb 2017 18h06m11s][INFO] Transfering parameters from mixed_3_l2_3_conv_bn_nonlin\u001b[0m\n",
      "\u001b[32m[03 Feb 2017 18h06m11s][INFO] Transfering parameters from mixed_6_l4_3_conv\u001b[0m\n",
      "\u001b[32m[03 Feb 2017 18h06m11s][INFO] Transfering parameters from conv_nonlin_3\u001b[0m\n",
      "\u001b[32m[03 Feb 2017 18h06m11s][INFO] Transfering parameters from conv_nonlin_2\u001b[0m\n",
      "\u001b[32m[03 Feb 2017 18h06m11s][INFO] Transfering parameters from conv_nonlin_1\u001b[0m\n",
      "\u001b[32m[03 Feb 2017 18h06m11s][INFO] Transfering parameters from conv_nonlin_4\u001b[0m\n",
      "\u001b[32m[03 Feb 2017 18h06m11s][INFO] Transfering parameters from mixed_7_14_1\u001b[0m\n",
      "\u001b[32m[03 Feb 2017 18h06m11s][INFO] Transfering parameters from mixed_7_14_2\u001b[0m\n",
      "\u001b[32m[03 Feb 2017 18h06m11s][INFO] Transfering parameters from mixed_7_l2_3_pad\u001b[0m\n",
      "\u001b[32m[03 Feb 2017 18h06m11s][INFO] Transfering parameters from mixed_5_l3_3_pad_conv_bn\u001b[0m\n",
      "\u001b[32m[03 Feb 2017 18h06m11s][INFO] Transfering parameters from mixed_6_l2_2_pad_conv\u001b[0m\n",
      "\u001b[32m[03 Feb 2017 18h06m11s][INFO] Transfering parameters from mixed_8_l1_1_conv_bn\u001b[0m\n",
      "\u001b[32m[03 Feb 2017 18h06m11s][INFO] Transfering parameters from mixed_6_l3_4_pad_conv\u001b[0m\n",
      "\u001b[32m[03 Feb 2017 18h06m11s][INFO] Transfering parameters from mixed_l1_1_conv\u001b[0m\n",
      "\u001b[32m[03 Feb 2017 18h06m11s][INFO] Transfering parameters from mixed_1_l1_1_conv\u001b[0m\n",
      "\u001b[32m[03 Feb 2017 18h06m11s][INFO] Transfering parameters from mixed_3_l2_1_conv\u001b[0m\n",
      "\u001b[32m[03 Feb 2017 18h06m11s][INFO] Transfering parameters from mixed_4_l3_1_conv\u001b[0m\n",
      "\u001b[32m[03 Feb 2017 18h06m11s][INFO] Transfering parameters from mixed_3_l1_1_conv_bn\u001b[0m\n",
      "\u001b[32m[03 Feb 2017 18h06m11s][INFO] Transfering parameters from mixed_2_l4_3_conv_bn\u001b[0m\n",
      "\u001b[32m[03 Feb 2017 18h06m11s][INFO] Transfering parameters from mixed_2_l2_1_conv\u001b[0m\n",
      "\u001b[32m[03 Feb 2017 18h06m11s][INFO] Transfering parameters from mixed_10_l4_3_conv_bn\u001b[0m\n",
      "\u001b[32m[03 Feb 2017 18h06m11s][INFO] Transfering parameters from mixed_10_l2_2a_pad_conv\u001b[0m\n",
      "\u001b[32m[03 Feb 2017 18h06m11s][INFO] Transfering parameters from mixed_8_l2_3_pad\u001b[0m\n",
      "\u001b[32m[03 Feb 2017 18h06m11s][INFO] Transfering parameters from mixed_4_l2_2_pad_conv\u001b[0m\n",
      "\u001b[32m[03 Feb 2017 18h06m11s][INFO] Transfering parameters from mixed_l1_1_conv_bn\u001b[0m\n",
      "\u001b[32m[03 Feb 2017 18h06m11s][INFO] Transfering parameters from mixed_1_l3_3_pad_conv\u001b[0m\n",
      "\u001b[32m[03 Feb 2017 18h06m11s][INFO] Transfering parameters from mixed_5_l4_3_conv\u001b[0m\n",
      "\u001b[32m[03 Feb 2017 18h06m11s][INFO] Transfering parameters from mixed_2_l3_2_pad_conv_bn_nonlin\u001b[0m\n",
      "\u001b[32m[03 Feb 2017 18h06m11s][INFO] Transfering parameters from mixed_6_l3_2_pad_conv_bn_nonlin\u001b[0m\n",
      "\u001b[32m[03 Feb 2017 18h06m11s][INFO] Transfering parameters from mixed_8_l2_1_conv_bn\u001b[0m\n",
      "\u001b[32m[03 Feb 2017 18h06m11s][INFO] Transfering parameters from mixed_1_l3_3_pad\u001b[0m\n",
      "\u001b[32m[03 Feb 2017 18h06m11s][INFO] Transfering parameters from mixed_9_l2_2b_pad_conv\u001b[0m\n",
      "\u001b[32m[03 Feb 2017 18h06m11s][INFO] Transfering parameters from mixed_l3_2_pad_conv_bn_nonlin\u001b[0m\n",
      "\u001b[32m[03 Feb 2017 18h06m11s][INFO] Transfering parameters from mixed_10_l3_2_pad\u001b[0m\n",
      "\u001b[32m[03 Feb 2017 18h06m11s][INFO] Transfering parameters from mixed_4_l3_4_pad_conv_bn_nonlin\u001b[0m\n",
      "\u001b[32m[03 Feb 2017 18h06m11s][INFO] Transfering parameters from mixed_4_l2_3_pad_conv_bn_nonlin\u001b[0m\n",
      "\u001b[32m[03 Feb 2017 18h06m11s][INFO] Transfering parameters from mixed_9_l2_2b_pad_conv_bn_nonlin\u001b[0m\n",
      "\u001b[32m[03 Feb 2017 18h06m11s][INFO] Transfering parameters from mixed_1_l2_2_pad_conv_bn_nonlin\u001b[0m\n",
      "\u001b[32m[03 Feb 2017 18h06m11s][INFO] Transfering parameters from mixed_4_l2_3_pad_conv\u001b[0m\n",
      "\u001b[32m[03 Feb 2017 18h06m11s][INFO] Transfering parameters from conv_bn_1\u001b[0m\n",
      "\u001b[32m[03 Feb 2017 18h06m11s][INFO] Transfering parameters from conv_bn_3\u001b[0m\n",
      "\u001b[32m[03 Feb 2017 18h06m11s][INFO] Transfering parameters from conv_bn_2\u001b[0m\n",
      "\u001b[32m[03 Feb 2017 18h06m11s][INFO] Transfering parameters from conv_bn_4\u001b[0m\n",
      "\u001b[32m[03 Feb 2017 18h06m11s][INFO] Transfering parameters from mixed_6_l2_2_pad_conv_bn_nonlin\u001b[0m\n",
      "\u001b[32m[03 Feb 2017 18h06m11s][INFO] Transfering parameters from mixed_1_l3_3_pad_conv_bn\u001b[0m\n",
      "\u001b[32m[03 Feb 2017 18h06m11s][INFO] Transfering parameters from mixed_4_l3_1_conv_bn_nonlin\u001b[0m\n",
      "\u001b[32m[03 Feb 2017 18h06m11s][INFO] Transfering parameters from mixed_9_l3_3a_pad_conv_bn_nonlin\u001b[0m\n",
      "\u001b[32m[03 Feb 2017 18h06m11s][INFO] Transfering parameters from mixed_9_l2_2a_pad_conv_bn\u001b[0m\n",
      "\u001b[32m[03 Feb 2017 18h06m11s][INFO] Transfering parameters from mixed_2_l1_1_conv\u001b[0m\n",
      "\u001b[32m[03 Feb 2017 18h06m11s][INFO] Transfering parameters from mixed_1_l3_2_pad\u001b[0m\n",
      "\u001b[32m[03 Feb 2017 18h06m11s][INFO] Transfering parameters from mixed_10_l2_2a_pad_conv_bn\u001b[0m\n",
      "\u001b[32m[03 Feb 2017 18h06m11s][INFO] Transfering parameters from mixed_l2_1_conv\u001b[0m\n",
      "\u001b[32m[03 Feb 2017 18h06m11s][INFO] Transfering parameters from mixed_10_l3_2_pad_conv_bn_nonlin\u001b[0m\n",
      "\u001b[32m[03 Feb 2017 18h06m11s][INFO] Transfering parameters from mixed_l2_2_pad_conv_bn\u001b[0m\n",
      "\u001b[32m[03 Feb 2017 18h06m11s][INFO] Transfering parameters from mixed_4_l3_5_pad_conv_bn\u001b[0m\n",
      "\u001b[32m[03 Feb 2017 18h06m11s][INFO] Transfering parameters from mixed_1_l2_2_pad_conv\u001b[0m\n",
      "\u001b[32m[03 Feb 2017 18h06m11s][INFO] Transfering parameters from mixed_4_l3_3_pad_conv_bn_nonlin\u001b[0m\n",
      "\u001b[32m[03 Feb 2017 18h06m11s][INFO] Transfering parameters from mixed_4_14_1\u001b[0m\n",
      "\u001b[32m[03 Feb 2017 18h06m11s][INFO] Transfering parameters from mixed_10_l2_2a_pad\u001b[0m\n",
      "\u001b[32m[03 Feb 2017 18h06m11s][INFO] Transfering parameters from mixed_10_l3_1_conv_bn\u001b[0m\n",
      "\u001b[32m[03 Feb 2017 18h06m11s][INFO] Transfering parameters from mixed_1_l3_2_pad_conv_bn\u001b[0m\n",
      "\u001b[32m[03 Feb 2017 18h06m11s][INFO] Transfering parameters from mixed_8_l2_3_pad_conv\u001b[0m\n",
      "\u001b[32m[03 Feb 2017 18h06m11s][INFO] Transfering parameters from mixed_5_l4_3_conv_bn_nonlin\u001b[0m\n",
      "\u001b[32m[03 Feb 2017 18h06m11s][INFO] Transfering parameters from mixed_8_l1_1_conv_bn_nonlin\u001b[0m\n",
      "\u001b[32m[03 Feb 2017 18h06m11s][INFO] Transfering parameters from mixed_9_14_1\u001b[0m\n",
      "\u001b[32m[03 Feb 2017 18h06m11s][INFO] Transfering parameters from mixed_6_l3_1_conv_bn_nonlin\u001b[0m\n",
      "\u001b[32m[03 Feb 2017 18h06m11s][INFO] Transfering parameters from mixed_9_l3_3a_pad_conv\u001b[0m\n",
      "\u001b[32m[03 Feb 2017 18h06m11s][INFO] Transfering parameters from mixed_2_l3_3_pad_conv\u001b[0m\n",
      "\u001b[32m[03 Feb 2017 18h06m11s][INFO] Transfering parameters from conv_nonlin\u001b[0m\n",
      "\u001b[34m[03 Feb 2017 18h06m11s][WARNING] Ignoring weights from pool3\u001b[0m\n",
      "\u001b[32m[03 Feb 2017 18h06m11s][INFO] Transfering parameters from mixed_1_l3_1_conv\u001b[0m\n",
      "\u001b[32m[03 Feb 2017 18h06m11s][INFO] Transfering parameters from mixed_2_l4_3_conv\u001b[0m\n",
      "\u001b[32m[03 Feb 2017 18h06m11s][INFO] Transfering parameters from mixed_2_l3_1_conv_bn\u001b[0m\n",
      "\u001b[32m[03 Feb 2017 18h06m11s][INFO] Transfering parameters from mixed_7_l4_3_conv_bn\u001b[0m\n",
      "\u001b[32m[03 Feb 2017 18h06m11s][INFO] Transfering parameters from mixed_l2_2_pad_conv\u001b[0m\n",
      "\u001b[32m[03 Feb 2017 18h06m11s][INFO] Transfering parameters from mixed_6_l3_4_pad_conv_bn\u001b[0m\n",
      "\u001b[32m[03 Feb 2017 18h06m11s][INFO] Transfering parameters from mixed_9_l2_2a_pad\u001b[0m\n",
      "\u001b[32m[03 Feb 2017 18h06m11s][INFO] Transfering parameters from mixed_5_l2_3_pad_conv\u001b[0m\n",
      "\u001b[34m[03 Feb 2017 18h06m11s][WARNING] Ignoring weights from softmax\u001b[0m\n",
      "\u001b[32m[03 Feb 2017 18h06m11s][INFO] Transfering parameters from mixed_1_l2_1_conv_bn\u001b[0m\n",
      "\u001b[32m[03 Feb 2017 18h06m11s][INFO] Transfering parameters from mixed_4_l3_2_pad\u001b[0m\n",
      "\u001b[32m[03 Feb 2017 18h06m11s][INFO] Transfering parameters from mixed_8_l2_3_pad_conv_bn\u001b[0m\n",
      "\u001b[32m[03 Feb 2017 18h06m11s][INFO] Transfering parameters from mixed_10_l3_3a_pad_conv_bn_nonlin\u001b[0m\n",
      "\u001b[32m[03 Feb 2017 18h06m11s][INFO] Transfering parameters from mixed_5_l2_1_conv_bn\u001b[0m\n",
      "\u001b[32m[03 Feb 2017 18h06m11s][INFO] Transfering parameters from mixed_5_l4_3_conv_bn\u001b[0m\n",
      "\u001b[32m[03 Feb 2017 18h06m11s][INFO] Transfering parameters from mixed_6_l2_3_pad_conv_bn\u001b[0m\n",
      "\u001b[32m[03 Feb 2017 18h06m11s][INFO] Transfering parameters from mixed_7_l3_5_pad_conv_bn_nonlin\u001b[0m\n",
      "\u001b[32m[03 Feb 2017 18h06m11s][INFO] Transfering parameters from mixed_9_l3_2_pad_conv_bn_nonlin\u001b[0m\n",
      "\u001b[32m[03 Feb 2017 18h06m11s][INFO] Transfering parameters from mixed_8_l2_2_pad\u001b[0m\n",
      "\u001b[32m[03 Feb 2017 18h06m11s][INFO] Transfering parameters from mixed_1_l2_1_conv_bn_nonlin\u001b[0m\n",
      "\u001b[32m[03 Feb 2017 18h06m11s][INFO] Transfering parameters from mixed_9_l2_1_conv_bn\u001b[0m\n",
      "\u001b[32m[03 Feb 2017 18h06m11s][INFO] Transfering parameters from mixed_l2_1_conv_bn_nonlin\u001b[0m\n",
      "\u001b[32m[03 Feb 2017 18h06m11s][INFO] Transfering parameters from mixed_7_l2_3_pad_conv\u001b[0m\n",
      "\u001b[32m[03 Feb 2017 18h06m11s][INFO] Transfering parameters from mixed_3_l2_1_conv_bn\u001b[0m\n",
      "\u001b[32m[03 Feb 2017 18h06m11s][INFO] Transfering parameters from mixed_10_l3_3b_pad_conv\u001b[0m\n",
      "\u001b[32m[03 Feb 2017 18h06m11s][INFO] Transfering parameters from mixed_6_l3_5_pad\u001b[0m\n",
      "\u001b[32m[03 Feb 2017 18h06m11s][INFO] Transfering parameters from mixed_l3_2_pad_conv\u001b[0m\n",
      "\u001b[32m[03 Feb 2017 18h06m11s][INFO] Transfering parameters from mixed_1_14_1\u001b[0m\n",
      "\u001b[32m[03 Feb 2017 18h06m11s][INFO] Transfering parameters from mixed_8_l2_4_conv_bn_nonlin\u001b[0m\n",
      "\u001b[32m[03 Feb 2017 18h06m11s][INFO] Transfering parameters from mixed_10_l3_1_conv\u001b[0m\n",
      "\u001b[32m[03 Feb 2017 18h06m11s][INFO] Transfering parameters from conv_4\u001b[0m\n",
      "\u001b[32m[03 Feb 2017 18h06m11s][INFO] Transfering parameters from mixed_4_l1_1_conv\u001b[0m\n",
      "\u001b[32m[03 Feb 2017 18h06m11s][INFO] Transfering parameters from mixed_5_l3_3_pad_conv_bn_nonlin\u001b[0m\n",
      "\u001b[32m[03 Feb 2017 18h06m11s][INFO] Transfering parameters from mixed_8_l1_2_conv_bn\u001b[0m\n",
      "\u001b[32m[03 Feb 2017 18h06m11s][INFO] Transfering parameters from mixed_10_l3_1_conv_bn_nonlin\u001b[0m\n",
      "\u001b[32m[03 Feb 2017 18h06m11s][INFO] Transfering parameters from mixed_7_l3_2_pad_conv_bn_nonlin\u001b[0m\n",
      "\u001b[32m[03 Feb 2017 18h06m11s][INFO] Transfering parameters from mixed_10_l1_1_conv\u001b[0m\n",
      "\u001b[32m[03 Feb 2017 18h06m11s][INFO] Transfering parameters from mixed_7_l3_2_pad\u001b[0m\n",
      "\u001b[32m[03 Feb 2017 18h06m11s][INFO] Transfering parameters from mixed_l3_1_conv_bn_nonlin\u001b[0m\n",
      "\u001b[32m[03 Feb 2017 18h06m11s][INFO] Transfering parameters from mixed_6_l3_2_pad\u001b[0m\n",
      "\u001b[32m[03 Feb 2017 18h06m11s][INFO] Transfering parameters from mixed_2_l2_2_pad_conv_bn\u001b[0m\n",
      "\u001b[32m[03 Feb 2017 18h06m11s][INFO] Transfering parameters from mixed_7_l3_2_pad_conv_bn\u001b[0m\n",
      "\u001b[32m[03 Feb 2017 18h06m11s][INFO] Transfering parameters from mixed_6_l2_3_pad_conv\u001b[0m\n",
      "\u001b[32m[03 Feb 2017 18h06m11s][INFO] Transfering parameters from mixed_6_l3_3_pad_conv_bn\u001b[0m\n",
      "\u001b[32m[03 Feb 2017 18h06m11s][INFO] Transfering parameters from mixed_6_l3_3_pad_conv_bn_nonlin\u001b[0m\n",
      "\u001b[32m[03 Feb 2017 18h06m11s][INFO] Transfering parameters from mixed_7_l3_1_conv\u001b[0m\n",
      "\u001b[32m[03 Feb 2017 18h06m11s][INFO] Transfering parameters from mixed_1_l3_3_pad_conv_bn_nonlin\u001b[0m\n",
      "\u001b[32m[03 Feb 2017 18h06m11s][INFO] Transfering parameters from mixed_6_l2_3_pad\u001b[0m\n",
      "\u001b[32m[03 Feb 2017 18h06m11s][INFO] Transfering parameters from mixed_2_l3_2_pad_conv\u001b[0m\n",
      "\u001b[32m[03 Feb 2017 18h06m11s][INFO] Transfering parameters from mixed_10_l3_3b_pad_conv_bn\u001b[0m\n",
      "\u001b[32m[03 Feb 2017 18h06m11s][INFO] Transfering parameters from mixed_1_l1_1_conv_bn\u001b[0m\n",
      "\u001b[32m[03 Feb 2017 18h06m11s][INFO] Transfering parameters from mixed_7_l3_4_pad_conv\u001b[0m\n",
      "\u001b[32m[03 Feb 2017 18h06m11s][INFO] Transfering parameters from mixed_6_l4_3_conv_bn\u001b[0m\n",
      "\u001b[32m[03 Feb 2017 18h06m11s][INFO] Transfering parameters from mixed_6_l1_1_conv_bn_nonlin\u001b[0m\n",
      "\u001b[32m[03 Feb 2017 18h06m11s][INFO] Transfering parameters from mixed_4_l3_2_pad_conv_bn\u001b[0m\n",
      "\u001b[32m[03 Feb 2017 18h06m11s][INFO] Transfering parameters from mixed_10\u001b[0m\n",
      "\u001b[32m[03 Feb 2017 18h06m11s][INFO] Transfering parameters from mixed_5_l3_1_conv\u001b[0m\n",
      "\u001b[32m[03 Feb 2017 18h06m11s][INFO] Transfering parameters from mixed_9_l1_1_conv_bn\u001b[0m\n",
      "\u001b[32m[03 Feb 2017 18h06m11s][INFO] Transfering parameters from mixed_3_l2_3_conv\u001b[0m\n",
      "\u001b[32m[03 Feb 2017 18h06m11s][INFO] Transfering parameters from mixed_10_l2_2b_pad_conv_bn_nonlin\u001b[0m\n",
      "\u001b[32m[03 Feb 2017 18h06m11s][INFO] Transfering parameters from mixed_5_l2_2_pad_conv_bn\u001b[0m\n",
      "\u001b[32m[03 Feb 2017 18h06m11s][INFO] Transfering parameters from mixed_5_l2_2_pad_conv_bn_nonlin\u001b[0m\n",
      "\u001b[32m[03 Feb 2017 18h06m11s][INFO] Transfering parameters from mixed_4_l3_4_pad_conv\u001b[0m\n",
      "\u001b[32m[03 Feb 2017 18h06m11s][INFO] Transfering parameters from mixed_3_l2_2_pad_conv\u001b[0m\n",
      "\u001b[32m[03 Feb 2017 18h06m11s][INFO] Transfering parameters from mixed_7_l3_1_conv_bn_nonlin\u001b[0m\n",
      "\u001b[32m[03 Feb 2017 18h06m11s][INFO] Transfering parameters from mixed_l4_3_conv_bn\u001b[0m\n",
      "\u001b[32m[03 Feb 2017 18h06m11s][INFO] Transfering parameters from mixed_5_l3_3_pad_conv\u001b[0m\n",
      "\u001b[32m[03 Feb 2017 18h06m11s][INFO] Transfering parameters from padding_conv2\u001b[0m\n",
      "\u001b[32m[03 Feb 2017 18h06m11s][INFO] Transfering parameters from mixed_4_l3_3_pad_conv\u001b[0m\n",
      "\u001b[32m[03 Feb 2017 18h06m11s][INFO] Transfering parameters from mixed_9_l2_2b_pad\u001b[0m\n",
      "\u001b[32m[03 Feb 2017 18h06m11s][INFO] Transfering parameters from mixed_5_l3_1_conv_bn\u001b[0m\n",
      "\u001b[32m[03 Feb 2017 18h06m11s][INFO] Transfering parameters from mixed_5_l3_2_pad_conv_bn\u001b[0m\n",
      "\u001b[32m[03 Feb 2017 18h06m11s][INFO] Transfering parameters from mixed_2_l3_2_pad\u001b[0m\n",
      "\u001b[32m[03 Feb 2017 18h06m11s][INFO] Transfering parameters from mixed_5_l3_3_pad\u001b[0m\n",
      "\u001b[32m[03 Feb 2017 18h06m11s][INFO] Transfering parameters from mixed_7_l4_3_conv_bn_nonlin\u001b[0m\n",
      "\u001b[32m[03 Feb 2017 18h06m11s][INFO] Transfering parameters from mixed_10_l3_3b_pad_conv_bn_nonlin\u001b[0m\n",
      "\u001b[32m[03 Feb 2017 18h06m11s][INFO] Transfering parameters from mixed_1_l4_3_conv_bn_nonlin\u001b[0m\n",
      "\u001b[32m[03 Feb 2017 18h06m11s][INFO] Transfering parameters from mixed_6_l3_5_pad_conv_bn_nonlin\u001b[0m\n",
      "\u001b[32m[03 Feb 2017 18h06m11s][INFO] Transfering parameters from mixed_10_l1_1_conv_bn_nonlin\u001b[0m\n",
      "\u001b[32m[03 Feb 2017 18h06m11s][INFO] Transfering parameters from mixed_9_l3_3b_pad\u001b[0m\n",
      "\u001b[32m[03 Feb 2017 18h06m11s][INFO] Transfering parameters from mixed_10_l4_3_conv_bn_nonlin\u001b[0m\n",
      "\u001b[32m[03 Feb 2017 18h06m11s][INFO] Transfering parameters from mixed_10_l3_3a_pad_conv_bn\u001b[0m\n",
      "\u001b[32m[03 Feb 2017 18h06m11s][INFO] Transfering parameters from mixed_5_l3_5_pad_conv\u001b[0m\n",
      "\u001b[32m[03 Feb 2017 18h06m11s][INFO] Transfering parameters from mixed_4_l4_3_conv\u001b[0m\n",
      "\u001b[32m[03 Feb 2017 18h06m11s][INFO] Transfering parameters from mixed_9_l2_2b_pad_conv_bn\u001b[0m\n",
      "\u001b[32m[03 Feb 2017 18h06m11s][INFO] Transfering parameters from mixed_6_l3_3_pad_conv\u001b[0m\n",
      "\u001b[32m[03 Feb 2017 18h06m11s][INFO] Transfering parameters from mixed_7_l2_1_conv_bn\u001b[0m\n",
      "\u001b[32m[03 Feb 2017 18h06m11s][INFO] Transfering parameters from mixed_6_l2_2_pad_conv_bn\u001b[0m\n",
      "\u001b[32m[03 Feb 2017 18h06m11s][INFO] Transfering parameters from mixed_1_l3_1_conv_bn_nonlin\u001b[0m\n",
      "\u001b[32m[03 Feb 2017 18h06m11s][INFO] Transfering parameters from mixed_5_l3_4_pad_conv_bn\u001b[0m\n",
      "\u001b[32m[03 Feb 2017 18h06m11s][INFO] Transfering parameters from mixed_9_l3_1_conv_bn\u001b[0m\n",
      "\u001b[32m[03 Feb 2017 18h06m11s][INFO] Transfering parameters from mixed_2_l3_2_pad_conv_bn\u001b[0m\n",
      "\u001b[32m[03 Feb 2017 18h06m11s][INFO] Transfering parameters from mixed_4_l2_2_pad_conv_bn\u001b[0m\n",
      "\u001b[32m[03 Feb 2017 18h06m11s][INFO] Transfering parameters from mixed_4_14_2\u001b[0m\n",
      "\u001b[32m[03 Feb 2017 18h06m11s][INFO] Transfering parameters from mixed_6_l1_1_conv_bn\u001b[0m\n",
      "\u001b[32m[03 Feb 2017 18h06m11s][INFO] Transfering parameters from mixed_8_l2_1_conv_bn_nonlin\u001b[0m\n",
      "\u001b[32m[03 Feb 2017 18h06m11s][INFO] Transfering parameters from mixed_5_l3_2_pad_conv_bn_nonlin\u001b[0m\n",
      "\u001b[32m[03 Feb 2017 18h06m11s][INFO] Transfering parameters from mixed_6_14_2\u001b[0m\n",
      "\u001b[32m[03 Feb 2017 18h06m11s][INFO] Transfering parameters from mixed_6_14_1\u001b[0m\n",
      "\u001b[32m[03 Feb 2017 18h06m11s][INFO] Transfering parameters from mixed_5_l3_5_pad_conv_bn_nonlin\u001b[0m\n",
      "\u001b[32m[03 Feb 2017 18h06m11s][INFO] Transfering parameters from mixed_4_l4_3_conv_bn_nonlin\u001b[0m\n",
      "\u001b[32m[03 Feb 2017 18h06m11s][INFO] Transfering parameters from mixed_7_l2_1_conv_bn_nonlin\u001b[0m\n",
      "\u001b[32m[03 Feb 2017 18h06m11s][INFO] Transfering parameters from mixed_4_l3_2_pad_conv_bn_nonlin\u001b[0m\n",
      "\u001b[32m[03 Feb 2017 18h06m11s][INFO] Transfering parameters from mixed_6_l3_4_pad\u001b[0m\n",
      "\u001b[32m[03 Feb 2017 18h06m11s][INFO] Transfering parameters from mixed_5_l2_3_pad_conv_bn_nonlin\u001b[0m\n",
      "\u001b[32m[03 Feb 2017 18h06m11s][INFO] Transfering parameters from mixed_l3_3_pad\u001b[0m\n",
      "\u001b[32m[03 Feb 2017 18h06m11s][INFO] Transfering parameters from mixed_9_l4_3_conv_bn_nonlin\u001b[0m\n",
      "\u001b[32m[03 Feb 2017 18h06m11s][INFO] Transfering parameters from mixed_l3_3_pad_conv\u001b[0m\n",
      "\u001b[32m[03 Feb 2017 18h06m11s][INFO] Transfering parameters from mixed_9_14_2\u001b[0m\n",
      "\u001b[32m[03 Feb 2017 18h06m11s][INFO] Transfering parameters from mixed_5_l3_2_pad_conv\u001b[0m\n",
      "\u001b[32m[03 Feb 2017 18h06m11s][INFO] Transfering parameters from mixed_1_l3_1_conv_bn\u001b[0m\n",
      "\u001b[32m[03 Feb 2017 18h06m11s][INFO] Transfering parameters from mixed_5_l2_1_conv\u001b[0m\n",
      "\u001b[32m[03 Feb 2017 18h06m11s][INFO] Transfering parameters from mixed_10_l1_1_conv_bn\u001b[0m\n",
      "\u001b[32m[03 Feb 2017 18h06m11s][INFO] Transfering parameters from mixed_7_l3_5_pad_conv\u001b[0m\n",
      "\u001b[32m[03 Feb 2017 18h06m11s][INFO] Transfering parameters from mixed_1_l3_2_pad_conv_bn_nonlin\u001b[0m\n",
      "\u001b[32m[03 Feb 2017 18h06m11s][INFO] Transfering parameters from mixed_4_l3_4_pad\u001b[0m\n",
      "\u001b[32m[03 Feb 2017 18h06m11s][INFO] Transfering parameters from mixed_7_l3_2_pad_conv\u001b[0m\n",
      "\u001b[32m[03 Feb 2017 18h06m11s][INFO] Transfering parameters from mixed_5_l1_1_conv_bn\u001b[0m\n",
      "\u001b[32m[03 Feb 2017 18h06m11s][INFO] Transfering parameters from mixed_2_l2_1_conv_bn_nonlin\u001b[0m\n",
      "\u001b[32m[03 Feb 2017 18h06m11s][INFO] Transfering parameters from mixed_4_l3_5_pad\u001b[0m\n",
      "\u001b[32m[03 Feb 2017 18h06m11s][INFO] Transfering parameters from mixed_1_l1_1_conv_bn_nonlin\u001b[0m\n",
      "\u001b[32m[03 Feb 2017 18h06m11s][INFO] Transfering parameters from mixed_1_14_2\u001b[0m\n",
      "\u001b[32m[03 Feb 2017 18h06m11s][INFO] Transfering parameters from mixed_10_l2_2b_pad\u001b[0m\n",
      "\u001b[32m[03 Feb 2017 18h06m11s][INFO] Transfering parameters from conv_bn\u001b[0m\n",
      "\u001b[32m[03 Feb 2017 18h06m11s][INFO] Transfering parameters from mixed_7_l1_1_conv_bn\u001b[0m\n",
      "\u001b[32m[03 Feb 2017 18h06m11s][INFO] Transfering parameters from mixed_5_l2_1_conv_bn_nonlin\u001b[0m\n",
      "\u001b[32m[03 Feb 2017 18h06m11s][INFO] Transfering parameters from mixed_2_l3_3_pad_conv_bn\u001b[0m\n",
      "\u001b[32m[03 Feb 2017 18h06m11s][INFO] Transfering parameters from mixed_7_l2_1_conv\u001b[0m\n",
      "\u001b[32m[03 Feb 2017 18h06m11s][INFO] Transfering parameters from mixed_l3_1_conv\u001b[0m\n",
      "\u001b[32m[03 Feb 2017 18h06m11s][INFO] Transfering parameters from mixed_5_l3_4_pad_conv_bn_nonlin\u001b[0m\n",
      "\u001b[32m[03 Feb 2017 18h06m11s][INFO] Transfering parameters from mixed_7_l3_4_pad_conv_bn\u001b[0m\n",
      "\u001b[32m[03 Feb 2017 18h06m11s][INFO] Transfering parameters from mixed_6_l2_1_conv_bn\u001b[0m\n",
      "\u001b[32m[03 Feb 2017 18h06m11s][INFO] Transfering parameters from mixed_4_l3_5_pad_conv_bn_nonlin\u001b[0m\n",
      "\u001b[32m[03 Feb 2017 18h06m11s][INFO] Transfering parameters from mixed_2_l3_3_pad\u001b[0m\n",
      "\u001b[32m[03 Feb 2017 18h06m11s][INFO] Transfering parameters from pool_1\u001b[0m\n",
      "\u001b[32m[03 Feb 2017 18h06m11s][INFO] Transfering parameters from mixed_3_l2_2_pad_conv_bn\u001b[0m\n",
      "\u001b[32m[03 Feb 2017 18h06m11s][INFO] Transfering parameters from mixed_9\u001b[0m\n",
      "\u001b[32m[03 Feb 2017 18h06m11s][INFO] Transfering parameters from mixed_8\u001b[0m\n",
      "\u001b[32m[03 Feb 2017 18h06m11s][INFO] Transfering parameters from mixed_7\u001b[0m\n",
      "\u001b[32m[03 Feb 2017 18h06m11s][INFO] Transfering parameters from mixed_6\u001b[0m\n",
      "\u001b[32m[03 Feb 2017 18h06m11s][INFO] Transfering parameters from mixed_5\u001b[0m\n",
      "\u001b[32m[03 Feb 2017 18h06m11s][INFO] Transfering parameters from mixed_4\u001b[0m\n",
      "\u001b[32m[03 Feb 2017 18h06m11s][INFO] Transfering parameters from mixed_3\u001b[0m\n",
      "\u001b[32m[03 Feb 2017 18h06m11s][INFO] Transfering parameters from mixed_2\u001b[0m\n",
      "\u001b[32m[03 Feb 2017 18h06m11s][INFO] Transfering parameters from mixed_1\u001b[0m\n",
      "\u001b[32m[03 Feb 2017 18h06m11s][INFO] Transfering parameters from mixed_4_l2_1_conv\u001b[0m\n",
      "\u001b[32m[03 Feb 2017 18h06m11s][INFO] Transfering parameters from mixed_5_l2_3_pad_conv_bn\u001b[0m\n",
      "\u001b[32m[03 Feb 2017 18h06m11s][INFO] Transfering parameters from mixed_7_l2_3_pad_conv_bn\u001b[0m\n",
      "\u001b[32m[03 Feb 2017 18h06m11s][INFO] Transfering parameters from mixed_10_l3_3a_pad_conv\u001b[0m\n",
      "\u001b[32m[03 Feb 2017 18h06m11s][INFO] Transfering parameters from mixed_1_l2_2_pad_conv_bn\u001b[0m\n",
      "\u001b[32m[03 Feb 2017 18h06m11s][INFO] Transfering parameters from mixed_9_l4_3_conv_bn\u001b[0m\n",
      "\u001b[32m[03 Feb 2017 18h06m11s][INFO] Transfering parameters from mixed_6_l3_1_conv\u001b[0m\n",
      "\u001b[32m[03 Feb 2017 18h06m11s][INFO] Transfering parameters from mixed_14_1\u001b[0m\n",
      "\u001b[32m[03 Feb 2017 18h06m11s][INFO] Transfering parameters from mixed_14_2\u001b[0m\n",
      "\u001b[32m[03 Feb 2017 18h06m11s][INFO] Transfering parameters from mixed_8_13_1\u001b[0m\n",
      "\u001b[32m[03 Feb 2017 18h06m11s][INFO] Transfering parameters from mixed_7_l3_3_pad_conv_bn_nonlin\u001b[0m\n",
      "\u001b[32m[03 Feb 2017 18h06m11s][INFO] Transfering parameters from mixed_2_l2_1_conv_bn\u001b[0m\n",
      "\u001b[32m[03 Feb 2017 18h06m11s][INFO] Transfering parameters from mixed_6_l2_2_pad\u001b[0m\n",
      "\u001b[32m[03 Feb 2017 18h06m11s][INFO] Transfering parameters from mixed_6_l2_1_conv\u001b[0m\n",
      "\u001b[32m[03 Feb 2017 18h06m11s][INFO] Transfering parameters from conv\u001b[0m\n",
      "\u001b[32m[03 Feb 2017 18h06m11s][INFO] Transfering parameters from mixed_l4_3_conv\u001b[0m\n",
      "\u001b[32m[03 Feb 2017 18h06m11s][INFO] Transfering parameters from mixed_4_l3_5_pad_conv\u001b[0m\n",
      "\u001b[32m[03 Feb 2017 18h06m11s][INFO] Transfering parameters from mixed_4_l3_4_pad_conv_bn\u001b[0m\n",
      "\u001b[32m[03 Feb 2017 18h06m11s][INFO] Transfering parameters from mixed_7_l1_1_conv\u001b[0m\n",
      "\u001b[32m[03 Feb 2017 18h06m11s][INFO] Transfering parameters from mixed_1_l4_3_conv_bn\u001b[0m\n",
      "\u001b[32m[03 Feb 2017 18h06m11s][INFO] Transfering parameters from mixed_l3_1_conv_bn\u001b[0m\n",
      "\u001b[32m[03 Feb 2017 18h06m11s][INFO] Transfering parameters from mixed_l3_2_pad_conv_bn\u001b[0m\n",
      "\u001b[32m[03 Feb 2017 18h06m11s][INFO] Transfering parameters from mixed_2_14_2\u001b[0m\n",
      "\u001b[32m[03 Feb 2017 18h06m11s][INFO] Transfering parameters from mixed_2_14_1\u001b[0m\n",
      "\u001b[32m[03 Feb 2017 18h06m11s][INFO] Transfering parameters from mixed_9_l2_1_conv_bn_nonlin\u001b[0m\n",
      "\u001b[32m[03 Feb 2017 18h06m11s][INFO] Transfering parameters from mixed_6_l3_1_conv_bn\u001b[0m\n",
      "\u001b[32m[03 Feb 2017 18h06m11s][INFO] Transfering parameters from mixed_4_l2_2_pad_conv_bn_nonlin\u001b[0m\n",
      "\u001b[32m[03 Feb 2017 18h06m11s][INFO] Transfering parameters from mixed_7_l3_4_pad_conv_bn_nonlin\u001b[0m\n",
      "\u001b[32m[03 Feb 2017 18h06m11s][INFO] Transfering parameters from mixed_6_l2_1_conv_bn_nonlin\u001b[0m\n",
      "\u001b[32m[03 Feb 2017 18h06m11s][INFO] Transfering parameters from mixed_10_l2_1_conv_bn\u001b[0m\n",
      "\u001b[32m[03 Feb 2017 18h06m11s][INFO] Transfering parameters from mixed_10_l2_2a_pad_conv_bn_nonlin\u001b[0m\n",
      "\u001b[32m[03 Feb 2017 18h06m11s][INFO] Transfering parameters from mixed_5_l2_2_pad_conv\u001b[0m\n",
      "\u001b[32m[03 Feb 2017 18h06m11s][INFO] Transfering parameters from mixed_6_l3_5_pad_conv_bn\u001b[0m\n",
      "\u001b[32m[03 Feb 2017 18h06m11s][INFO] Transfering parameters from mixed_9_l2_1_conv\u001b[0m\n",
      "\u001b[32m[03 Feb 2017 18h06m11s][INFO] Transfering parameters from mixed_9_l1_1_conv_bn_nonlin\u001b[0m\n",
      "\u001b[32m[03 Feb 2017 18h06m11s][INFO] Transfering parameters from mixed_2_l3_1_conv\u001b[0m\n",
      "\u001b[32m[03 Feb 2017 18h06m11s][INFO] Transfering parameters from mixed_9_l1_1_conv\u001b[0m\n",
      "\u001b[32m[03 Feb 2017 18h06m11s][INFO] Transfering parameters from mixed_5_l1_1_conv_bn_nonlin\u001b[0m\n",
      "\u001b[32m[03 Feb 2017 18h06m11s][INFO] Transfering parameters from mixed_10_l3_2_pad_conv_bn\u001b[0m\n",
      "\u001b[32m[03 Feb 2017 18h06m11s][INFO] Transfering parameters from mixed_2_l2_2_pad_conv\u001b[0m\n",
      "\u001b[32m[03 Feb 2017 18h06m11s][INFO] Transfering parameters from mixed_2_l2_2_pad\u001b[0m\n",
      "\u001b[32m[03 Feb 2017 18h06m11s][INFO] Transfering parameters from mixed_5_l2_3_pad\u001b[0m\n",
      "\u001b[32m[03 Feb 2017 18h06m11s][INFO] Transfering parameters from mixed_8_l1_2_conv_bn_nonlin\u001b[0m\n",
      "\u001b[32m[03 Feb 2017 18h06m11s][INFO] Transfering parameters from mixed_6_l3_2_pad_conv\u001b[0m\n",
      "\u001b[32m[03 Feb 2017 18h06m11s][INFO] Transfering parameters from mixed_7_l3_3_pad_conv_bn\u001b[0m\n",
      "\u001b[32m[03 Feb 2017 18h06m11s][INFO] Transfering parameters from mixed_9_l3_3b_pad_conv_bn_nonlin\u001b[0m\n",
      "\u001b[32m[03 Feb 2017 18h06m11s][INFO] Transfering parameters from mixed_4_l1_1_conv_bn\u001b[0m\n",
      "\u001b[32m[03 Feb 2017 18h06m11s][INFO] Transfering parameters from mixed_4_l3_2_pad_conv\u001b[0m\n",
      "\u001b[32m[03 Feb 2017 18h06m11s][INFO] Transfering parameters from mixed_4_l2_1_conv_bn_nonlin\u001b[0m\n",
      "\u001b[32m[03 Feb 2017 18h06m11s][INFO] Transfering parameters from mixed_7_l3_5_pad\u001b[0m\n",
      "\u001b[32m[03 Feb 2017 18h06m11s][INFO] Transfering parameters from mixed_l3_3_pad_conv_bn_nonlin\u001b[0m\n",
      "\u001b[32m[03 Feb 2017 18h06m11s][INFO] Transfering parameters from mixed_9_l3_1_conv_bn_nonlin\u001b[0m\n",
      "\u001b[32m[03 Feb 2017 18h06m11s][INFO] Transfering parameters from mixed_5_l3_5_pad\u001b[0m\n",
      "\u001b[32m[03 Feb 2017 18h06m11s][INFO] Transfering parameters from mixed_3_l2_1_conv_bn_nonlin\u001b[0m\n",
      "\u001b[32m[03 Feb 2017 18h06m11s][INFO] Transfering parameters from mixed_8_l2_1_conv\u001b[0m\n",
      "\u001b[32m[03 Feb 2017 18h06m11s][INFO] Transfering parameters from mixed_4_l1_1_conv_bn_nonlin\u001b[0m\n",
      "\u001b[32m[03 Feb 2017 18h06m11s][INFO] Transfering parameters from mixed_10_l2_2b_pad_conv_bn\u001b[0m\n",
      "\u001b[32m[03 Feb 2017 18h06m11s][INFO] Transfering parameters from mixed_10_l2_1_conv\u001b[0m\n",
      "\u001b[34m[03 Feb 2017 18h06m11s][WARNING] Ignoring weights from prob\u001b[0m\n",
      "\u001b[32m[03 Feb 2017 18h06m11s][INFO] Transfering parameters from mixed_4_l3_3_pad\u001b[0m\n",
      "\u001b[32m[03 Feb 2017 18h06m11s][INFO] Transfering parameters from mixed_6_l3_2_pad_conv_bn\u001b[0m\n",
      "\u001b[32m[03 Feb 2017 18h06m11s][INFO] Transfering parameters from mixed_9_l4_3_conv\u001b[0m\n",
      "\u001b[32m[03 Feb 2017 18h06m11s][INFO] Transfering parameters from mixed_5_14_2\u001b[0m\n",
      "\u001b[32m[03 Feb 2017 18h06m11s][INFO] Transfering parameters from mixed_l3_2_pad\u001b[0m\n",
      "\u001b[32m[03 Feb 2017 18h06m11s][INFO] Transfering parameters from mixed_5_14_1\u001b[0m\n",
      "\u001b[32m[03 Feb 2017 18h06m11s][INFO] Transfering parameters from mixed_4_l4_3_conv_bn\u001b[0m\n",
      "\u001b[32m[03 Feb 2017 18h06m11s][INFO] Transfering parameters from mixed_5_l3_5_pad_conv_bn\u001b[0m\n",
      "\u001b[32m[03 Feb 2017 18h06m11s][INFO] Transfering parameters from mixed_9_l3_1_conv\u001b[0m\n",
      "\u001b[32m[03 Feb 2017 18h06m11s][INFO] Transfering parameters from mixed_4_l2_1_conv_bn\u001b[0m\n",
      "\u001b[32m[03 Feb 2017 18h06m11s][INFO] Transfering parameters from mixed\u001b[0m\n",
      "\u001b[32m[03 Feb 2017 18h06m11s][INFO] Transfering parameters from mixed_3_l2_2_pad\u001b[0m\n",
      "\u001b[32m[03 Feb 2017 18h06m11s][INFO] Transfering parameters from mixed_6_l1_1_conv\u001b[0m\n",
      "\u001b[32m[03 Feb 2017 18h06m11s][INFO] Transfering parameters from mixed_7_l2_2_pad_conv\u001b[0m\n",
      "\u001b[32m[03 Feb 2017 18h06m11s][INFO] Transfering parameters from mixed_l1_1_conv_bn_nonlin\u001b[0m\n",
      "\u001b[32m[03 Feb 2017 18h06m11s][INFO] Transfering parameters from mixed_3_l2_3_conv_bn\u001b[0m\n",
      "\u001b[32m[03 Feb 2017 18h06m11s][INFO] Transfering parameters from mixed_l2_1_conv_bn\u001b[0m\n",
      "\u001b[32m[03 Feb 2017 18h06m11s][INFO] Transfering parameters from mixed_2_l3_3_pad_conv_bn_nonlin\u001b[0m\n",
      "\u001b[32m[03 Feb 2017 18h06m11s][INFO] Transfering parameters from mixed_8_l2_3_pad_conv_bn_nonlin\u001b[0m\n",
      "\u001b[32m[03 Feb 2017 18h06m11s][INFO] Transfering parameters from mixed_5_l3_2_pad\u001b[0m\n",
      "\u001b[32m[03 Feb 2017 18h06m11s][INFO] Transfering parameters from mixed_8_l2_4_conv_bn\u001b[0m\n",
      "\u001b[32m[03 Feb 2017 18h06m11s][INFO] Transfering parameters from mixed_8_l1_2_conv\u001b[0m\n",
      "\u001b[32m[03 Feb 2017 18h06m11s][INFO] Transfering parameters from mixed_8_l2_4_conv\u001b[0m\n",
      "\u001b[32m[03 Feb 2017 18h06m11s][INFO] Transfering parameters from mixed_10_l3_3a_pad\u001b[0m\n",
      "\u001b[32m[03 Feb 2017 18h06m11s][INFO] Transfering parameters from mixed_7_l2_2_pad_conv_bn_nonlin\u001b[0m\n",
      "\u001b[32m[03 Feb 2017 18h06m11s][INFO] Transfering parameters from mixed_6_l4_3_conv_bn_nonlin\u001b[0m\n",
      "\u001b[32m[03 Feb 2017 18h06m11s][INFO] Transfering parameters from mixed_7_l3_3_pad\u001b[0m\n",
      "\u001b[32m[03 Feb 2017 18h06m11s][INFO] Transfering parameters from mixed_7_l3_3_pad_conv\u001b[0m\n",
      "\u001b[32m[03 Feb 2017 18h06m11s][INFO] Transfering parameters from mixed_6_l3_3_pad\u001b[0m\n",
      "\u001b[32m[03 Feb 2017 18h06m11s][INFO] Transfering parameters from mixed_9_l3_3a_pad\u001b[0m\n",
      "\u001b[32m[03 Feb 2017 18h06m11s][INFO] Transfering parameters from mixed_7_l2_2_pad\u001b[0m\n",
      "\u001b[32m[03 Feb 2017 18h06m11s][INFO] Transfering parameters from mixed_3_13_1\u001b[0m\n",
      "\u001b[32m[03 Feb 2017 18h06m11s][INFO] Transfering parameters from mixed_8_l2_2_pad_conv_bn\u001b[0m\n",
      "\u001b[32m[03 Feb 2017 18h06m11s][INFO] Transfering parameters from mixed_9_l3_3a_pad_conv_bn\u001b[0m\n",
      "\u001b[32m[03 Feb 2017 18h06m11s][INFO] Transfering parameters from mixed_3_l2_2_pad_conv_bn_nonlin\u001b[0m\n",
      "\u001b[32m[03 Feb 2017 18h06m11s][INFO] Transfering parameters from mixed_5_l3_4_pad_conv\u001b[0m\n",
      "\u001b[32m[03 Feb 2017 18h06m11s][INFO] Transfering parameters from mixed_l2_2_pad\u001b[0m\n",
      "\u001b[32m[03 Feb 2017 18h06m11s][INFO] Transfering parameters from mixed_7_l3_4_pad\u001b[0m\n",
      "\u001b[32m[03 Feb 2017 18h06m11s][INFO] Transfering parameters from mixed_2_l1_1_conv_bn_nonlin\u001b[0m\n",
      "\u001b[32m[03 Feb 2017 18h06m11s][INFO] Transfering parameters from mixed_5_l1_1_conv\u001b[0m\n",
      "\u001b[32m[03 Feb 2017 18h06m11s][INFO] Transfering parameters from mixed_1_l3_2_pad_conv\u001b[0m\n",
      "\u001b[32m[03 Feb 2017 18h06m11s][INFO] Transfering parameters from mixed_6_l3_5_pad_conv\u001b[0m\n",
      "\u001b[32m[03 Feb 2017 18h06m11s][INFO] Transfering parameters from mixed_9_l2_2a_pad_conv\u001b[0m\n",
      "\u001b[32m[03 Feb 2017 18h06m11s][INFO] Transfering parameters from mixed_9_l3_2_pad\u001b[0m\n",
      "\u001b[32m[03 Feb 2017 18h06m11s][INFO] Transfering parameters from mixed_l2_2_pad_conv_bn_nonlin\u001b[0m\n",
      "\u001b[32m[03 Feb 2017 18h06m11s][INFO] Transfering parameters from mixed_10_l4_3_conv\u001b[0m\n",
      "\u001b[32m[03 Feb 2017 18h06m11s][INFO] Transfering parameters from mixed_9_l3_3b_pad_conv\u001b[0m\n",
      "\u001b[32m[03 Feb 2017 18h06m11s][INFO] Transfering parameters from mixed_4_l3_1_conv_bn\u001b[0m\n",
      "\u001b[32m[03 Feb 2017 18h06m11s][INFO] Transfering parameters from pool\u001b[0m\n",
      "\u001b[32m[03 Feb 2017 18h06m11s][INFO] Transfering parameters from mixed_7_l2_2_pad_conv_bn\u001b[0m\n",
      "\u001b[32m[03 Feb 2017 18h06m11s][INFO] Transfering parameters from mixed_7_l2_3_pad_conv_bn_nonlin\u001b[0m\n",
      "\u001b[32m[03 Feb 2017 18h06m11s][INFO] Transfering parameters from mixed_5_l3_1_conv_bn_nonlin\u001b[0m\n",
      "\u001b[32m[03 Feb 2017 18h06m11s][INFO] Transfering parameters from mixed_5_l3_4_pad\u001b[0m\n",
      "\u001b[32m[03 Feb 2017 18h06m11s][INFO] Transfering parameters from mixed_10_l3_3b_pad\u001b[0m\n",
      "\u001b[32m[03 Feb 2017 18h06m11s][INFO] Transfering parameters from mixed_5_l2_2_pad\u001b[0m\n",
      "\u001b[32m[03 Feb 2017 18h06m11s][INFO] Transfering parameters from mixed_10_14_1\u001b[0m\n",
      "\u001b[32m[03 Feb 2017 18h06m11s][INFO] Transfering parameters from mixed_1_l4_3_conv\u001b[0m\n",
      "\u001b[32m[03 Feb 2017 18h06m11s][INFO] Transfering parameters from mixed_10_14_2\u001b[0m\n",
      "\u001b[32m[03 Feb 2017 18h06m11s][INFO] {'W_constraint': None, 'b_constraint': None, 'name': 'Dense', 'custom_name': 'softmax', 'activity_regularizer': None, 'trainable': True, 'cache_enabled': True, 'init': 'glorot_uniform', 'activation': 'linear', 'input_dim': None, 'b_regularizer': None, 'W_regularizer': None, 'output_dim': 7735}\u001b[0m\n",
      "\u001b[32m[03 Feb 2017 18h06m12s][INFO] Weights Initalized from /nas2/praveen/home/rnd-libs/rnd_libs/lib/keras/model-full-conv.npy\u001b[0m\n",
      "\u001b[32m[03 Feb 2017 18h06m12s][INFO] Trainable Layer: batchnorm\u001b[0m\n",
      "\u001b[32m[03 Feb 2017 18h06m12s][INFO] Trainable Layer: partClassifiers\u001b[0m\n",
      "\u001b[32m[03 Feb 2017 18h06m12s][INFO] Trainable Layer: relu_on_partClassifiers\u001b[0m\n",
      "\u001b[32m[03 Feb 2017 18h06m12s][INFO] Trainable Layer: custom_pool\u001b[0m\n",
      "\u001b[32m[03 Feb 2017 18h06m12s][INFO] Trainable Layer: flatten\u001b[0m\n",
      "\u001b[32m[03 Feb 2017 18h06m12s][INFO] Trainable Layer: softmax\u001b[0m\n",
      "\u001b[32m[03 Feb 2017 18h06m12s][INFO] Trainable Layer: prob\u001b[0m\n"
     ]
    },
    {
     "name": "stderr",
     "output_type": "stream",
     "text": [
      "/home/praveen/anaconda2/envs/harsimrat-code/lib/python2.7/site-packages/keras/backend/theano_backend.py:788: UserWarning: DEPRECATION: the 'ds' parameter is not going to exist anymore as it is going to be replaced by the parameter 'ws'.\n",
      "  mode='max')\n",
      "/home/praveen/anaconda2/envs/harsimrat-code/lib/python2.7/site-packages/keras/backend/theano_backend.py:788: UserWarning: DEPRECATION: the 'st' parameter is not going to exist anymore as it is going to be replaced by the parameter 'stride'.\n",
      "  mode='max')\n",
      "/home/praveen/anaconda2/envs/harsimrat-code/lib/python2.7/site-packages/keras/backend/theano_backend.py:788: UserWarning: DEPRECATION: the 'padding' parameter is not going to exist anymore as it is going to be replaced by the parameter 'pad'.\n",
      "  mode='max')\n",
      "/home/praveen/anaconda2/envs/harsimrat-code/lib/python2.7/site-packages/keras/backend/theano_backend.py:793: UserWarning: DEPRECATION: the 'ds' parameter is not going to exist anymore as it is going to be replaced by the parameter 'ws'.\n",
      "  mode='average_exc_pad')\n",
      "/home/praveen/anaconda2/envs/harsimrat-code/lib/python2.7/site-packages/keras/backend/theano_backend.py:793: UserWarning: DEPRECATION: the 'st' parameter is not going to exist anymore as it is going to be replaced by the parameter 'stride'.\n",
      "  mode='average_exc_pad')\n",
      "/home/praveen/anaconda2/envs/harsimrat-code/lib/python2.7/site-packages/keras/backend/theano_backend.py:793: UserWarning: DEPRECATION: the 'padding' parameter is not going to exist anymore as it is going to be replaced by the parameter 'pad'.\n",
      "  mode='average_exc_pad')\n"
     ]
    },
    {
     "name": "stdout",
     "output_type": "stream",
     "text": [
      "\u001b[32m[03 Feb 2017 18h12m20s][INFO] Processing /nas2/datasets/getty-collection/getty-all/87033390.png (3, 779, 779)\u001b[0m\n",
      "\u001b[32m[03 Feb 2017 18h12m20s][INFO] Processing /nas2/datasets/getty-concept-sourcing/Getty Concept Sourcing/mexican culture/527978255.jpg (3, 779, 779)\u001b[0m\n"
     ]
    },
    {
     "data": {
      "text/plain": [
       "-1.0"
      ]
     },
     "execution_count": 2,
     "metadata": {},
     "output_type": "execute_result"
    }
   ],
   "source": [
    "#%debug\n",
    "trainer_type = 'concepts'\n",
    "trainer = trainer_dict[trainer_type]('./configs/experiment_FCN.yaml', True)\n",
    "trainer.see_model()\n",
    "filenames=['/nas/datasets/getty-collection/getty-all/87033390.png', '/nas/datasets/getty-concept-sourcing/Getty Concept Sourcing/mexican culture/527978255.jpg']\n",
    "# trainer.load_mean_file()\n",
    "# trainer.im_h=779\n",
    "# trainer.im_w=779\n",
    "# trainer.load_synset_file()\n",
    "images=trainer.fetch_images(filenames)\n",
    "import numpy as np\n",
    "np.min(images[0])\n",
    "\n",
    "#tester = tester_dict[trainer_type]('./configs/experiment_FCN.yaml', True)"
   ]
  },
  {
   "cell_type": "code",
   "execution_count": null,
   "metadata": {
    "collapsed": false
   },
   "outputs": [],
   "source": [
    "from keras import backend as K\n",
    "from keras.layers import Layer\n",
    "from keras.layers.convolutional import Convolution2D, MaxPooling2D, ZeroPadding2D, AveragePooling2D\n",
    "\n",
    "\n",
    "# def power_mean_betas(input,p,along_axis):\n",
    "#     #return T.max(x,axis=1) * (1.0**p)\n",
    "#     temp=K.reshape(input* p[None,:,None,None], (input.shape[0]*input.shape[1], input.shape[2]*input.shape[3]))\n",
    "#     x=K.reshape(input, (input.shape[0]*input.shape[1], input.shape[2]*input.shape[3]))\n",
    "#     output = K.sum(K.theano.tensor.nnet.softmax(temp) * x , axis=along_axis)\n",
    "#     return K.reshape(output,(input.shape[0], input.shape[1],1))\n",
    "# def power_mean_betas(input,p,along_axis):\n",
    "#     #return T.max(x,axis=1) * (1.0**p)\n",
    "#     return input * 100\n",
    "\n",
    "\n",
    "# class power_mean_Layer(Layer):\n",
    "#     def __init__(self, betas, **kwargs):\n",
    "#         self.betas = betas\n",
    "#         super(power_mean_Layer, self).__init__(**kwargs)\n",
    "#     def call(self, x, mask=None):    \n",
    "#         return K.sum(x)\n",
    "#     def get_output_shape_for(self, input_shape):\n",
    "#         return (input_shape[0], input_shape[1],1)\n",
    "    \n",
    "# class Antirectifier(Layer):\n",
    "#     def __init__(self, **kwargs):\n",
    "#         super(Antirectifier, self).__init__(**kwargs)\n",
    "#     def output_shape(self):\n",
    "#         input_shape=self.input_shape\n",
    "#         return input_shape\n",
    "#     def get_output(self, train=False):\n",
    "#         X=self.get_input(train)\n",
    "#         return X*100 \n",
    "    \n",
    "# class power_mean_Layer(Layer):\n",
    "#     def __init__(self, betas, **kwargs):\n",
    "#         self.betas = betas\n",
    "#         super(power_mean_Layer, self).__init__(**kwargs)\n",
    "#     def get_output(self, train=False):  \n",
    "#         x=self.get_input(train)\n",
    "#         return power_mean_betas(x,self.betas,1)\n",
    "#     def output_shape(self):\n",
    "#         input_shape=self.input_shape\n",
    "#         return (input_shape[0], input_shape[1],1)"
   ]
  },
  {
   "cell_type": "code",
   "execution_count": null,
   "metadata": {
    "collapsed": false
   },
   "outputs": [],
   "source": [
    "#from keras.models import Sequential, Graph\n",
    "import keras\n",
    "from keras import backend as K\n",
    "from rnd_libs.lib.keras.custom_keras_layers import power_mean_Layer,global_Average_Pooling\n",
    "from keras.layers.convolutional import Convolution2D, MaxPooling2D, ZeroPadding2D, AveragePooling2D\n",
    "import random\n",
    "from keras.layers.core import Activation, Dense, Reshape, Flatten\n",
    "import numpy as np\n",
    "def random_float(low, high,N):\n",
    "    arr=[]\n",
    "    for i in range(N):\n",
    "        arr.append(random.random()*(high-low) + low)\n",
    "    return np.array(arr)\n",
    "betas=random_float(0,20,9000)\n",
    "from numpy import float32\n",
    "betas=float32(betas)\n",
    "#betas=np.array([20.0,0.0])"
   ]
  },
  {
   "cell_type": "code",
   "execution_count": null,
   "metadata": {
    "collapsed": false
   },
   "outputs": [],
   "source": [
    "from keras.models import Graph,Sequential\n",
    "from IPython.core.debugger import Tracer\n",
    "model=Graph()\n",
    "#model.add(input_shape=(None,2,2,2))\n",
    "model.add_input(name='input',input_shape=(2,2,2))\n",
    "\n",
    "model.add_node(Convolution2D(9000,1,1), name='conv',input='input')\n",
    "#model.add_node(power_mean_Layer(betas),name='custom_pool',input='conv')\n",
    "\n",
    "model.add_node(global_Average_Pooling(),name='custom_pool',input='input')\n",
    "model.add_node(Flatten(), name='flatten', input='custom_pool')\n",
    "\n",
    "model.add_node(Dense(100), name='softmax', input='flatten')\n",
    "model.add_output(name='output', input='softmax')\n",
    "\n",
    "#model=Sequential()\n",
    "#model.add(input_shape=(None,2,2,2))\n",
    "#model.add(name='input',input_shape=(2,2,2))\n",
    "\n",
    "# model.add(Convolution2D(9000,1,1,input_shape=(2,2,2)))\n",
    "# model.add(power_mean_Layer(betas))\n",
    "# model.add(Flatten())\n",
    "#model.add(Dense(100))\n",
    "#model.add_output(name='output', input='conv')\n",
    "\n",
    "\n",
    "\n",
    "#model.add(Antirectifier(input_shape=(2,2,2)))\n",
    "#model.add(Flatten(input_shape=(2,2,2)))\n",
    "\n",
    "#f=K.function([model.input], model.output)\n",
    "f=K.theano.function([model.input], model.nodes['custom_pool'].get_output())\n",
    "#f=K.function([model.layers[0]])"
   ]
  },
  {
   "cell_type": "code",
   "execution_count": null,
   "metadata": {
    "collapsed": false,
    "scrolled": true
   },
   "outputs": [],
   "source": [
    "import numpy as np\n",
    "B = np.random.random((2,2,2,2))\n",
    "B=B.astype(np.float32)\n",
    "#f(B).shape\n",
    "#model.predict(B)\n",
    "B.shape\n",
    "# B.mean(axis=[2,3]).shape"
   ]
  },
  {
   "cell_type": "code",
   "execution_count": null,
   "metadata": {
    "collapsed": false
   },
   "outputs": [],
   "source": [
    "f(B)"
   ]
  },
  {
   "cell_type": "code",
   "execution_count": null,
   "metadata": {
    "collapsed": false
   },
   "outputs": [],
   "source": [
    "B"
   ]
  },
  {
   "cell_type": "code",
   "execution_count": null,
   "metadata": {
    "collapsed": false
   },
   "outputs": [],
   "source": [
    "model.compile(loss='categorical_crossentropy', optimizer='sgd')\n",
    "model.evaluate(B)"
   ]
  },
  {
   "cell_type": "code",
   "execution_count": null,
   "metadata": {
    "collapsed": false
   },
   "outputs": [],
   "source": [
    "model.layers[0].get_"
   ]
  },
  {
   "cell_type": "code",
   "execution_count": null,
   "metadata": {
    "collapsed": true
   },
   "outputs": [],
   "source": []
  },
  {
   "cell_type": "code",
   "execution_count": null,
   "metadata": {
    "collapsed": false
   },
   "outputs": [],
   "source": [
    "Flatten.__doc__\n"
   ]
  },
  {
   "cell_type": "code",
   "execution_count": null,
   "metadata": {
    "collapsed": false
   },
   "outputs": [],
   "source": [
    "from rnd_libs.lib.keras.custom_keras_layers import power_mean_Layer"
   ]
  },
  {
   "cell_type": "code",
   "execution_count": null,
   "metadata": {
    "collapsed": true
   },
   "outputs": [],
   "source": [
    "import keras\n"
   ]
  },
  {
   "cell_type": "code",
   "execution_count": null,
   "metadata": {
    "collapsed": false
   },
   "outputs": [],
   "source": [
    "power_mean_Layer.get_output()"
   ]
  },
  {
   "cell_type": "code",
   "execution_count": null,
   "metadata": {
    "collapsed": false
   },
   "outputs": [],
   "source": [
    "f=K.function([model.input], model.get_output(train=False))"
   ]
  },
  {
   "cell_type": "code",
   "execution_count": null,
   "metadata": {
    "collapsed": false
   },
   "outputs": [],
   "source": [
    "model.output"
   ]
  },
  {
   "cell_type": "code",
   "execution_count": null,
   "metadata": {
    "collapsed": false
   },
   "outputs": [],
   "source": [
    "model.get_output_shape_at(1)"
   ]
  },
  {
   "cell_type": "code",
   "execution_count": null,
   "metadata": {
    "collapsed": false
   },
   "outputs": [],
   "source": [
    "model.input"
   ]
  },
  {
   "cell_type": "code",
   "execution_count": null,
   "metadata": {
    "collapsed": false
   },
   "outputs": [],
   "source": [
    "model.input"
   ]
  },
  {
   "cell_type": "code",
   "execution_count": null,
   "metadata": {
    "collapsed": false
   },
   "outputs": [],
   "source": [
    "import keras\n",
    "print keras.__version__"
   ]
  },
  {
   "cell_type": "code",
   "execution_count": null,
   "metadata": {
    "collapsed": false
   },
   "outputs": [],
   "source": [
    "betas"
   ]
  },
  {
   "cell_type": "code",
   "execution_count": null,
   "metadata": {
    "collapsed": false
   },
   "outputs": [],
   "source": [
    "betas.dtype"
   ]
  },
  {
   "cell_type": "code",
   "execution_count": null,
   "metadata": {
    "collapsed": false
   },
   "outputs": [],
   "source": [
    "from numpy import float32\n",
    "\n",
    "float32(betas)."
   ]
  },
  {
   "cell_type": "code",
   "execution_count": null,
   "metadata": {
    "collapsed": false
   },
   "outputs": [],
   "source": [
    "model.layers[1].output\n"
   ]
  },
  {
   "cell_type": "code",
   "execution_count": null,
   "metadata": {
    "collapsed": false
   },
   "outputs": [],
   "source": [
    "model.output"
   ]
  },
  {
   "cell_type": "code",
   "execution_count": null,
   "metadata": {
    "collapsed": false
   },
   "outputs": [],
   "source": [
    "f([B]).shape"
   ]
  },
  {
   "cell_type": "code",
   "execution_count": null,
   "metadata": {
    "collapsed": false
   },
   "outputs": [],
   "source": [
    "f([B]).shape"
   ]
  },
  {
   "cell_type": "code",
   "execution_count": null,
   "metadata": {
    "collapsed": true
   },
   "outputs": [],
   "source": [
    "import theano"
   ]
  },
  {
   "cell_type": "code",
   "execution_count": null,
   "metadata": {
    "collapsed": false
   },
   "outputs": [],
   "source": [
    "theano.__version__"
   ]
  },
  {
   "cell_type": "code",
   "execution_count": null,
   "metadata": {
    "collapsed": true
   },
   "outputs": [],
   "source": []
  },
  {
   "cell_type": "code",
   "execution_count": null,
   "metadata": {
    "collapsed": false
   },
   "outputs": [],
   "source": [
    "model.get_weights()"
   ]
  },
  {
   "cell_type": "code",
   "execution_count": null,
   "metadata": {
    "collapsed": false
   },
   "outputs": [],
   "source": [
    "import keras\n",
    "keras.__version__"
   ]
  },
  {
   "cell_type": "code",
   "execution_count": null,
   "metadata": {
    "collapsed": false
   },
   "outputs": [],
   "source": [
    "model.get_output()"
   ]
  },
  {
   "cell_type": "code",
   "execution_count": null,
   "metadata": {
    "collapsed": false
   },
   "outputs": [],
   "source": [
    "model.summary()"
   ]
  },
  {
   "cell_type": "code",
   "execution_count": null,
   "metadata": {
    "collapsed": false
   },
   "outputs": [],
   "source": [
    "9000*100"
   ]
  },
  {
   "cell_type": "code",
   "execution_count": null,
   "metadata": {
    "collapsed": false
   },
   "outputs": [],
   "source": [
    "18000+9000"
   ]
  },
  {
   "cell_type": "code",
   "execution_count": null,
   "metadata": {
    "collapsed": false
   },
   "outputs": [],
   "source": [
    "9000*7735 + 7735"
   ]
  },
  {
   "cell_type": "code",
   "execution_count": null,
   "metadata": {
    "collapsed": false
   },
   "outputs": [],
   "source": [
    "tester.conn"
   ]
  },
  {
   "cell_type": "code",
   "execution_count": null,
   "metadata": {
    "collapsed": true
   },
   "outputs": [],
   "source": [
    "str='/nas/datasets/getty-collection/getty-all/81329250.png'"
   ]
  },
  {
   "cell_type": "code",
   "execution_count": null,
   "metadata": {
    "collapsed": false
   },
   "outputs": [],
   "source": [
    "\n",
    "str=str.replace('/nas/','/nas2/')"
   ]
  },
  {
   "cell_type": "code",
   "execution_count": null,
   "metadata": {
    "collapsed": false
   },
   "outputs": [],
   "source": [
    "str"
   ]
  },
  {
   "cell_type": "code",
   "execution_count": null,
   "metadata": {
    "collapsed": false
   },
   "outputs": [],
   "source": [
    "len(B)"
   ]
  },
  {
   "cell_type": "code",
   "execution_count": null,
   "metadata": {
    "collapsed": false
   },
   "outputs": [],
   "source": [
    "trainer.model_config_file"
   ]
  },
  {
   "cell_type": "code",
   "execution_count": 3,
   "metadata": {
    "collapsed": false
   },
   "outputs": [],
   "source": [
    "model=trainer.trainer.model"
   ]
  },
  {
   "cell_type": "code",
   "execution_count": 4,
   "metadata": {
    "collapsed": false
   },
   "outputs": [
    {
     "name": "stdout",
     "output_type": "stream",
     "text": [
      "--------------------------------------------------------------------------------\n",
      "Layer (name)                  Output Shape                  Param #             \n",
      "--------------------------------------------------------------------------------\n",
      "Layer (input)                 (None, 3, None, None)         0                   \n",
      "Convolution2D (conv)          (None, 32, None, None)        896                 \n",
      "BatchNormalization (conv_bn)  (None, 32, None, None)        64                  \n",
      "Activation (conv_nonlin)      (None, 32, None, None)        0                   \n",
      "Convolution2D (conv_1)        (None, 32, None, None)        9248                \n",
      "BatchNormalization (conv_bn_1)(None, 32, None, None)        64                  \n",
      "Activation (conv_nonlin_1)    (None, 32, None, None)        0                   \n",
      "ZeroPadding2D (padding_conv2) (None, 32, None, None)        0                   \n",
      "Convolution2D (conv_2)        (None, 64, None, None)        18496               \n",
      "BatchNormalization (conv_bn_2)(None, 64, None, None)        128                 \n",
      "Activation (conv_nonlin_2)    (None, 64, None, None)        0                   \n",
      "MaxPooling2D (pool)           (None, 64, None, None)        0                   \n",
      "Convolution2D (conv_3)        (None, 80, None, None)        5200                \n",
      "BatchNormalization (conv_bn_3)(None, 80, None, None)        160                 \n",
      "Activation (conv_nonlin_3)    (None, 80, None, None)        0                   \n",
      "Convolution2D (conv_4)        (None, 192, None, None)       138432              \n",
      "BatchNormalization (conv_bn_4)(None, 192, None, None)       384                 \n",
      "Activation (conv_nonlin_4)    (None, 192, None, None)       0                   \n",
      "MaxPooling2D (pool_1)         (None, 192, None, None)       0                   \n",
      "Convolution2D (mixed_l1_1_conv(None, 64, None, None)        12352               \n",
      "BatchNormalization (mixed_l1_1(None, 64, None, None)        128                 \n",
      "Activation (mixed_l1_1_conv_bn(None, 64, None, None)        0                   \n",
      "Convolution2D (mixed_l2_1_conv(None, 48, None, None)        9264                \n",
      "BatchNormalization (mixed_l2_1(None, 48, None, None)        96                  \n",
      "Activation (mixed_l2_1_conv_bn(None, 48, None, None)        0                   \n",
      "ZeroPadding2D (mixed_l2_2_pad)(None, 48, None, None)        0                   \n",
      "Convolution2D (mixed_l2_2_pad_(None, 64, None, None)        76864               \n",
      "BatchNormalization (mixed_l2_2(None, 64, None, None)        128                 \n",
      "Activation (mixed_l2_2_pad_con(None, 64, None, None)        0                   \n",
      "Convolution2D (mixed_l3_1_conv(None, 64, None, None)        12352               \n",
      "BatchNormalization (mixed_l3_1(None, 64, None, None)        128                 \n",
      "Activation (mixed_l3_1_conv_bn(None, 64, None, None)        0                   \n",
      "ZeroPadding2D (mixed_l3_2_pad)(None, 64, None, None)        0                   \n",
      "Convolution2D (mixed_l3_2_pad_(None, 96, None, None)        55392               \n",
      "BatchNormalization (mixed_l3_2(None, 96, None, None)        192                 \n",
      "Activation (mixed_l3_2_pad_con(None, 96, None, None)        0                   \n",
      "ZeroPadding2D (mixed_l3_3_pad)(None, 96, None, None)        0                   \n",
      "Convolution2D (mixed_l3_3_pad_(None, 96, None, None)        83040               \n",
      "BatchNormalization (mixed_l3_3(None, 96, None, None)        192                 \n",
      "Activation (mixed_l3_3_pad_con(None, 96, None, None)        0                   \n",
      "ZeroPadding2D (mixed_14_1)    (None, 192, None, None)       0                   \n",
      "AveragePooling2D (mixed_14_2) (None, 192, None, None)       0                   \n",
      "Convolution2D (mixed_l4_3_conv(None, 32, None, None)        6176                \n",
      "BatchNormalization (mixed_l4_3(None, 32, None, None)        64                  \n",
      "Activation (mixed_l4_3_conv_bn(None, 32, None, None)        0                   \n",
      "Activation (mixed)            (None, 256, None, None)       0                   \n",
      "Convolution2D (mixed_1_l1_1_co(None, 64, None, None)        16448               \n",
      "BatchNormalization (mixed_1_l1(None, 64, None, None)        128                 \n",
      "Activation (mixed_1_l1_1_conv_(None, 64, None, None)        0                   \n",
      "Convolution2D (mixed_1_l2_1_co(None, 48, None, None)        12336               \n",
      "BatchNormalization (mixed_1_l2(None, 48, None, None)        96                  \n",
      "Activation (mixed_1_l2_1_conv_(None, 48, None, None)        0                   \n",
      "ZeroPadding2D (mixed_1_l2_2_pa(None, 48, None, None)        0                   \n",
      "Convolution2D (mixed_1_l2_2_pa(None, 64, None, None)        76864               \n",
      "BatchNormalization (mixed_1_l2(None, 64, None, None)        128                 \n",
      "Activation (mixed_1_l2_2_pad_c(None, 64, None, None)        0                   \n",
      "Convolution2D (mixed_1_l3_1_co(None, 64, None, None)        16448               \n",
      "BatchNormalization (mixed_1_l3(None, 64, None, None)        128                 \n",
      "Activation (mixed_1_l3_1_conv_(None, 64, None, None)        0                   \n",
      "ZeroPadding2D (mixed_1_l3_2_pa(None, 64, None, None)        0                   \n",
      "Convolution2D (mixed_1_l3_2_pa(None, 96, None, None)        55392               \n",
      "BatchNormalization (mixed_1_l3(None, 96, None, None)        192                 \n",
      "Activation (mixed_1_l3_2_pad_c(None, 96, None, None)        0                   \n",
      "ZeroPadding2D (mixed_1_l3_3_pa(None, 96, None, None)        0                   \n",
      "Convolution2D (mixed_1_l3_3_pa(None, 96, None, None)        83040               \n",
      "BatchNormalization (mixed_1_l3(None, 96, None, None)        192                 \n",
      "Activation (mixed_1_l3_3_pad_c(None, 96, None, None)        0                   \n",
      "ZeroPadding2D (mixed_1_14_1)  (None, 256, None, None)       0                   \n",
      "AveragePooling2D (mixed_1_14_2(None, 256, None, None)       0                   \n",
      "Convolution2D (mixed_1_l4_3_co(None, 64, None, None)        16448               \n",
      "BatchNormalization (mixed_1_l4(None, 64, None, None)        128                 \n",
      "Activation (mixed_1_l4_3_conv_(None, 64, None, None)        0                   \n",
      "Activation (mixed_1)          (None, 288, None, None)       0                   \n",
      "Convolution2D (mixed_2_l1_1_co(None, 64, None, None)        18496               \n",
      "BatchNormalization (mixed_2_l1(None, 64, None, None)        128                 \n",
      "Activation (mixed_2_l1_1_conv_(None, 64, None, None)        0                   \n",
      "Convolution2D (mixed_2_l2_1_co(None, 48, None, None)        13872               \n",
      "BatchNormalization (mixed_2_l2(None, 48, None, None)        96                  \n",
      "Activation (mixed_2_l2_1_conv_(None, 48, None, None)        0                   \n",
      "ZeroPadding2D (mixed_2_l2_2_pa(None, 48, None, None)        0                   \n",
      "Convolution2D (mixed_2_l2_2_pa(None, 64, None, None)        76864               \n",
      "BatchNormalization (mixed_2_l2(None, 64, None, None)        128                 \n",
      "Activation (mixed_2_l2_2_pad_c(None, 64, None, None)        0                   \n",
      "Convolution2D (mixed_2_l3_1_co(None, 64, None, None)        18496               \n",
      "BatchNormalization (mixed_2_l3(None, 64, None, None)        128                 \n",
      "Activation (mixed_2_l3_1_conv_(None, 64, None, None)        0                   \n",
      "ZeroPadding2D (mixed_2_l3_2_pa(None, 64, None, None)        0                   \n",
      "Convolution2D (mixed_2_l3_2_pa(None, 96, None, None)        55392               \n",
      "BatchNormalization (mixed_2_l3(None, 96, None, None)        192                 \n",
      "Activation (mixed_2_l3_2_pad_c(None, 96, None, None)        0                   \n",
      "ZeroPadding2D (mixed_2_l3_3_pa(None, 96, None, None)        0                   \n",
      "Convolution2D (mixed_2_l3_3_pa(None, 96, None, None)        83040               \n",
      "BatchNormalization (mixed_2_l3(None, 96, None, None)        192                 \n",
      "Activation (mixed_2_l3_3_pad_c(None, 96, None, None)        0                   \n",
      "ZeroPadding2D (mixed_2_14_1)  (None, 288, None, None)       0                   \n",
      "AveragePooling2D (mixed_2_14_2(None, 288, None, None)       0                   \n",
      "Convolution2D (mixed_2_l4_3_co(None, 64, None, None)        18496               \n",
      "BatchNormalization (mixed_2_l4(None, 64, None, None)        128                 \n",
      "Activation (mixed_2_l4_3_conv_(None, 64, None, None)        0                   \n",
      "Activation (mixed_2)          (None, 288, None, None)       0                   \n",
      "Convolution2D (mixed_3_l1_1_co(None, 384, None, None)       995712              \n",
      "BatchNormalization (mixed_3_l1(None, 384, None, None)       768                 \n",
      "Activation (mixed_3_l1_1_conv_(None, 384, None, None)       0                   \n",
      "Convolution2D (mixed_3_l2_1_co(None, 64, None, None)        18496               \n",
      "BatchNormalization (mixed_3_l2(None, 64, None, None)        128                 \n",
      "Activation (mixed_3_l2_1_conv_(None, 64, None, None)        0                   \n",
      "ZeroPadding2D (mixed_3_l2_2_pa(None, 64, None, None)        0                   \n",
      "Convolution2D (mixed_3_l2_2_pa(None, 96, None, None)        55392               \n",
      "BatchNormalization (mixed_3_l2(None, 96, None, None)        192                 \n",
      "Activation (mixed_3_l2_2_pad_c(None, 96, None, None)        0                   \n",
      "Convolution2D (mixed_3_l2_3_co(None, 96, None, None)        83040               \n",
      "BatchNormalization (mixed_3_l2(None, 96, None, None)        192                 \n",
      "Activation (mixed_3_l2_3_conv_(None, 96, None, None)        0                   \n",
      "MaxPooling2D (mixed_3_13_1)   (None, 288, None, None)       0                   \n",
      "Activation (mixed_3)          (None, 768, None, None)       0                   \n",
      "Convolution2D (mixed_4_l1_1_co(None, 192, None, None)       147648              \n",
      "BatchNormalization (mixed_4_l1(None, 192, None, None)       384                 \n",
      "Activation (mixed_4_l1_1_conv_(None, 192, None, None)       0                   \n",
      "Convolution2D (mixed_4_l2_1_co(None, 128, None, None)       98432               \n",
      "BatchNormalization (mixed_4_l2(None, 128, None, None)       256                 \n",
      "Activation (mixed_4_l2_1_conv_(None, 128, None, None)       0                   \n",
      "ZeroPadding2D (mixed_4_l2_2_pa(None, 128, None, None)       0                   \n",
      "Convolution2D (mixed_4_l2_2_pa(None, 128, None, None)       114816              \n",
      "BatchNormalization (mixed_4_l2(None, 128, None, None)       256                 \n",
      "Activation (mixed_4_l2_2_pad_c(None, 128, None, None)       0                   \n",
      "ZeroPadding2D (mixed_4_l2_3_pa(None, 128, None, None)       0                   \n",
      "Convolution2D (mixed_4_l2_3_pa(None, 192, None, None)       172224              \n",
      "BatchNormalization (mixed_4_l2(None, 192, None, None)       384                 \n",
      "Activation (mixed_4_l2_3_pad_c(None, 192, None, None)       0                   \n",
      "Convolution2D (mixed_4_l3_1_co(None, 128, None, None)       98432               \n",
      "BatchNormalization (mixed_4_l3(None, 128, None, None)       256                 \n",
      "Activation (mixed_4_l3_1_conv_(None, 128, None, None)       0                   \n",
      "ZeroPadding2D (mixed_4_l3_2_pa(None, 128, None, None)       0                   \n",
      "Convolution2D (mixed_4_l3_2_pa(None, 128, None, None)       114816              \n",
      "BatchNormalization (mixed_4_l3(None, 128, None, None)       256                 \n",
      "Activation (mixed_4_l3_2_pad_c(None, 128, None, None)       0                   \n",
      "ZeroPadding2D (mixed_4_l3_3_pa(None, 128, None, None)       0                   \n",
      "Convolution2D (mixed_4_l3_3_pa(None, 128, None, None)       114816              \n",
      "BatchNormalization (mixed_4_l3(None, 128, None, None)       256                 \n",
      "Activation (mixed_4_l3_3_pad_c(None, 128, None, None)       0                   \n",
      "ZeroPadding2D (mixed_4_l3_4_pa(None, 128, None, None)       0                   \n",
      "Convolution2D (mixed_4_l3_4_pa(None, 128, None, None)       114816              \n",
      "BatchNormalization (mixed_4_l3(None, 128, None, None)       256                 \n",
      "Activation (mixed_4_l3_4_pad_c(None, 128, None, None)       0                   \n",
      "ZeroPadding2D (mixed_4_l3_5_pa(None, 128, None, None)       0                   \n",
      "Convolution2D (mixed_4_l3_5_pa(None, 192, None, None)       172224              \n",
      "BatchNormalization (mixed_4_l3(None, 192, None, None)       384                 \n",
      "Activation (mixed_4_l3_5_pad_c(None, 192, None, None)       0                   \n",
      "ZeroPadding2D (mixed_4_14_1)  (None, 768, None, None)       0                   \n",
      "AveragePooling2D (mixed_4_14_2(None, 768, None, None)       0                   \n",
      "Convolution2D (mixed_4_l4_3_co(None, 192, None, None)       147648              \n",
      "BatchNormalization (mixed_4_l4(None, 192, None, None)       384                 \n",
      "Activation (mixed_4_l4_3_conv_(None, 192, None, None)       0                   \n",
      "Activation (mixed_4)          (None, 768, None, None)       0                   \n",
      "Convolution2D (mixed_5_l1_1_co(None, 192, None, None)       147648              \n",
      "BatchNormalization (mixed_5_l1(None, 192, None, None)       384                 \n",
      "Activation (mixed_5_l1_1_conv_(None, 192, None, None)       0                   \n",
      "Convolution2D (mixed_5_l2_1_co(None, 160, None, None)       123040              \n",
      "BatchNormalization (mixed_5_l2(None, 160, None, None)       320                 \n",
      "Activation (mixed_5_l2_1_conv_(None, 160, None, None)       0                   \n",
      "ZeroPadding2D (mixed_5_l2_2_pa(None, 160, None, None)       0                   \n",
      "Convolution2D (mixed_5_l2_2_pa(None, 160, None, None)       179360              \n",
      "BatchNormalization (mixed_5_l2(None, 160, None, None)       320                 \n",
      "Activation (mixed_5_l2_2_pad_c(None, 160, None, None)       0                   \n",
      "ZeroPadding2D (mixed_5_l2_3_pa(None, 160, None, None)       0                   \n",
      "Convolution2D (mixed_5_l2_3_pa(None, 192, None, None)       215232              \n",
      "BatchNormalization (mixed_5_l2(None, 192, None, None)       384                 \n",
      "Activation (mixed_5_l2_3_pad_c(None, 192, None, None)       0                   \n",
      "Convolution2D (mixed_5_l3_1_co(None, 160, None, None)       123040              \n",
      "BatchNormalization (mixed_5_l3(None, 160, None, None)       320                 \n",
      "Activation (mixed_5_l3_1_conv_(None, 160, None, None)       0                   \n",
      "ZeroPadding2D (mixed_5_l3_2_pa(None, 160, None, None)       0                   \n",
      "Convolution2D (mixed_5_l3_2_pa(None, 160, None, None)       179360              \n",
      "BatchNormalization (mixed_5_l3(None, 160, None, None)       320                 \n",
      "Activation (mixed_5_l3_2_pad_c(None, 160, None, None)       0                   \n",
      "ZeroPadding2D (mixed_5_l3_3_pa(None, 160, None, None)       0                   \n",
      "Convolution2D (mixed_5_l3_3_pa(None, 160, None, None)       179360              \n",
      "BatchNormalization (mixed_5_l3(None, 160, None, None)       320                 \n",
      "Activation (mixed_5_l3_3_pad_c(None, 160, None, None)       0                   \n",
      "ZeroPadding2D (mixed_5_l3_4_pa(None, 160, None, None)       0                   \n",
      "Convolution2D (mixed_5_l3_4_pa(None, 160, None, None)       179360              \n",
      "BatchNormalization (mixed_5_l3(None, 160, None, None)       320                 \n",
      "Activation (mixed_5_l3_4_pad_c(None, 160, None, None)       0                   \n",
      "ZeroPadding2D (mixed_5_l3_5_pa(None, 160, None, None)       0                   \n",
      "Convolution2D (mixed_5_l3_5_pa(None, 192, None, None)       215232              \n",
      "BatchNormalization (mixed_5_l3(None, 192, None, None)       384                 \n",
      "Activation (mixed_5_l3_5_pad_c(None, 192, None, None)       0                   \n",
      "ZeroPadding2D (mixed_5_14_1)  (None, 768, None, None)       0                   \n",
      "AveragePooling2D (mixed_5_14_2(None, 768, None, None)       0                   \n",
      "Convolution2D (mixed_5_l4_3_co(None, 192, None, None)       147648              \n",
      "BatchNormalization (mixed_5_l4(None, 192, None, None)       384                 \n",
      "Activation (mixed_5_l4_3_conv_(None, 192, None, None)       0                   \n",
      "Activation (mixed_5)          (None, 768, None, None)       0                   \n",
      "Convolution2D (mixed_6_l1_1_co(None, 192, None, None)       147648              \n",
      "BatchNormalization (mixed_6_l1(None, 192, None, None)       384                 \n",
      "Activation (mixed_6_l1_1_conv_(None, 192, None, None)       0                   \n",
      "Convolution2D (mixed_6_l2_1_co(None, 160, None, None)       123040              \n",
      "BatchNormalization (mixed_6_l2(None, 160, None, None)       320                 \n",
      "Activation (mixed_6_l2_1_conv_(None, 160, None, None)       0                   \n",
      "ZeroPadding2D (mixed_6_l2_2_pa(None, 160, None, None)       0                   \n",
      "Convolution2D (mixed_6_l2_2_pa(None, 160, None, None)       179360              \n",
      "BatchNormalization (mixed_6_l2(None, 160, None, None)       320                 \n",
      "Activation (mixed_6_l2_2_pad_c(None, 160, None, None)       0                   \n",
      "ZeroPadding2D (mixed_6_l2_3_pa(None, 160, None, None)       0                   \n",
      "Convolution2D (mixed_6_l2_3_pa(None, 192, None, None)       215232              \n",
      "BatchNormalization (mixed_6_l2(None, 192, None, None)       384                 \n",
      "Activation (mixed_6_l2_3_pad_c(None, 192, None, None)       0                   \n",
      "Convolution2D (mixed_6_l3_1_co(None, 160, None, None)       123040              \n",
      "BatchNormalization (mixed_6_l3(None, 160, None, None)       320                 \n",
      "Activation (mixed_6_l3_1_conv_(None, 160, None, None)       0                   \n",
      "ZeroPadding2D (mixed_6_l3_2_pa(None, 160, None, None)       0                   \n",
      "Convolution2D (mixed_6_l3_2_pa(None, 160, None, None)       179360              \n",
      "BatchNormalization (mixed_6_l3(None, 160, None, None)       320                 \n",
      "Activation (mixed_6_l3_2_pad_c(None, 160, None, None)       0                   \n",
      "ZeroPadding2D (mixed_6_l3_3_pa(None, 160, None, None)       0                   \n",
      "Convolution2D (mixed_6_l3_3_pa(None, 160, None, None)       179360              \n",
      "BatchNormalization (mixed_6_l3(None, 160, None, None)       320                 \n",
      "Activation (mixed_6_l3_3_pad_c(None, 160, None, None)       0                   \n",
      "ZeroPadding2D (mixed_6_l3_4_pa(None, 160, None, None)       0                   \n",
      "Convolution2D (mixed_6_l3_4_pa(None, 160, None, None)       179360              \n",
      "BatchNormalization (mixed_6_l3(None, 160, None, None)       320                 \n",
      "Activation (mixed_6_l3_4_pad_c(None, 160, None, None)       0                   \n",
      "ZeroPadding2D (mixed_6_l3_5_pa(None, 160, None, None)       0                   \n",
      "Convolution2D (mixed_6_l3_5_pa(None, 192, None, None)       215232              \n",
      "BatchNormalization (mixed_6_l3(None, 192, None, None)       384                 \n",
      "Activation (mixed_6_l3_5_pad_c(None, 192, None, None)       0                   \n",
      "ZeroPadding2D (mixed_6_14_1)  (None, 768, None, None)       0                   \n",
      "AveragePooling2D (mixed_6_14_2(None, 768, None, None)       0                   \n",
      "Convolution2D (mixed_6_l4_3_co(None, 192, None, None)       147648              \n",
      "BatchNormalization (mixed_6_l4(None, 192, None, None)       384                 \n",
      "Activation (mixed_6_l4_3_conv_(None, 192, None, None)       0                   \n",
      "Activation (mixed_6)          (None, 768, None, None)       0                   \n",
      "Convolution2D (mixed_7_l1_1_co(None, 192, None, None)       147648              \n",
      "BatchNormalization (mixed_7_l1(None, 192, None, None)       384                 \n",
      "Activation (mixed_7_l1_1_conv_(None, 192, None, None)       0                   \n",
      "Convolution2D (mixed_7_l2_1_co(None, 192, None, None)       147648              \n",
      "BatchNormalization (mixed_7_l2(None, 192, None, None)       384                 \n",
      "Activation (mixed_7_l2_1_conv_(None, 192, None, None)       0                   \n",
      "ZeroPadding2D (mixed_7_l2_2_pa(None, 192, None, None)       0                   \n",
      "Convolution2D (mixed_7_l2_2_pa(None, 192, None, None)       258240              \n",
      "BatchNormalization (mixed_7_l2(None, 192, None, None)       384                 \n",
      "Activation (mixed_7_l2_2_pad_c(None, 192, None, None)       0                   \n",
      "ZeroPadding2D (mixed_7_l2_3_pa(None, 192, None, None)       0                   \n",
      "Convolution2D (mixed_7_l2_3_pa(None, 192, None, None)       258240              \n",
      "BatchNormalization (mixed_7_l2(None, 192, None, None)       384                 \n",
      "Activation (mixed_7_l2_3_pad_c(None, 192, None, None)       0                   \n",
      "Convolution2D (mixed_7_l3_1_co(None, 192, None, None)       147648              \n",
      "BatchNormalization (mixed_7_l3(None, 192, None, None)       384                 \n",
      "Activation (mixed_7_l3_1_conv_(None, 192, None, None)       0                   \n",
      "ZeroPadding2D (mixed_7_l3_2_pa(None, 192, None, None)       0                   \n",
      "Convolution2D (mixed_7_l3_2_pa(None, 192, None, None)       258240              \n",
      "BatchNormalization (mixed_7_l3(None, 192, None, None)       384                 \n",
      "Activation (mixed_7_l3_2_pad_c(None, 192, None, None)       0                   \n",
      "ZeroPadding2D (mixed_7_l3_3_pa(None, 192, None, None)       0                   \n",
      "Convolution2D (mixed_7_l3_3_pa(None, 192, None, None)       258240              \n",
      "BatchNormalization (mixed_7_l3(None, 192, None, None)       384                 \n",
      "Activation (mixed_7_l3_3_pad_c(None, 192, None, None)       0                   \n",
      "ZeroPadding2D (mixed_7_l3_4_pa(None, 192, None, None)       0                   \n",
      "Convolution2D (mixed_7_l3_4_pa(None, 192, None, None)       258240              \n",
      "BatchNormalization (mixed_7_l3(None, 192, None, None)       384                 \n",
      "Activation (mixed_7_l3_4_pad_c(None, 192, None, None)       0                   \n",
      "ZeroPadding2D (mixed_7_l3_5_pa(None, 192, None, None)       0                   \n",
      "Convolution2D (mixed_7_l3_5_pa(None, 192, None, None)       258240              \n",
      "BatchNormalization (mixed_7_l3(None, 192, None, None)       384                 \n",
      "Activation (mixed_7_l3_5_pad_c(None, 192, None, None)       0                   \n",
      "ZeroPadding2D (mixed_7_14_1)  (None, 768, None, None)       0                   \n",
      "AveragePooling2D (mixed_7_14_2(None, 768, None, None)       0                   \n",
      "Convolution2D (mixed_7_l4_3_co(None, 192, None, None)       147648              \n",
      "BatchNormalization (mixed_7_l4(None, 192, None, None)       384                 \n",
      "Activation (mixed_7_l4_3_conv_(None, 192, None, None)       0                   \n",
      "Activation (mixed_7)          (None, 768, None, None)       0                   \n",
      "Convolution2D (mixed_8_l1_1_co(None, 192, None, None)       147648              \n",
      "BatchNormalization (mixed_8_l1(None, 192, None, None)       384                 \n",
      "Activation (mixed_8_l1_1_conv_(None, 192, None, None)       0                   \n",
      "Convolution2D (mixed_8_l1_2_co(None, 320, None, None)       553280              \n",
      "BatchNormalization (mixed_8_l1(None, 320, None, None)       640                 \n",
      "Activation (mixed_8_l1_2_conv_(None, 320, None, None)       0                   \n",
      "Convolution2D (mixed_8_l2_1_co(None, 192, None, None)       147648              \n",
      "BatchNormalization (mixed_8_l2(None, 192, None, None)       384                 \n",
      "Activation (mixed_8_l2_1_conv_(None, 192, None, None)       0                   \n",
      "ZeroPadding2D (mixed_8_l2_2_pa(None, 192, None, None)       0                   \n",
      "Convolution2D (mixed_8_l2_2_pa(None, 192, None, None)       258240              \n",
      "BatchNormalization (mixed_8_l2(None, 192, None, None)       384                 \n",
      "Activation (mixed_8_l2_2_pad_c(None, 192, None, None)       0                   \n",
      "ZeroPadding2D (mixed_8_l2_3_pa(None, 192, None, None)       0                   \n",
      "Convolution2D (mixed_8_l2_3_pa(None, 192, None, None)       258240              \n",
      "BatchNormalization (mixed_8_l2(None, 192, None, None)       384                 \n",
      "Activation (mixed_8_l2_3_pad_c(None, 192, None, None)       0                   \n",
      "Convolution2D (mixed_8_l2_4_co(None, 192, None, None)       331968              \n",
      "BatchNormalization (mixed_8_l2(None, 192, None, None)       384                 \n",
      "Activation (mixed_8_l2_4_conv_(None, 192, None, None)       0                   \n",
      "MaxPooling2D (mixed_8_13_1)   (None, 768, None, None)       0                   \n",
      "Activation (mixed_8)          (None, 1280, None, None)      0                   \n",
      "Convolution2D (mixed_9_l1_1_co(None, 320, None, None)       409920              \n",
      "BatchNormalization (mixed_9_l1(None, 320, None, None)       640                 \n",
      "Activation (mixed_9_l1_1_conv_(None, 320, None, None)       0                   \n",
      "Convolution2D (mixed_9_l2_1_co(None, 384, None, None)       491904              \n",
      "BatchNormalization (mixed_9_l2(None, 384, None, None)       768                 \n",
      "Activation (mixed_9_l2_1_conv_(None, 384, None, None)       0                   \n",
      "ZeroPadding2D (mixed_9_l2_2a_p(None, 384, None, None)       0                   \n",
      "Convolution2D (mixed_9_l2_2a_p(None, 384, None, None)       442752              \n",
      "BatchNormalization (mixed_9_l2(None, 384, None, None)       768                 \n",
      "Activation (mixed_9_l2_2a_pad_(None, 384, None, None)       0                   \n",
      "ZeroPadding2D (mixed_9_l2_2b_p(None, 384, None, None)       0                   \n",
      "Convolution2D (mixed_9_l2_2b_p(None, 384, None, None)       442752              \n",
      "BatchNormalization (mixed_9_l2(None, 384, None, None)       768                 \n",
      "Activation (mixed_9_l2_2b_pad_(None, 384, None, None)       0                   \n",
      "Convolution2D (mixed_9_l3_1_co(None, 448, None, None)       573888              \n",
      "BatchNormalization (mixed_9_l3(None, 448, None, None)       896                 \n",
      "Activation (mixed_9_l3_1_conv_(None, 448, None, None)       0                   \n",
      "ZeroPadding2D (mixed_9_l3_2_pa(None, 448, None, None)       0                   \n",
      "Convolution2D (mixed_9_l3_2_pa(None, 384, None, None)       1548672             \n",
      "BatchNormalization (mixed_9_l3(None, 384, None, None)       768                 \n",
      "Activation (mixed_9_l3_2_pad_c(None, 384, None, None)       0                   \n",
      "ZeroPadding2D (mixed_9_l3_3a_p(None, 384, None, None)       0                   \n",
      "Convolution2D (mixed_9_l3_3a_p(None, 384, None, None)       442752              \n",
      "BatchNormalization (mixed_9_l3(None, 384, None, None)       768                 \n",
      "Activation (mixed_9_l3_3a_pad_(None, 384, None, None)       0                   \n",
      "ZeroPadding2D (mixed_9_l3_3b_p(None, 384, None, None)       0                   \n",
      "Convolution2D (mixed_9_l3_3b_p(None, 384, None, None)       442752              \n",
      "BatchNormalization (mixed_9_l3(None, 384, None, None)       768                 \n",
      "Activation (mixed_9_l3_3b_pad_(None, 384, None, None)       0                   \n",
      "ZeroPadding2D (mixed_9_14_1)  (None, 1280, None, None)      0                   \n",
      "AveragePooling2D (mixed_9_14_2(None, 1280, None, None)      0                   \n",
      "Convolution2D (mixed_9_l4_3_co(None, 192, None, None)       245952              \n",
      "BatchNormalization (mixed_9_l4(None, 192, None, None)       384                 \n",
      "Activation (mixed_9_l4_3_conv_(None, 192, None, None)       0                   \n",
      "Activation (mixed_9)          (None, 2048, None, None)      0                   \n",
      "Convolution2D (mixed_10_l1_1_c(None, 320, None, None)       655680              \n",
      "BatchNormalization (mixed_10_l(None, 320, None, None)       640                 \n",
      "Activation (mixed_10_l1_1_conv(None, 320, None, None)       0                   \n",
      "Convolution2D (mixed_10_l2_1_c(None, 384, None, None)       786816              \n",
      "BatchNormalization (mixed_10_l(None, 384, None, None)       768                 \n",
      "Activation (mixed_10_l2_1_conv(None, 384, None, None)       0                   \n",
      "ZeroPadding2D (mixed_10_l2_2a_(None, 384, None, None)       0                   \n",
      "Convolution2D (mixed_10_l2_2a_(None, 384, None, None)       442752              \n",
      "BatchNormalization (mixed_10_l(None, 384, None, None)       768                 \n",
      "Activation (mixed_10_l2_2a_pad(None, 384, None, None)       0                   \n",
      "ZeroPadding2D (mixed_10_l2_2b_(None, 384, None, None)       0                   \n",
      "Convolution2D (mixed_10_l2_2b_(None, 384, None, None)       442752              \n",
      "BatchNormalization (mixed_10_l(None, 384, None, None)       768                 \n",
      "Activation (mixed_10_l2_2b_pad(None, 384, None, None)       0                   \n",
      "Convolution2D (mixed_10_l3_1_c(None, 448, None, None)       917952              \n",
      "BatchNormalization (mixed_10_l(None, 448, None, None)       896                 \n",
      "Activation (mixed_10_l3_1_conv(None, 448, None, None)       0                   \n",
      "ZeroPadding2D (mixed_10_l3_2_p(None, 448, None, None)       0                   \n",
      "Convolution2D (mixed_10_l3_2_p(None, 384, None, None)       1548672             \n",
      "BatchNormalization (mixed_10_l(None, 384, None, None)       768                 \n",
      "Activation (mixed_10_l3_2_pad_(None, 384, None, None)       0                   \n",
      "ZeroPadding2D (mixed_10_l3_3a_(None, 384, None, None)       0                   \n",
      "Convolution2D (mixed_10_l3_3a_(None, 384, None, None)       442752              \n",
      "BatchNormalization (mixed_10_l(None, 384, None, None)       768                 \n",
      "Activation (mixed_10_l3_3a_pad(None, 384, None, None)       0                   \n",
      "ZeroPadding2D (mixed_10_l3_3b_(None, 384, None, None)       0                   \n",
      "Convolution2D (mixed_10_l3_3b_(None, 384, None, None)       442752              \n",
      "BatchNormalization (mixed_10_l(None, 384, None, None)       768                 \n",
      "Activation (mixed_10_l3_3b_pad(None, 384, None, None)       0                   \n",
      "ZeroPadding2D (mixed_10_14_1) (None, 2048, None, None)      0                   \n",
      "MaxPooling2D (mixed_10_14_2)  (None, 2048, None, None)      0                   \n",
      "Convolution2D (mixed_10_l4_3_c(None, 192, None, None)       393408              \n",
      "BatchNormalization (mixed_10_l(None, 192, None, None)       384                 \n",
      "Activation (mixed_10_l4_3_conv(None, 192, None, None)       0                   \n",
      "Activation (mixed_10)         (None, 2048, None, None)      0                   \n",
      "BatchNormalization (batchnorm)(None, 2048, None, None)      4096                \n",
      "Convolution2D (partClassifiers(None, 9000, None, None)      18441000            \n",
      "Activation (relu_on_partClassi(None, 9000, None, None)      0                   \n",
      "power_mean_Layer (custom_pool)(None, 9000, 1)               0                   \n",
      "Flatten (flatten)             (None, 9000)                  0                   \n",
      "Dense (softmax)               (None, 7735)                  69622735            \n",
      "Activation (prob)             (None, 7735)                  0                   \n",
      "Activation (output)           (None, 7735)                  0                   \n",
      "--------------------------------------------------------------------------------\n",
      "Total params: 109870615\n",
      "--------------------------------------------------------------------------------\n"
     ]
    }
   ],
   "source": [
    "model.summary()"
   ]
  },
  {
   "cell_type": "code",
   "execution_count": null,
   "metadata": {
    "collapsed": false
   },
   "outputs": [],
   "source": [
    "from keras.utils.visualize_util import "
   ]
  },
  {
   "cell_type": "code",
   "execution_count": null,
   "metadata": {
    "collapsed": false
   },
   "outputs": [],
   "source": [
    "f=K.theano.function([model.input], model.nodes['conv_4'].get_output())"
   ]
  },
  {
   "cell_type": "code",
   "execution_count": null,
   "metadata": {
    "collapsed": false
   },
   "outputs": [],
   "source": [
    "filenames=['/nas/datasets/getty-collection/getty-all/87033390.png']\n",
    "trainer.load_mean_file()\n",
    "trainer.im_h=779\n",
    "trainer.im_w=779\n",
    "trainer.load_synset_file()\n",
    "images=trainer.fetch_images(filenames)"
   ]
  },
  {
   "cell_type": "code",
   "execution_count": null,
   "metadata": {
    "collapsed": false
   },
   "outputs": [],
   "source": [
    "filterno=5\n",
    "\n",
    "%matplotlib inline\n",
    "import pylab as pl\n",
    "import matplotlib.cm as cm\n",
    "\n",
    "\n",
    "pl.imshow((f(images)[0,filterno,:,:]))\n",
    "\n"
   ]
  },
  {
   "cell_type": "code",
   "execution_count": null,
   "metadata": {
    "collapsed": true
   },
   "outputs": [],
   "source": [
    "model.fit()"
   ]
  }
 ],
 "metadata": {
  "anaconda-cloud": {},
  "kernelspec": {
   "display_name": "Python [conda env:harsimrat-code]",
   "language": "python",
   "name": "conda-env-harsimrat-code-py"
  },
  "language_info": {
   "codemirror_mode": {
    "name": "ipython",
    "version": 2
   },
   "file_extension": ".py",
   "mimetype": "text/x-python",
   "name": "python",
   "nbconvert_exporter": "python",
   "pygments_lexer": "ipython2",
   "version": "2.7.12"
  }
 },
 "nbformat": 4,
 "nbformat_minor": 1
}

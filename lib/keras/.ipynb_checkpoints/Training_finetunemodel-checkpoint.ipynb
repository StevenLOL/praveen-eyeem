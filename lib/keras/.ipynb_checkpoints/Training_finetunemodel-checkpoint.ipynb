{
 "cells": [
  {
   "cell_type": "code",
   "execution_count": 1,
   "metadata": {
    "collapsed": false
   },
   "outputs": [
    {
     "name": "stderr",
     "output_type": "stream",
     "text": [
      "Using Theano backend.\n",
      "Using gpu device 0: Tesla K40c (CNMeM is disabled, cuDNN 5103)\n"
     ]
    }
   ],
   "source": [
    "import os, sys\n",
    "\n",
    "import argparse\n",
    "\n",
    "from keras import backend as K\n",
    "\n",
    "try:\n",
    "    import keras.backend.tensorflow_backend as KTF\n",
    "except ImportError as e:\n",
    "    KTF = None\n",
    "    TENSORFLOW_IMPORT_ERROR = e\n",
    "\n",
    "from rnd_libs.lib.keras.train import TheanoTrainer\n",
    "from rnd_libs.lib.keras.test import TheanoTester\n",
    "from rnd_libs.lib.keras.train_captions import TheanoTrainerCaptions\n",
    "from rnd_libs.lib.keras.test_captions import TheanoTesterCaptions\n",
    "from rnd_libs.lib.keras.lmdb_parser import LMDBParser\n",
    "\n",
    "trainer_dict = {'concepts': TheanoTrainer, 'captions': TheanoTrainerCaptions}\n",
    "tester_dict = {'concepts': TheanoTester, 'captions': TheanoTesterCaptions}"
   ]
  },
  {
   "cell_type": "code",
   "execution_count": 2,
   "metadata": {
    "collapsed": false
   },
   "outputs": [
    {
     "name": "stdout",
     "output_type": "stream",
     "text": [
      "\u001b[32m[03 Feb 2017 14h55m05s][INFO] Added conv:Convolution2D\u001b[0m\n",
      "\u001b[32m[03 Feb 2017 14h55m05s][INFO] Added conv_bn:BatchNormalization\u001b[0m\n",
      "\u001b[32m[03 Feb 2017 14h55m05s][INFO] Added conv_nonlin:Activation\u001b[0m\n",
      "\u001b[32m[03 Feb 2017 14h55m05s][INFO] Added conv_1:Convolution2D\u001b[0m\n",
      "\u001b[32m[03 Feb 2017 14h55m05s][INFO] Added conv_bn_1:BatchNormalization\u001b[0m\n",
      "\u001b[32m[03 Feb 2017 14h55m05s][INFO] Added conv_nonlin_1:Activation\u001b[0m\n",
      "\u001b[32m[03 Feb 2017 14h55m05s][INFO] Added padding_conv2:ZeroPadding2D\u001b[0m\n",
      "\u001b[32m[03 Feb 2017 14h55m05s][INFO] Added conv_2:Convolution2D\u001b[0m\n",
      "\u001b[32m[03 Feb 2017 14h55m05s][INFO] Added conv_bn_2:BatchNormalization\u001b[0m\n",
      "\u001b[32m[03 Feb 2017 14h55m05s][INFO] Added conv_nonlin_2:Activation\u001b[0m\n",
      "\u001b[32m[03 Feb 2017 14h55m05s][INFO] Added pool:MaxPooling2D\u001b[0m\n",
      "\u001b[32m[03 Feb 2017 14h55m05s][INFO] Added conv_3:Convolution2D\u001b[0m\n",
      "\u001b[32m[03 Feb 2017 14h55m05s][INFO] Added conv_bn_3:BatchNormalization\u001b[0m\n",
      "\u001b[32m[03 Feb 2017 14h55m05s][INFO] Added conv_nonlin_3:Activation\u001b[0m\n",
      "\u001b[32m[03 Feb 2017 14h55m05s][INFO] Added conv_4:Convolution2D\u001b[0m\n",
      "\u001b[32m[03 Feb 2017 14h55m05s][INFO] Added conv_bn_4:BatchNormalization\u001b[0m\n",
      "\u001b[32m[03 Feb 2017 14h55m05s][INFO] Added conv_nonlin_4:Activation\u001b[0m\n",
      "\u001b[32m[03 Feb 2017 14h55m05s][INFO] Added pool_1:MaxPooling2D\u001b[0m\n",
      "\u001b[32m[03 Feb 2017 14h55m05s][INFO] Added Inception-A mixed\u001b[0m\n",
      "\u001b[32m[03 Feb 2017 14h55m05s][INFO] Added Inception-A mixed_1\u001b[0m\n",
      "\u001b[32m[03 Feb 2017 14h55m05s][INFO] Added Inception-A mixed_2\u001b[0m\n",
      "\u001b[32m[03 Feb 2017 14h55m05s][INFO] Added Inception-B mixed_3\u001b[0m\n",
      "\u001b[32m[03 Feb 2017 14h55m05s][INFO] Added Inception-C mixed_4\u001b[0m\n",
      "\u001b[32m[03 Feb 2017 14h55m05s][INFO] Added Inception-C mixed_5\u001b[0m\n",
      "\u001b[32m[03 Feb 2017 14h55m05s][INFO] Added Inception-C mixed_6\u001b[0m\n",
      "\u001b[32m[03 Feb 2017 14h55m05s][INFO] Added Inception-C mixed_7\u001b[0m\n",
      "\u001b[32m[03 Feb 2017 14h55m05s][INFO] Added Inception-D mixed_8\u001b[0m\n",
      "\u001b[32m[03 Feb 2017 14h55m05s][INFO] Added Inception-E mixed_9\u001b[0m\n",
      "\u001b[32m[03 Feb 2017 14h55m05s][INFO] Added Inception-E mixed_10\u001b[0m\n",
      "\u001b[32m[03 Feb 2017 14h55m06s][INFO] Added partClassifiers:partClassifiers\u001b[0m\n",
      "\u001b[32m[03 Feb 2017 14h55m06s][INFO] Added relu_on_partClassifiers:ReLu on partClassifiers\u001b[0m\n",
      "\u001b[32m[03 Feb 2017 14h55m06s][INFO] Added custom_pool:Custom Pooling Layer:avg\u001b[0m\n",
      "\u001b[32m[03 Feb 2017 14h55m06s][INFO] Added flatten:Flatten\u001b[0m\n",
      "\u001b[32m[03 Feb 2017 14h55m08s][INFO] Added softmax:Softmax-dense weights\u001b[0m\n",
      "\u001b[32m[03 Feb 2017 14h55m08s][INFO] Added prob:Activation\u001b[0m\n",
      "\u001b[32m[03 Feb 2017 14h55m09s][INFO] Transfering parameters from mixed_4_l3_3_pad_conv_bn\u001b[0m\n",
      "\u001b[32m[03 Feb 2017 14h55m09s][INFO] Transfering parameters from mixed_2_l2_2_pad_conv_bn_nonlin\u001b[0m\n",
      "\u001b[32m[03 Feb 2017 14h55m09s][INFO] Transfering parameters from mixed_10_l3_2_pad_conv\u001b[0m\n",
      "\u001b[32m[03 Feb 2017 14h55m09s][INFO] Transfering parameters from mixed_9_l3_2_pad_conv\u001b[0m\n",
      "\u001b[32m[03 Feb 2017 14h55m09s][INFO] Transfering parameters from mixed_4_l2_3_pad\u001b[0m\n",
      "\u001b[32m[03 Feb 2017 14h55m09s][INFO] Transfering parameters from mixed_8_l1_1_conv\u001b[0m\n",
      "\u001b[32m[03 Feb 2017 14h55m09s][INFO] Transfering parameters from mixed_3_l1_1_conv_bn_nonlin\u001b[0m\n",
      "\u001b[32m[03 Feb 2017 14h55m09s][INFO] Transfering parameters from mixed_10_l2_1_conv_bn_nonlin\u001b[0m\n",
      "\u001b[32m[03 Feb 2017 14h55m09s][INFO] Transfering parameters from mixed_2_l4_3_conv_bn_nonlin\u001b[0m\n",
      "\u001b[32m[03 Feb 2017 14h55m09s][INFO] Transfering parameters from mixed_l3_3_pad_conv_bn\u001b[0m\n",
      "\u001b[32m[03 Feb 2017 14h55m09s][INFO] Transfering parameters from mixed_9_l3_3b_pad_conv_bn\u001b[0m\n",
      "\u001b[32m[03 Feb 2017 14h55m09s][INFO] Transfering parameters from mixed_10_l2_2b_pad_conv\u001b[0m\n",
      "\u001b[32m[03 Feb 2017 14h55m09s][INFO] Transfering parameters from mixed_9_l3_2_pad_conv_bn\u001b[0m\n",
      "\u001b[32m[03 Feb 2017 14h55m09s][INFO] Transfering parameters from mixed_8_l2_2_pad_conv_bn_nonlin\u001b[0m\n",
      "\u001b[32m[03 Feb 2017 14h55m09s][INFO] Transfering parameters from mixed_7_l4_3_conv\u001b[0m\n",
      "\u001b[32m[03 Feb 2017 14h55m09s][INFO] Transfering parameters from mixed_3_l1_1_conv\u001b[0m\n",
      "\u001b[32m[03 Feb 2017 14h55m09s][INFO] Transfering parameters from mixed_4_l2_3_pad_conv_bn\u001b[0m\n",
      "\u001b[32m[03 Feb 2017 14h55m09s][INFO] Transfering parameters from conv_1\u001b[0m\n",
      "\u001b[32m[03 Feb 2017 14h55m09s][INFO] Transfering parameters from mixed_6_l3_4_pad_conv_bn_nonlin\u001b[0m\n",
      "\u001b[32m[03 Feb 2017 14h55m09s][INFO] Transfering parameters from conv_3\u001b[0m\n",
      "\u001b[32m[03 Feb 2017 14h55m09s][INFO] Transfering parameters from conv_2\u001b[0m\n",
      "\u001b[32m[03 Feb 2017 14h55m09s][INFO] Transfering parameters from mixed_9_l2_2a_pad_conv_bn_nonlin\u001b[0m\n",
      "\u001b[32m[03 Feb 2017 14h55m09s][INFO] Transfering parameters from mixed_2_l3_1_conv_bn_nonlin\u001b[0m\n",
      "\u001b[32m[03 Feb 2017 14h55m09s][INFO] Transfering parameters from mixed_l4_3_conv_bn_nonlin\u001b[0m\n",
      "\u001b[32m[03 Feb 2017 14h55m09s][INFO] Transfering parameters from mixed_6_l2_3_pad_conv_bn_nonlin\u001b[0m\n",
      "\u001b[32m[03 Feb 2017 14h55m09s][INFO] Transfering parameters from mixed_4_l2_2_pad\u001b[0m\n",
      "\u001b[32m[03 Feb 2017 14h55m09s][INFO] Transfering parameters from mixed_1_l2_1_conv\u001b[0m\n",
      "\u001b[32m[03 Feb 2017 14h55m09s][INFO] Transfering parameters from mixed_8_l2_2_pad_conv\u001b[0m\n",
      "\u001b[32m[03 Feb 2017 14h55m09s][INFO] Transfering parameters from mixed_2_l1_1_conv_bn\u001b[0m\n",
      "\u001b[32m[03 Feb 2017 14h55m09s][INFO] Transfering parameters from mixed_7_l3_5_pad_conv_bn\u001b[0m\n",
      "\u001b[32m[03 Feb 2017 14h55m09s][INFO] Transfering parameters from mixed_1_l2_2_pad\u001b[0m\n",
      "\u001b[32m[03 Feb 2017 14h55m09s][INFO] Transfering parameters from mixed_7_l3_1_conv_bn\u001b[0m\n",
      "\u001b[32m[03 Feb 2017 14h55m09s][INFO] Transfering parameters from mixed_7_l1_1_conv_bn_nonlin\u001b[0m\n",
      "\u001b[32m[03 Feb 2017 14h55m09s][INFO] Transfering parameters from mixed_3_l2_3_conv_bn_nonlin\u001b[0m\n",
      "\u001b[32m[03 Feb 2017 14h55m09s][INFO] Transfering parameters from mixed_6_l4_3_conv\u001b[0m\n",
      "\u001b[32m[03 Feb 2017 14h55m09s][INFO] Transfering parameters from conv_nonlin_3\u001b[0m\n",
      "\u001b[32m[03 Feb 2017 14h55m09s][INFO] Transfering parameters from conv_nonlin_2\u001b[0m\n",
      "\u001b[32m[03 Feb 2017 14h55m09s][INFO] Transfering parameters from conv_nonlin_1\u001b[0m\n",
      "\u001b[32m[03 Feb 2017 14h55m09s][INFO] Transfering parameters from conv_nonlin_4\u001b[0m\n",
      "\u001b[32m[03 Feb 2017 14h55m09s][INFO] Transfering parameters from mixed_7_14_1\u001b[0m\n",
      "\u001b[32m[03 Feb 2017 14h55m09s][INFO] Transfering parameters from mixed_7_14_2\u001b[0m\n",
      "\u001b[32m[03 Feb 2017 14h55m09s][INFO] Transfering parameters from mixed_7_l2_3_pad\u001b[0m\n",
      "\u001b[32m[03 Feb 2017 14h55m09s][INFO] Transfering parameters from mixed_5_l3_3_pad_conv_bn\u001b[0m\n",
      "\u001b[32m[03 Feb 2017 14h55m09s][INFO] Transfering parameters from mixed_6_l2_2_pad_conv\u001b[0m\n",
      "\u001b[32m[03 Feb 2017 14h55m09s][INFO] Transfering parameters from mixed_8_l1_1_conv_bn\u001b[0m\n",
      "\u001b[32m[03 Feb 2017 14h55m09s][INFO] Transfering parameters from mixed_6_l3_4_pad_conv\u001b[0m\n",
      "\u001b[32m[03 Feb 2017 14h55m09s][INFO] Transfering parameters from mixed_l1_1_conv\u001b[0m\n",
      "\u001b[32m[03 Feb 2017 14h55m09s][INFO] Transfering parameters from mixed_1_l1_1_conv\u001b[0m\n",
      "\u001b[32m[03 Feb 2017 14h55m09s][INFO] Transfering parameters from mixed_3_l2_1_conv\u001b[0m\n",
      "\u001b[32m[03 Feb 2017 14h55m09s][INFO] Transfering parameters from mixed_4_l3_1_conv\u001b[0m\n",
      "\u001b[32m[03 Feb 2017 14h55m09s][INFO] Transfering parameters from mixed_3_l1_1_conv_bn\u001b[0m\n",
      "\u001b[32m[03 Feb 2017 14h55m09s][INFO] Transfering parameters from mixed_2_l4_3_conv_bn\u001b[0m\n",
      "\u001b[32m[03 Feb 2017 14h55m09s][INFO] Transfering parameters from mixed_2_l2_1_conv\u001b[0m\n",
      "\u001b[32m[03 Feb 2017 14h55m09s][INFO] Transfering parameters from mixed_10_l4_3_conv_bn\u001b[0m\n",
      "\u001b[32m[03 Feb 2017 14h55m09s][INFO] Transfering parameters from mixed_10_l2_2a_pad_conv\u001b[0m\n",
      "\u001b[32m[03 Feb 2017 14h55m09s][INFO] Transfering parameters from mixed_8_l2_3_pad\u001b[0m\n",
      "\u001b[32m[03 Feb 2017 14h55m09s][INFO] Transfering parameters from mixed_4_l2_2_pad_conv\u001b[0m\n",
      "\u001b[32m[03 Feb 2017 14h55m09s][INFO] Transfering parameters from mixed_l1_1_conv_bn\u001b[0m\n",
      "\u001b[32m[03 Feb 2017 14h55m09s][INFO] Transfering parameters from mixed_1_l3_3_pad_conv\u001b[0m\n",
      "\u001b[32m[03 Feb 2017 14h55m09s][INFO] Transfering parameters from mixed_5_l4_3_conv\u001b[0m\n",
      "\u001b[32m[03 Feb 2017 14h55m09s][INFO] Transfering parameters from mixed_2_l3_2_pad_conv_bn_nonlin\u001b[0m\n",
      "\u001b[32m[03 Feb 2017 14h55m09s][INFO] Transfering parameters from mixed_6_l3_2_pad_conv_bn_nonlin\u001b[0m\n",
      "\u001b[32m[03 Feb 2017 14h55m09s][INFO] Transfering parameters from mixed_8_l2_1_conv_bn\u001b[0m\n",
      "\u001b[32m[03 Feb 2017 14h55m09s][INFO] Transfering parameters from mixed_1_l3_3_pad\u001b[0m\n",
      "\u001b[32m[03 Feb 2017 14h55m09s][INFO] Transfering parameters from mixed_9_l2_2b_pad_conv\u001b[0m\n",
      "\u001b[32m[03 Feb 2017 14h55m09s][INFO] Transfering parameters from mixed_l3_2_pad_conv_bn_nonlin\u001b[0m\n",
      "\u001b[32m[03 Feb 2017 14h55m09s][INFO] Transfering parameters from mixed_10_l3_2_pad\u001b[0m\n",
      "\u001b[32m[03 Feb 2017 14h55m09s][INFO] Transfering parameters from mixed_4_l3_4_pad_conv_bn_nonlin\u001b[0m\n",
      "\u001b[32m[03 Feb 2017 14h55m09s][INFO] Transfering parameters from mixed_4_l2_3_pad_conv_bn_nonlin\u001b[0m\n",
      "\u001b[32m[03 Feb 2017 14h55m09s][INFO] Transfering parameters from mixed_9_l2_2b_pad_conv_bn_nonlin\u001b[0m\n",
      "\u001b[32m[03 Feb 2017 14h55m09s][INFO] Transfering parameters from mixed_1_l2_2_pad_conv_bn_nonlin\u001b[0m\n",
      "\u001b[32m[03 Feb 2017 14h55m09s][INFO] Transfering parameters from mixed_4_l2_3_pad_conv\u001b[0m\n",
      "\u001b[32m[03 Feb 2017 14h55m09s][INFO] Transfering parameters from conv_bn_1\u001b[0m\n",
      "\u001b[32m[03 Feb 2017 14h55m09s][INFO] Transfering parameters from conv_bn_3\u001b[0m\n",
      "\u001b[32m[03 Feb 2017 14h55m09s][INFO] Transfering parameters from conv_bn_2\u001b[0m\n",
      "\u001b[32m[03 Feb 2017 14h55m09s][INFO] Transfering parameters from conv_bn_4\u001b[0m\n",
      "\u001b[32m[03 Feb 2017 14h55m09s][INFO] Transfering parameters from mixed_6_l2_2_pad_conv_bn_nonlin\u001b[0m\n",
      "\u001b[32m[03 Feb 2017 14h55m09s][INFO] Transfering parameters from mixed_1_l3_3_pad_conv_bn\u001b[0m\n",
      "\u001b[32m[03 Feb 2017 14h55m09s][INFO] Transfering parameters from mixed_4_l3_1_conv_bn_nonlin\u001b[0m\n",
      "\u001b[32m[03 Feb 2017 14h55m09s][INFO] Transfering parameters from mixed_9_l3_3a_pad_conv_bn_nonlin\u001b[0m\n",
      "\u001b[32m[03 Feb 2017 14h55m09s][INFO] Transfering parameters from mixed_9_l2_2a_pad_conv_bn\u001b[0m\n",
      "\u001b[32m[03 Feb 2017 14h55m09s][INFO] Transfering parameters from mixed_2_l1_1_conv\u001b[0m\n",
      "\u001b[32m[03 Feb 2017 14h55m09s][INFO] Transfering parameters from mixed_1_l3_2_pad\u001b[0m\n",
      "\u001b[32m[03 Feb 2017 14h55m09s][INFO] Transfering parameters from mixed_10_l2_2a_pad_conv_bn\u001b[0m\n",
      "\u001b[32m[03 Feb 2017 14h55m09s][INFO] Transfering parameters from mixed_l2_1_conv\u001b[0m\n",
      "\u001b[32m[03 Feb 2017 14h55m09s][INFO] Transfering parameters from mixed_10_l3_2_pad_conv_bn_nonlin\u001b[0m\n",
      "\u001b[32m[03 Feb 2017 14h55m09s][INFO] Transfering parameters from mixed_l2_2_pad_conv_bn\u001b[0m\n",
      "\u001b[32m[03 Feb 2017 14h55m09s][INFO] Transfering parameters from mixed_4_l3_5_pad_conv_bn\u001b[0m\n",
      "\u001b[32m[03 Feb 2017 14h55m09s][INFO] Transfering parameters from mixed_1_l2_2_pad_conv\u001b[0m\n",
      "\u001b[32m[03 Feb 2017 14h55m09s][INFO] Transfering parameters from mixed_4_l3_3_pad_conv_bn_nonlin\u001b[0m\n",
      "\u001b[32m[03 Feb 2017 14h55m09s][INFO] Transfering parameters from mixed_4_14_1\u001b[0m\n",
      "\u001b[32m[03 Feb 2017 14h55m09s][INFO] Transfering parameters from mixed_10_l2_2a_pad\u001b[0m\n",
      "\u001b[32m[03 Feb 2017 14h55m09s][INFO] Transfering parameters from mixed_10_l3_1_conv_bn\u001b[0m\n",
      "\u001b[32m[03 Feb 2017 14h55m09s][INFO] Transfering parameters from mixed_1_l3_2_pad_conv_bn\u001b[0m\n",
      "\u001b[32m[03 Feb 2017 14h55m09s][INFO] Transfering parameters from mixed_8_l2_3_pad_conv\u001b[0m\n",
      "\u001b[32m[03 Feb 2017 14h55m09s][INFO] Transfering parameters from mixed_5_l4_3_conv_bn_nonlin\u001b[0m\n",
      "\u001b[32m[03 Feb 2017 14h55m09s][INFO] Transfering parameters from mixed_8_l1_1_conv_bn_nonlin\u001b[0m\n",
      "\u001b[32m[03 Feb 2017 14h55m09s][INFO] Transfering parameters from mixed_9_14_1\u001b[0m\n",
      "\u001b[32m[03 Feb 2017 14h55m09s][INFO] Transfering parameters from mixed_6_l3_1_conv_bn_nonlin\u001b[0m\n",
      "\u001b[32m[03 Feb 2017 14h55m09s][INFO] Transfering parameters from mixed_9_l3_3a_pad_conv\u001b[0m\n",
      "\u001b[32m[03 Feb 2017 14h55m09s][INFO] Transfering parameters from mixed_2_l3_3_pad_conv\u001b[0m\n",
      "\u001b[32m[03 Feb 2017 14h55m09s][INFO] Transfering parameters from conv_nonlin\u001b[0m\n",
      "\u001b[34m[03 Feb 2017 14h55m09s][WARNING] Ignoring weights from pool3\u001b[0m\n",
      "\u001b[32m[03 Feb 2017 14h55m09s][INFO] Transfering parameters from mixed_1_l3_1_conv\u001b[0m\n",
      "\u001b[32m[03 Feb 2017 14h55m09s][INFO] Transfering parameters from mixed_2_l4_3_conv\u001b[0m\n",
      "\u001b[32m[03 Feb 2017 14h55m09s][INFO] Transfering parameters from mixed_2_l3_1_conv_bn\u001b[0m\n",
      "\u001b[32m[03 Feb 2017 14h55m09s][INFO] Transfering parameters from mixed_7_l4_3_conv_bn\u001b[0m\n",
      "\u001b[32m[03 Feb 2017 14h55m09s][INFO] Transfering parameters from mixed_l2_2_pad_conv\u001b[0m\n",
      "\u001b[32m[03 Feb 2017 14h55m09s][INFO] Transfering parameters from mixed_6_l3_4_pad_conv_bn\u001b[0m\n",
      "\u001b[32m[03 Feb 2017 14h55m09s][INFO] Transfering parameters from mixed_9_l2_2a_pad\u001b[0m\n",
      "\u001b[32m[03 Feb 2017 14h55m09s][INFO] Transfering parameters from mixed_5_l2_3_pad_conv\u001b[0m\n",
      "\u001b[34m[03 Feb 2017 14h55m09s][WARNING] Ignoring weights from softmax\u001b[0m\n",
      "\u001b[32m[03 Feb 2017 14h55m09s][INFO] Transfering parameters from mixed_1_l2_1_conv_bn\u001b[0m\n",
      "\u001b[32m[03 Feb 2017 14h55m09s][INFO] Transfering parameters from mixed_4_l3_2_pad\u001b[0m\n",
      "\u001b[32m[03 Feb 2017 14h55m09s][INFO] Transfering parameters from mixed_8_l2_3_pad_conv_bn\u001b[0m\n",
      "\u001b[32m[03 Feb 2017 14h55m09s][INFO] Transfering parameters from mixed_10_l3_3a_pad_conv_bn_nonlin\u001b[0m\n",
      "\u001b[32m[03 Feb 2017 14h55m09s][INFO] Transfering parameters from mixed_5_l2_1_conv_bn\u001b[0m\n",
      "\u001b[32m[03 Feb 2017 14h55m09s][INFO] Transfering parameters from mixed_5_l4_3_conv_bn\u001b[0m\n",
      "\u001b[32m[03 Feb 2017 14h55m09s][INFO] Transfering parameters from mixed_6_l2_3_pad_conv_bn\u001b[0m\n",
      "\u001b[32m[03 Feb 2017 14h55m09s][INFO] Transfering parameters from mixed_7_l3_5_pad_conv_bn_nonlin\u001b[0m\n",
      "\u001b[32m[03 Feb 2017 14h55m09s][INFO] Transfering parameters from mixed_9_l3_2_pad_conv_bn_nonlin\u001b[0m\n",
      "\u001b[32m[03 Feb 2017 14h55m09s][INFO] Transfering parameters from mixed_8_l2_2_pad\u001b[0m\n",
      "\u001b[32m[03 Feb 2017 14h55m09s][INFO] Transfering parameters from mixed_1_l2_1_conv_bn_nonlin\u001b[0m\n",
      "\u001b[32m[03 Feb 2017 14h55m09s][INFO] Transfering parameters from mixed_9_l2_1_conv_bn\u001b[0m\n",
      "\u001b[32m[03 Feb 2017 14h55m09s][INFO] Transfering parameters from mixed_l2_1_conv_bn_nonlin\u001b[0m\n",
      "\u001b[32m[03 Feb 2017 14h55m09s][INFO] Transfering parameters from mixed_7_l2_3_pad_conv\u001b[0m\n",
      "\u001b[32m[03 Feb 2017 14h55m09s][INFO] Transfering parameters from mixed_3_l2_1_conv_bn\u001b[0m\n",
      "\u001b[32m[03 Feb 2017 14h55m09s][INFO] Transfering parameters from mixed_10_l3_3b_pad_conv\u001b[0m\n",
      "\u001b[32m[03 Feb 2017 14h55m09s][INFO] Transfering parameters from mixed_6_l3_5_pad\u001b[0m\n",
      "\u001b[32m[03 Feb 2017 14h55m09s][INFO] Transfering parameters from mixed_l3_2_pad_conv\u001b[0m\n",
      "\u001b[32m[03 Feb 2017 14h55m09s][INFO] Transfering parameters from mixed_1_14_1\u001b[0m\n",
      "\u001b[32m[03 Feb 2017 14h55m09s][INFO] Transfering parameters from mixed_8_l2_4_conv_bn_nonlin\u001b[0m\n",
      "\u001b[32m[03 Feb 2017 14h55m09s][INFO] Transfering parameters from mixed_10_l3_1_conv\u001b[0m\n",
      "\u001b[32m[03 Feb 2017 14h55m09s][INFO] Transfering parameters from conv_4\u001b[0m\n",
      "\u001b[32m[03 Feb 2017 14h55m09s][INFO] Transfering parameters from mixed_4_l1_1_conv\u001b[0m\n",
      "\u001b[32m[03 Feb 2017 14h55m09s][INFO] Transfering parameters from mixed_5_l3_3_pad_conv_bn_nonlin\u001b[0m\n",
      "\u001b[32m[03 Feb 2017 14h55m09s][INFO] Transfering parameters from mixed_8_l1_2_conv_bn\u001b[0m\n",
      "\u001b[32m[03 Feb 2017 14h55m09s][INFO] Transfering parameters from mixed_10_l3_1_conv_bn_nonlin\u001b[0m\n",
      "\u001b[32m[03 Feb 2017 14h55m09s][INFO] Transfering parameters from mixed_7_l3_2_pad_conv_bn_nonlin\u001b[0m\n",
      "\u001b[32m[03 Feb 2017 14h55m09s][INFO] Transfering parameters from mixed_10_l1_1_conv\u001b[0m\n",
      "\u001b[32m[03 Feb 2017 14h55m09s][INFO] Transfering parameters from mixed_7_l3_2_pad\u001b[0m\n",
      "\u001b[32m[03 Feb 2017 14h55m09s][INFO] Transfering parameters from mixed_l3_1_conv_bn_nonlin\u001b[0m\n",
      "\u001b[32m[03 Feb 2017 14h55m09s][INFO] Transfering parameters from mixed_6_l3_2_pad\u001b[0m\n",
      "\u001b[32m[03 Feb 2017 14h55m09s][INFO] Transfering parameters from mixed_2_l2_2_pad_conv_bn\u001b[0m\n",
      "\u001b[32m[03 Feb 2017 14h55m09s][INFO] Transfering parameters from mixed_7_l3_2_pad_conv_bn\u001b[0m\n",
      "\u001b[32m[03 Feb 2017 14h55m09s][INFO] Transfering parameters from mixed_6_l2_3_pad_conv\u001b[0m\n",
      "\u001b[32m[03 Feb 2017 14h55m09s][INFO] Transfering parameters from mixed_6_l3_3_pad_conv_bn\u001b[0m\n",
      "\u001b[32m[03 Feb 2017 14h55m09s][INFO] Transfering parameters from mixed_6_l3_3_pad_conv_bn_nonlin\u001b[0m\n",
      "\u001b[32m[03 Feb 2017 14h55m09s][INFO] Transfering parameters from mixed_7_l3_1_conv\u001b[0m\n",
      "\u001b[32m[03 Feb 2017 14h55m09s][INFO] Transfering parameters from mixed_1_l3_3_pad_conv_bn_nonlin\u001b[0m\n",
      "\u001b[32m[03 Feb 2017 14h55m09s][INFO] Transfering parameters from mixed_6_l2_3_pad\u001b[0m\n",
      "\u001b[32m[03 Feb 2017 14h55m09s][INFO] Transfering parameters from mixed_2_l3_2_pad_conv\u001b[0m\n",
      "\u001b[32m[03 Feb 2017 14h55m09s][INFO] Transfering parameters from mixed_10_l3_3b_pad_conv_bn\u001b[0m\n",
      "\u001b[32m[03 Feb 2017 14h55m09s][INFO] Transfering parameters from mixed_1_l1_1_conv_bn\u001b[0m\n",
      "\u001b[32m[03 Feb 2017 14h55m09s][INFO] Transfering parameters from mixed_7_l3_4_pad_conv\u001b[0m\n",
      "\u001b[32m[03 Feb 2017 14h55m09s][INFO] Transfering parameters from mixed_6_l4_3_conv_bn\u001b[0m\n",
      "\u001b[32m[03 Feb 2017 14h55m09s][INFO] Transfering parameters from mixed_6_l1_1_conv_bn_nonlin\u001b[0m\n",
      "\u001b[32m[03 Feb 2017 14h55m09s][INFO] Transfering parameters from mixed_4_l3_2_pad_conv_bn\u001b[0m\n",
      "\u001b[32m[03 Feb 2017 14h55m09s][INFO] Transfering parameters from mixed_10\u001b[0m\n",
      "\u001b[32m[03 Feb 2017 14h55m09s][INFO] Transfering parameters from mixed_5_l3_1_conv\u001b[0m\n",
      "\u001b[32m[03 Feb 2017 14h55m09s][INFO] Transfering parameters from mixed_9_l1_1_conv_bn\u001b[0m\n",
      "\u001b[32m[03 Feb 2017 14h55m09s][INFO] Transfering parameters from mixed_3_l2_3_conv\u001b[0m\n",
      "\u001b[32m[03 Feb 2017 14h55m09s][INFO] Transfering parameters from mixed_10_l2_2b_pad_conv_bn_nonlin\u001b[0m\n",
      "\u001b[32m[03 Feb 2017 14h55m09s][INFO] Transfering parameters from mixed_5_l2_2_pad_conv_bn\u001b[0m\n",
      "\u001b[32m[03 Feb 2017 14h55m09s][INFO] Transfering parameters from mixed_5_l2_2_pad_conv_bn_nonlin\u001b[0m\n",
      "\u001b[32m[03 Feb 2017 14h55m09s][INFO] Transfering parameters from mixed_4_l3_4_pad_conv\u001b[0m\n",
      "\u001b[32m[03 Feb 2017 14h55m09s][INFO] Transfering parameters from mixed_3_l2_2_pad_conv\u001b[0m\n",
      "\u001b[32m[03 Feb 2017 14h55m09s][INFO] Transfering parameters from mixed_7_l3_1_conv_bn_nonlin\u001b[0m\n",
      "\u001b[32m[03 Feb 2017 14h55m09s][INFO] Transfering parameters from mixed_l4_3_conv_bn\u001b[0m\n",
      "\u001b[32m[03 Feb 2017 14h55m09s][INFO] Transfering parameters from mixed_5_l3_3_pad_conv\u001b[0m\n",
      "\u001b[32m[03 Feb 2017 14h55m09s][INFO] Transfering parameters from padding_conv2\u001b[0m\n",
      "\u001b[32m[03 Feb 2017 14h55m09s][INFO] Transfering parameters from mixed_4_l3_3_pad_conv\u001b[0m\n",
      "\u001b[32m[03 Feb 2017 14h55m09s][INFO] Transfering parameters from mixed_9_l2_2b_pad\u001b[0m\n",
      "\u001b[32m[03 Feb 2017 14h55m09s][INFO] Transfering parameters from mixed_5_l3_1_conv_bn\u001b[0m\n",
      "\u001b[32m[03 Feb 2017 14h55m09s][INFO] Transfering parameters from mixed_5_l3_2_pad_conv_bn\u001b[0m\n",
      "\u001b[32m[03 Feb 2017 14h55m09s][INFO] Transfering parameters from mixed_2_l3_2_pad\u001b[0m\n",
      "\u001b[32m[03 Feb 2017 14h55m09s][INFO] Transfering parameters from mixed_5_l3_3_pad\u001b[0m\n",
      "\u001b[32m[03 Feb 2017 14h55m09s][INFO] Transfering parameters from mixed_7_l4_3_conv_bn_nonlin\u001b[0m\n",
      "\u001b[32m[03 Feb 2017 14h55m09s][INFO] Transfering parameters from mixed_10_l3_3b_pad_conv_bn_nonlin\u001b[0m\n",
      "\u001b[32m[03 Feb 2017 14h55m09s][INFO] Transfering parameters from mixed_1_l4_3_conv_bn_nonlin\u001b[0m\n",
      "\u001b[32m[03 Feb 2017 14h55m09s][INFO] Transfering parameters from mixed_6_l3_5_pad_conv_bn_nonlin\u001b[0m\n",
      "\u001b[32m[03 Feb 2017 14h55m09s][INFO] Transfering parameters from mixed_10_l1_1_conv_bn_nonlin\u001b[0m\n",
      "\u001b[32m[03 Feb 2017 14h55m09s][INFO] Transfering parameters from mixed_9_l3_3b_pad\u001b[0m\n",
      "\u001b[32m[03 Feb 2017 14h55m09s][INFO] Transfering parameters from mixed_10_l4_3_conv_bn_nonlin\u001b[0m\n",
      "\u001b[32m[03 Feb 2017 14h55m09s][INFO] Transfering parameters from mixed_10_l3_3a_pad_conv_bn\u001b[0m\n",
      "\u001b[32m[03 Feb 2017 14h55m09s][INFO] Transfering parameters from mixed_5_l3_5_pad_conv\u001b[0m\n",
      "\u001b[32m[03 Feb 2017 14h55m09s][INFO] Transfering parameters from mixed_4_l4_3_conv\u001b[0m\n",
      "\u001b[32m[03 Feb 2017 14h55m09s][INFO] Transfering parameters from mixed_9_l2_2b_pad_conv_bn\u001b[0m\n",
      "\u001b[32m[03 Feb 2017 14h55m09s][INFO] Transfering parameters from mixed_6_l3_3_pad_conv\u001b[0m\n",
      "\u001b[32m[03 Feb 2017 14h55m09s][INFO] Transfering parameters from mixed_7_l2_1_conv_bn\u001b[0m\n",
      "\u001b[32m[03 Feb 2017 14h55m09s][INFO] Transfering parameters from mixed_6_l2_2_pad_conv_bn\u001b[0m\n",
      "\u001b[32m[03 Feb 2017 14h55m09s][INFO] Transfering parameters from mixed_1_l3_1_conv_bn_nonlin\u001b[0m\n",
      "\u001b[32m[03 Feb 2017 14h55m09s][INFO] Transfering parameters from mixed_5_l3_4_pad_conv_bn\u001b[0m\n",
      "\u001b[32m[03 Feb 2017 14h55m09s][INFO] Transfering parameters from mixed_9_l3_1_conv_bn\u001b[0m\n",
      "\u001b[32m[03 Feb 2017 14h55m09s][INFO] Transfering parameters from mixed_2_l3_2_pad_conv_bn\u001b[0m\n",
      "\u001b[32m[03 Feb 2017 14h55m09s][INFO] Transfering parameters from mixed_4_l2_2_pad_conv_bn\u001b[0m\n",
      "\u001b[32m[03 Feb 2017 14h55m09s][INFO] Transfering parameters from mixed_4_14_2\u001b[0m\n",
      "\u001b[32m[03 Feb 2017 14h55m09s][INFO] Transfering parameters from mixed_6_l1_1_conv_bn\u001b[0m\n",
      "\u001b[32m[03 Feb 2017 14h55m09s][INFO] Transfering parameters from mixed_8_l2_1_conv_bn_nonlin\u001b[0m\n",
      "\u001b[32m[03 Feb 2017 14h55m09s][INFO] Transfering parameters from mixed_5_l3_2_pad_conv_bn_nonlin\u001b[0m\n",
      "\u001b[32m[03 Feb 2017 14h55m09s][INFO] Transfering parameters from mixed_6_14_2\u001b[0m\n",
      "\u001b[32m[03 Feb 2017 14h55m09s][INFO] Transfering parameters from mixed_6_14_1\u001b[0m\n",
      "\u001b[32m[03 Feb 2017 14h55m09s][INFO] Transfering parameters from mixed_5_l3_5_pad_conv_bn_nonlin\u001b[0m\n",
      "\u001b[32m[03 Feb 2017 14h55m09s][INFO] Transfering parameters from mixed_4_l4_3_conv_bn_nonlin\u001b[0m\n",
      "\u001b[32m[03 Feb 2017 14h55m09s][INFO] Transfering parameters from mixed_7_l2_1_conv_bn_nonlin\u001b[0m\n",
      "\u001b[32m[03 Feb 2017 14h55m09s][INFO] Transfering parameters from mixed_4_l3_2_pad_conv_bn_nonlin\u001b[0m\n",
      "\u001b[32m[03 Feb 2017 14h55m09s][INFO] Transfering parameters from mixed_6_l3_4_pad\u001b[0m\n",
      "\u001b[32m[03 Feb 2017 14h55m09s][INFO] Transfering parameters from mixed_5_l2_3_pad_conv_bn_nonlin\u001b[0m\n",
      "\u001b[32m[03 Feb 2017 14h55m09s][INFO] Transfering parameters from mixed_l3_3_pad\u001b[0m\n",
      "\u001b[32m[03 Feb 2017 14h55m09s][INFO] Transfering parameters from mixed_9_l4_3_conv_bn_nonlin\u001b[0m\n",
      "\u001b[32m[03 Feb 2017 14h55m09s][INFO] Transfering parameters from mixed_l3_3_pad_conv\u001b[0m\n",
      "\u001b[32m[03 Feb 2017 14h55m09s][INFO] Transfering parameters from mixed_9_14_2\u001b[0m\n",
      "\u001b[32m[03 Feb 2017 14h55m09s][INFO] Transfering parameters from mixed_5_l3_2_pad_conv\u001b[0m\n",
      "\u001b[32m[03 Feb 2017 14h55m09s][INFO] Transfering parameters from mixed_1_l3_1_conv_bn\u001b[0m\n",
      "\u001b[32m[03 Feb 2017 14h55m09s][INFO] Transfering parameters from mixed_5_l2_1_conv\u001b[0m\n",
      "\u001b[32m[03 Feb 2017 14h55m09s][INFO] Transfering parameters from mixed_10_l1_1_conv_bn\u001b[0m\n",
      "\u001b[32m[03 Feb 2017 14h55m09s][INFO] Transfering parameters from mixed_7_l3_5_pad_conv\u001b[0m\n",
      "\u001b[32m[03 Feb 2017 14h55m09s][INFO] Transfering parameters from mixed_1_l3_2_pad_conv_bn_nonlin\u001b[0m\n",
      "\u001b[32m[03 Feb 2017 14h55m09s][INFO] Transfering parameters from mixed_4_l3_4_pad\u001b[0m\n",
      "\u001b[32m[03 Feb 2017 14h55m09s][INFO] Transfering parameters from mixed_7_l3_2_pad_conv\u001b[0m\n",
      "\u001b[32m[03 Feb 2017 14h55m09s][INFO] Transfering parameters from mixed_5_l1_1_conv_bn\u001b[0m\n",
      "\u001b[32m[03 Feb 2017 14h55m09s][INFO] Transfering parameters from mixed_2_l2_1_conv_bn_nonlin\u001b[0m\n",
      "\u001b[32m[03 Feb 2017 14h55m09s][INFO] Transfering parameters from mixed_4_l3_5_pad\u001b[0m\n",
      "\u001b[32m[03 Feb 2017 14h55m09s][INFO] Transfering parameters from mixed_1_l1_1_conv_bn_nonlin\u001b[0m\n",
      "\u001b[32m[03 Feb 2017 14h55m09s][INFO] Transfering parameters from mixed_1_14_2\u001b[0m\n",
      "\u001b[32m[03 Feb 2017 14h55m09s][INFO] Transfering parameters from mixed_10_l2_2b_pad\u001b[0m\n",
      "\u001b[32m[03 Feb 2017 14h55m09s][INFO] Transfering parameters from conv_bn\u001b[0m\n",
      "\u001b[32m[03 Feb 2017 14h55m09s][INFO] Transfering parameters from mixed_7_l1_1_conv_bn\u001b[0m\n",
      "\u001b[32m[03 Feb 2017 14h55m09s][INFO] Transfering parameters from mixed_5_l2_1_conv_bn_nonlin\u001b[0m\n",
      "\u001b[32m[03 Feb 2017 14h55m09s][INFO] Transfering parameters from mixed_2_l3_3_pad_conv_bn\u001b[0m\n",
      "\u001b[32m[03 Feb 2017 14h55m09s][INFO] Transfering parameters from mixed_7_l2_1_conv\u001b[0m\n",
      "\u001b[32m[03 Feb 2017 14h55m09s][INFO] Transfering parameters from mixed_l3_1_conv\u001b[0m\n",
      "\u001b[32m[03 Feb 2017 14h55m09s][INFO] Transfering parameters from mixed_5_l3_4_pad_conv_bn_nonlin\u001b[0m\n",
      "\u001b[32m[03 Feb 2017 14h55m09s][INFO] Transfering parameters from mixed_7_l3_4_pad_conv_bn\u001b[0m\n",
      "\u001b[32m[03 Feb 2017 14h55m09s][INFO] Transfering parameters from mixed_6_l2_1_conv_bn\u001b[0m\n",
      "\u001b[32m[03 Feb 2017 14h55m09s][INFO] Transfering parameters from mixed_4_l3_5_pad_conv_bn_nonlin\u001b[0m\n",
      "\u001b[32m[03 Feb 2017 14h55m09s][INFO] Transfering parameters from mixed_2_l3_3_pad\u001b[0m\n",
      "\u001b[32m[03 Feb 2017 14h55m09s][INFO] Transfering parameters from pool_1\u001b[0m\n",
      "\u001b[32m[03 Feb 2017 14h55m09s][INFO] Transfering parameters from mixed_3_l2_2_pad_conv_bn\u001b[0m\n",
      "\u001b[32m[03 Feb 2017 14h55m09s][INFO] Transfering parameters from mixed_9\u001b[0m\n",
      "\u001b[32m[03 Feb 2017 14h55m09s][INFO] Transfering parameters from mixed_8\u001b[0m\n",
      "\u001b[32m[03 Feb 2017 14h55m09s][INFO] Transfering parameters from mixed_7\u001b[0m\n",
      "\u001b[32m[03 Feb 2017 14h55m09s][INFO] Transfering parameters from mixed_6\u001b[0m\n",
      "\u001b[32m[03 Feb 2017 14h55m09s][INFO] Transfering parameters from mixed_5\u001b[0m\n",
      "\u001b[32m[03 Feb 2017 14h55m09s][INFO] Transfering parameters from mixed_4\u001b[0m\n",
      "\u001b[32m[03 Feb 2017 14h55m09s][INFO] Transfering parameters from mixed_3\u001b[0m\n",
      "\u001b[32m[03 Feb 2017 14h55m09s][INFO] Transfering parameters from mixed_2\u001b[0m\n",
      "\u001b[32m[03 Feb 2017 14h55m09s][INFO] Transfering parameters from mixed_1\u001b[0m\n",
      "\u001b[32m[03 Feb 2017 14h55m09s][INFO] Transfering parameters from mixed_4_l2_1_conv\u001b[0m\n",
      "\u001b[32m[03 Feb 2017 14h55m09s][INFO] Transfering parameters from mixed_5_l2_3_pad_conv_bn\u001b[0m\n",
      "\u001b[32m[03 Feb 2017 14h55m09s][INFO] Transfering parameters from mixed_7_l2_3_pad_conv_bn\u001b[0m\n",
      "\u001b[32m[03 Feb 2017 14h55m09s][INFO] Transfering parameters from mixed_10_l3_3a_pad_conv\u001b[0m\n",
      "\u001b[32m[03 Feb 2017 14h55m09s][INFO] Transfering parameters from mixed_1_l2_2_pad_conv_bn\u001b[0m\n",
      "\u001b[32m[03 Feb 2017 14h55m09s][INFO] Transfering parameters from mixed_9_l4_3_conv_bn\u001b[0m\n",
      "\u001b[32m[03 Feb 2017 14h55m09s][INFO] Transfering parameters from mixed_6_l3_1_conv\u001b[0m\n",
      "\u001b[32m[03 Feb 2017 14h55m09s][INFO] Transfering parameters from mixed_14_1\u001b[0m\n",
      "\u001b[32m[03 Feb 2017 14h55m09s][INFO] Transfering parameters from mixed_14_2\u001b[0m\n",
      "\u001b[32m[03 Feb 2017 14h55m09s][INFO] Transfering parameters from mixed_8_13_1\u001b[0m\n",
      "\u001b[32m[03 Feb 2017 14h55m09s][INFO] Transfering parameters from mixed_7_l3_3_pad_conv_bn_nonlin\u001b[0m\n",
      "\u001b[32m[03 Feb 2017 14h55m09s][INFO] Transfering parameters from mixed_2_l2_1_conv_bn\u001b[0m\n",
      "\u001b[32m[03 Feb 2017 14h55m09s][INFO] Transfering parameters from mixed_6_l2_2_pad\u001b[0m\n",
      "\u001b[32m[03 Feb 2017 14h55m09s][INFO] Transfering parameters from mixed_6_l2_1_conv\u001b[0m\n",
      "\u001b[32m[03 Feb 2017 14h55m09s][INFO] Transfering parameters from conv\u001b[0m\n",
      "\u001b[32m[03 Feb 2017 14h55m09s][INFO] Transfering parameters from mixed_l4_3_conv\u001b[0m\n",
      "\u001b[32m[03 Feb 2017 14h55m09s][INFO] Transfering parameters from mixed_4_l3_5_pad_conv\u001b[0m\n",
      "\u001b[32m[03 Feb 2017 14h55m09s][INFO] Transfering parameters from mixed_4_l3_4_pad_conv_bn\u001b[0m\n",
      "\u001b[32m[03 Feb 2017 14h55m09s][INFO] Transfering parameters from mixed_7_l1_1_conv\u001b[0m\n",
      "\u001b[32m[03 Feb 2017 14h55m09s][INFO] Transfering parameters from mixed_1_l4_3_conv_bn\u001b[0m\n",
      "\u001b[32m[03 Feb 2017 14h55m09s][INFO] Transfering parameters from mixed_l3_1_conv_bn\u001b[0m\n",
      "\u001b[32m[03 Feb 2017 14h55m09s][INFO] Transfering parameters from mixed_l3_2_pad_conv_bn\u001b[0m\n",
      "\u001b[32m[03 Feb 2017 14h55m09s][INFO] Transfering parameters from mixed_2_14_2\u001b[0m\n",
      "\u001b[32m[03 Feb 2017 14h55m09s][INFO] Transfering parameters from mixed_2_14_1\u001b[0m\n",
      "\u001b[32m[03 Feb 2017 14h55m09s][INFO] Transfering parameters from mixed_9_l2_1_conv_bn_nonlin\u001b[0m\n",
      "\u001b[32m[03 Feb 2017 14h55m09s][INFO] Transfering parameters from mixed_6_l3_1_conv_bn\u001b[0m\n",
      "\u001b[32m[03 Feb 2017 14h55m09s][INFO] Transfering parameters from mixed_4_l2_2_pad_conv_bn_nonlin\u001b[0m\n",
      "\u001b[32m[03 Feb 2017 14h55m09s][INFO] Transfering parameters from mixed_7_l3_4_pad_conv_bn_nonlin\u001b[0m\n",
      "\u001b[32m[03 Feb 2017 14h55m09s][INFO] Transfering parameters from mixed_6_l2_1_conv_bn_nonlin\u001b[0m\n",
      "\u001b[32m[03 Feb 2017 14h55m09s][INFO] Transfering parameters from mixed_10_l2_1_conv_bn\u001b[0m\n",
      "\u001b[32m[03 Feb 2017 14h55m09s][INFO] Transfering parameters from mixed_10_l2_2a_pad_conv_bn_nonlin\u001b[0m\n",
      "\u001b[32m[03 Feb 2017 14h55m09s][INFO] Transfering parameters from mixed_5_l2_2_pad_conv\u001b[0m\n",
      "\u001b[32m[03 Feb 2017 14h55m09s][INFO] Transfering parameters from mixed_6_l3_5_pad_conv_bn\u001b[0m\n",
      "\u001b[32m[03 Feb 2017 14h55m09s][INFO] Transfering parameters from mixed_9_l2_1_conv\u001b[0m\n",
      "\u001b[32m[03 Feb 2017 14h55m09s][INFO] Transfering parameters from mixed_9_l1_1_conv_bn_nonlin\u001b[0m\n",
      "\u001b[32m[03 Feb 2017 14h55m09s][INFO] Transfering parameters from mixed_2_l3_1_conv\u001b[0m\n",
      "\u001b[32m[03 Feb 2017 14h55m09s][INFO] Transfering parameters from mixed_9_l1_1_conv\u001b[0m\n",
      "\u001b[32m[03 Feb 2017 14h55m09s][INFO] Transfering parameters from mixed_5_l1_1_conv_bn_nonlin\u001b[0m\n",
      "\u001b[32m[03 Feb 2017 14h55m09s][INFO] Transfering parameters from mixed_10_l3_2_pad_conv_bn\u001b[0m\n",
      "\u001b[32m[03 Feb 2017 14h55m09s][INFO] Transfering parameters from mixed_2_l2_2_pad_conv\u001b[0m\n",
      "\u001b[32m[03 Feb 2017 14h55m09s][INFO] Transfering parameters from mixed_2_l2_2_pad\u001b[0m\n",
      "\u001b[32m[03 Feb 2017 14h55m09s][INFO] Transfering parameters from mixed_5_l2_3_pad\u001b[0m\n",
      "\u001b[32m[03 Feb 2017 14h55m09s][INFO] Transfering parameters from mixed_8_l1_2_conv_bn_nonlin\u001b[0m\n",
      "\u001b[32m[03 Feb 2017 14h55m09s][INFO] Transfering parameters from mixed_6_l3_2_pad_conv\u001b[0m\n",
      "\u001b[32m[03 Feb 2017 14h55m09s][INFO] Transfering parameters from mixed_7_l3_3_pad_conv_bn\u001b[0m\n",
      "\u001b[32m[03 Feb 2017 14h55m09s][INFO] Transfering parameters from mixed_9_l3_3b_pad_conv_bn_nonlin\u001b[0m\n",
      "\u001b[32m[03 Feb 2017 14h55m09s][INFO] Transfering parameters from mixed_4_l1_1_conv_bn\u001b[0m\n",
      "\u001b[32m[03 Feb 2017 14h55m09s][INFO] Transfering parameters from mixed_4_l3_2_pad_conv\u001b[0m\n",
      "\u001b[32m[03 Feb 2017 14h55m09s][INFO] Transfering parameters from mixed_4_l2_1_conv_bn_nonlin\u001b[0m\n",
      "\u001b[32m[03 Feb 2017 14h55m09s][INFO] Transfering parameters from mixed_7_l3_5_pad\u001b[0m\n",
      "\u001b[32m[03 Feb 2017 14h55m09s][INFO] Transfering parameters from mixed_l3_3_pad_conv_bn_nonlin\u001b[0m\n",
      "\u001b[32m[03 Feb 2017 14h55m09s][INFO] Transfering parameters from mixed_9_l3_1_conv_bn_nonlin\u001b[0m\n",
      "\u001b[32m[03 Feb 2017 14h55m09s][INFO] Transfering parameters from mixed_5_l3_5_pad\u001b[0m\n",
      "\u001b[32m[03 Feb 2017 14h55m09s][INFO] Transfering parameters from mixed_3_l2_1_conv_bn_nonlin\u001b[0m\n",
      "\u001b[32m[03 Feb 2017 14h55m09s][INFO] Transfering parameters from mixed_8_l2_1_conv\u001b[0m\n",
      "\u001b[32m[03 Feb 2017 14h55m09s][INFO] Transfering parameters from mixed_4_l1_1_conv_bn_nonlin\u001b[0m\n",
      "\u001b[32m[03 Feb 2017 14h55m09s][INFO] Transfering parameters from mixed_10_l2_2b_pad_conv_bn\u001b[0m\n",
      "\u001b[32m[03 Feb 2017 14h55m09s][INFO] Transfering parameters from mixed_10_l2_1_conv\u001b[0m\n",
      "\u001b[34m[03 Feb 2017 14h55m09s][WARNING] Ignoring weights from prob\u001b[0m\n",
      "\u001b[32m[03 Feb 2017 14h55m09s][INFO] Transfering parameters from mixed_4_l3_3_pad\u001b[0m\n",
      "\u001b[32m[03 Feb 2017 14h55m09s][INFO] Transfering parameters from mixed_6_l3_2_pad_conv_bn\u001b[0m\n",
      "\u001b[32m[03 Feb 2017 14h55m09s][INFO] Transfering parameters from mixed_9_l4_3_conv\u001b[0m\n",
      "\u001b[32m[03 Feb 2017 14h55m09s][INFO] Transfering parameters from mixed_5_14_2\u001b[0m\n",
      "\u001b[32m[03 Feb 2017 14h55m09s][INFO] Transfering parameters from mixed_l3_2_pad\u001b[0m\n",
      "\u001b[32m[03 Feb 2017 14h55m09s][INFO] Transfering parameters from mixed_5_14_1\u001b[0m\n",
      "\u001b[32m[03 Feb 2017 14h55m09s][INFO] Transfering parameters from mixed_4_l4_3_conv_bn\u001b[0m\n",
      "\u001b[32m[03 Feb 2017 14h55m09s][INFO] Transfering parameters from mixed_5_l3_5_pad_conv_bn\u001b[0m\n",
      "\u001b[32m[03 Feb 2017 14h55m09s][INFO] Transfering parameters from mixed_9_l3_1_conv\u001b[0m\n",
      "\u001b[32m[03 Feb 2017 14h55m09s][INFO] Transfering parameters from mixed_4_l2_1_conv_bn\u001b[0m\n",
      "\u001b[32m[03 Feb 2017 14h55m09s][INFO] Transfering parameters from mixed\u001b[0m\n",
      "\u001b[32m[03 Feb 2017 14h55m09s][INFO] Transfering parameters from mixed_3_l2_2_pad\u001b[0m\n",
      "\u001b[32m[03 Feb 2017 14h55m09s][INFO] Transfering parameters from mixed_6_l1_1_conv\u001b[0m\n",
      "\u001b[32m[03 Feb 2017 14h55m09s][INFO] Transfering parameters from mixed_7_l2_2_pad_conv\u001b[0m\n",
      "\u001b[32m[03 Feb 2017 14h55m09s][INFO] Transfering parameters from mixed_l1_1_conv_bn_nonlin\u001b[0m\n",
      "\u001b[32m[03 Feb 2017 14h55m09s][INFO] Transfering parameters from mixed_3_l2_3_conv_bn\u001b[0m\n",
      "\u001b[32m[03 Feb 2017 14h55m09s][INFO] Transfering parameters from mixed_l2_1_conv_bn\u001b[0m\n",
      "\u001b[32m[03 Feb 2017 14h55m09s][INFO] Transfering parameters from mixed_2_l3_3_pad_conv_bn_nonlin\u001b[0m\n",
      "\u001b[32m[03 Feb 2017 14h55m09s][INFO] Transfering parameters from mixed_8_l2_3_pad_conv_bn_nonlin\u001b[0m\n",
      "\u001b[32m[03 Feb 2017 14h55m09s][INFO] Transfering parameters from mixed_5_l3_2_pad\u001b[0m\n",
      "\u001b[32m[03 Feb 2017 14h55m09s][INFO] Transfering parameters from mixed_8_l2_4_conv_bn\u001b[0m\n",
      "\u001b[32m[03 Feb 2017 14h55m09s][INFO] Transfering parameters from mixed_8_l1_2_conv\u001b[0m\n",
      "\u001b[32m[03 Feb 2017 14h55m09s][INFO] Transfering parameters from mixed_8_l2_4_conv\u001b[0m\n",
      "\u001b[32m[03 Feb 2017 14h55m09s][INFO] Transfering parameters from mixed_10_l3_3a_pad\u001b[0m\n",
      "\u001b[32m[03 Feb 2017 14h55m09s][INFO] Transfering parameters from mixed_7_l2_2_pad_conv_bn_nonlin\u001b[0m\n",
      "\u001b[32m[03 Feb 2017 14h55m09s][INFO] Transfering parameters from mixed_6_l4_3_conv_bn_nonlin\u001b[0m\n",
      "\u001b[32m[03 Feb 2017 14h55m09s][INFO] Transfering parameters from mixed_7_l3_3_pad\u001b[0m\n",
      "\u001b[32m[03 Feb 2017 14h55m09s][INFO] Transfering parameters from mixed_7_l3_3_pad_conv\u001b[0m\n",
      "\u001b[32m[03 Feb 2017 14h55m09s][INFO] Transfering parameters from mixed_6_l3_3_pad\u001b[0m\n",
      "\u001b[32m[03 Feb 2017 14h55m09s][INFO] Transfering parameters from mixed_9_l3_3a_pad\u001b[0m\n",
      "\u001b[32m[03 Feb 2017 14h55m09s][INFO] Transfering parameters from mixed_7_l2_2_pad\u001b[0m\n",
      "\u001b[32m[03 Feb 2017 14h55m09s][INFO] Transfering parameters from mixed_3_13_1\u001b[0m\n",
      "\u001b[32m[03 Feb 2017 14h55m09s][INFO] Transfering parameters from mixed_8_l2_2_pad_conv_bn\u001b[0m\n",
      "\u001b[32m[03 Feb 2017 14h55m09s][INFO] Transfering parameters from mixed_9_l3_3a_pad_conv_bn\u001b[0m\n",
      "\u001b[32m[03 Feb 2017 14h55m09s][INFO] Transfering parameters from mixed_3_l2_2_pad_conv_bn_nonlin\u001b[0m\n",
      "\u001b[32m[03 Feb 2017 14h55m09s][INFO] Transfering parameters from mixed_5_l3_4_pad_conv\u001b[0m\n",
      "\u001b[32m[03 Feb 2017 14h55m09s][INFO] Transfering parameters from mixed_l2_2_pad\u001b[0m\n",
      "\u001b[32m[03 Feb 2017 14h55m09s][INFO] Transfering parameters from mixed_7_l3_4_pad\u001b[0m\n",
      "\u001b[32m[03 Feb 2017 14h55m09s][INFO] Transfering parameters from mixed_2_l1_1_conv_bn_nonlin\u001b[0m\n",
      "\u001b[32m[03 Feb 2017 14h55m09s][INFO] Transfering parameters from mixed_5_l1_1_conv\u001b[0m\n",
      "\u001b[32m[03 Feb 2017 14h55m09s][INFO] Transfering parameters from mixed_1_l3_2_pad_conv\u001b[0m\n",
      "\u001b[32m[03 Feb 2017 14h55m09s][INFO] Transfering parameters from mixed_6_l3_5_pad_conv\u001b[0m\n",
      "\u001b[32m[03 Feb 2017 14h55m09s][INFO] Transfering parameters from mixed_9_l2_2a_pad_conv\u001b[0m\n",
      "\u001b[32m[03 Feb 2017 14h55m09s][INFO] Transfering parameters from mixed_9_l3_2_pad\u001b[0m\n",
      "\u001b[32m[03 Feb 2017 14h55m09s][INFO] Transfering parameters from mixed_l2_2_pad_conv_bn_nonlin\u001b[0m\n",
      "\u001b[32m[03 Feb 2017 14h55m09s][INFO] Transfering parameters from mixed_10_l4_3_conv\u001b[0m\n",
      "\u001b[32m[03 Feb 2017 14h55m09s][INFO] Transfering parameters from mixed_9_l3_3b_pad_conv\u001b[0m\n",
      "\u001b[32m[03 Feb 2017 14h55m09s][INFO] Transfering parameters from mixed_4_l3_1_conv_bn\u001b[0m\n",
      "\u001b[32m[03 Feb 2017 14h55m09s][INFO] Transfering parameters from pool\u001b[0m\n",
      "\u001b[32m[03 Feb 2017 14h55m09s][INFO] Transfering parameters from mixed_7_l2_2_pad_conv_bn\u001b[0m\n",
      "\u001b[32m[03 Feb 2017 14h55m09s][INFO] Transfering parameters from mixed_7_l2_3_pad_conv_bn_nonlin\u001b[0m\n",
      "\u001b[32m[03 Feb 2017 14h55m09s][INFO] Transfering parameters from mixed_5_l3_1_conv_bn_nonlin\u001b[0m\n",
      "\u001b[32m[03 Feb 2017 14h55m09s][INFO] Transfering parameters from mixed_5_l3_4_pad\u001b[0m\n",
      "\u001b[32m[03 Feb 2017 14h55m09s][INFO] Transfering parameters from mixed_10_l3_3b_pad\u001b[0m\n",
      "\u001b[32m[03 Feb 2017 14h55m09s][INFO] Transfering parameters from mixed_5_l2_2_pad\u001b[0m\n",
      "\u001b[32m[03 Feb 2017 14h55m09s][INFO] Transfering parameters from mixed_10_14_1\u001b[0m\n",
      "\u001b[32m[03 Feb 2017 14h55m09s][INFO] Transfering parameters from mixed_1_l4_3_conv\u001b[0m\n",
      "\u001b[32m[03 Feb 2017 14h55m09s][INFO] Transfering parameters from mixed_10_14_2\u001b[0m\n",
      "\u001b[32m[03 Feb 2017 14h55m09s][INFO] {'W_constraint': None, 'b_constraint': None, 'name': 'Dense', 'custom_name': 'softmax', 'activity_regularizer': None, 'trainable': True, 'cache_enabled': True, 'init': 'glorot_uniform', 'activation': 'linear', 'input_dim': None, 'b_regularizer': None, 'W_regularizer': None, 'output_dim': 7735}\u001b[0m\n",
      "\u001b[32m[03 Feb 2017 14h55m09s][INFO] Weights Initalized from /nas2/praveen/home/rnd-libs/rnd_libs/lib/keras/model-full-conv.npy\u001b[0m\n",
      "\u001b[32m[03 Feb 2017 14h55m10s][INFO] Processing /nas2/datasets/getty-collection/getty-all/87033390.png (3, 779, 779)\u001b[0m\n",
      "\u001b[32m[03 Feb 2017 14h55m10s][INFO] Processing /nas2/datasets/getty-concept-sourcing/Getty Concept Sourcing/mexican culture/527978255.jpg (3, 779, 779)\u001b[0m\n"
     ]
    },
    {
     "data": {
      "text/plain": [
       "-1.0"
      ]
     },
     "execution_count": 2,
     "metadata": {},
     "output_type": "execute_result"
    }
   ],
   "source": [
    "#%debug\n",
    "trainer_type = 'concepts'\n",
    "trainer = trainer_dict[trainer_type]('./configs/experiment_FCN.yaml', True)\n",
    "trainer.see_model()\n",
    "filenames=['/nas/datasets/getty-collection/getty-all/87033390.png', '/nas/datasets/getty-concept-sourcing/Getty Concept Sourcing/mexican culture/527978255.jpg']\n",
    "# trainer.load_mean_file()\n",
    "# trainer.im_h=779\n",
    "# trainer.im_w=779\n",
    "# trainer.load_synset_file()\n",
    "images=trainer.fetch_images(filenames)\n",
    "import numpy as np\n",
    "np.min(images[0])\n",
    "\n",
    "#tester = tester_dict[trainer_type]('./configs/experiment_FCN.yaml', True)"
   ]
  },
  {
   "cell_type": "code",
   "execution_count": null,
   "metadata": {
    "collapsed": false
   },
   "outputs": [],
   "source": [
    "from keras import backend as K\n",
    "from keras.layers import Layer\n",
    "from keras.layers.convolutional import Convolution2D, MaxPooling2D, ZeroPadding2D, AveragePooling2D\n",
    "\n",
    "\n",
    "# def power_mean_betas(input,p,along_axis):\n",
    "#     #return T.max(x,axis=1) * (1.0**p)\n",
    "#     temp=K.reshape(input* p[None,:,None,None], (input.shape[0]*input.shape[1], input.shape[2]*input.shape[3]))\n",
    "#     x=K.reshape(input, (input.shape[0]*input.shape[1], input.shape[2]*input.shape[3]))\n",
    "#     output = K.sum(K.theano.tensor.nnet.softmax(temp) * x , axis=along_axis)\n",
    "#     return K.reshape(output,(input.shape[0], input.shape[1],1))\n",
    "# def power_mean_betas(input,p,along_axis):\n",
    "#     #return T.max(x,axis=1) * (1.0**p)\n",
    "#     return input * 100\n",
    "\n",
    "\n",
    "# class power_mean_Layer(Layer):\n",
    "#     def __init__(self, betas, **kwargs):\n",
    "#         self.betas = betas\n",
    "#         super(power_mean_Layer, self).__init__(**kwargs)\n",
    "#     def call(self, x, mask=None):    \n",
    "#         return K.sum(x)\n",
    "#     def get_output_shape_for(self, input_shape):\n",
    "#         return (input_shape[0], input_shape[1],1)\n",
    "    \n",
    "# class Antirectifier(Layer):\n",
    "#     def __init__(self, **kwargs):\n",
    "#         super(Antirectifier, self).__init__(**kwargs)\n",
    "#     def output_shape(self):\n",
    "#         input_shape=self.input_shape\n",
    "#         return input_shape\n",
    "#     def get_output(self, train=False):\n",
    "#         X=self.get_input(train)\n",
    "#         return X*100 \n",
    "    \n",
    "# class power_mean_Layer(Layer):\n",
    "#     def __init__(self, betas, **kwargs):\n",
    "#         self.betas = betas\n",
    "#         super(power_mean_Layer, self).__init__(**kwargs)\n",
    "#     def get_output(self, train=False):  \n",
    "#         x=self.get_input(train)\n",
    "#         return power_mean_betas(x,self.betas,1)\n",
    "#     def output_shape(self):\n",
    "#         input_shape=self.input_shape\n",
    "#         return (input_shape[0], input_shape[1],1)"
   ]
  },
  {
   "cell_type": "code",
   "execution_count": null,
   "metadata": {
    "collapsed": false
   },
   "outputs": [],
   "source": [
    "#from keras.models import Sequential, Graph\n",
    "import keras\n",
    "from keras import backend as K\n",
    "from rnd_libs.lib.keras.custom_keras_layers import power_mean_Layer,global_Average_Pooling\n",
    "from keras.layers.convolutional import Convolution2D, MaxPooling2D, ZeroPadding2D, AveragePooling2D\n",
    "import random\n",
    "from keras.layers.core import Activation, Dense, Reshape, Flatten\n",
    "import numpy as np\n",
    "def random_float(low, high,N):\n",
    "    arr=[]\n",
    "    for i in range(N):\n",
    "        arr.append(random.random()*(high-low) + low)\n",
    "    return np.array(arr)\n",
    "betas=random_float(0,20,9000)\n",
    "from numpy import float32\n",
    "betas=float32(betas)\n",
    "#betas=np.array([20.0,0.0])"
   ]
  },
  {
   "cell_type": "code",
   "execution_count": null,
   "metadata": {
    "collapsed": false
   },
   "outputs": [],
   "source": [
    "from keras.models import Graph,Sequential\n",
    "from IPython.core.debugger import Tracer\n",
    "model=Graph()\n",
    "#model.add(input_shape=(None,2,2,2))\n",
    "model.add_input(name='input',input_shape=(2,2,2))\n",
    "\n",
    "model.add_node(Convolution2D(9000,1,1), name='conv',input='input')\n",
    "#model.add_node(power_mean_Layer(betas),name='custom_pool',input='conv')\n",
    "\n",
    "model.add_node(global_Average_Pooling(),name='custom_pool',input='input')\n",
    "model.add_node(Flatten(), name='flatten', input='custom_pool')\n",
    "\n",
    "model.add_node(Dense(100), name='softmax', input='flatten')\n",
    "model.add_output(name='output', input='softmax')\n",
    "\n",
    "#model=Sequential()\n",
    "#model.add(input_shape=(None,2,2,2))\n",
    "#model.add(name='input',input_shape=(2,2,2))\n",
    "\n",
    "# model.add(Convolution2D(9000,1,1,input_shape=(2,2,2)))\n",
    "# model.add(power_mean_Layer(betas))\n",
    "# model.add(Flatten())\n",
    "#model.add(Dense(100))\n",
    "#model.add_output(name='output', input='conv')\n",
    "\n",
    "\n",
    "\n",
    "#model.add(Antirectifier(input_shape=(2,2,2)))\n",
    "#model.add(Flatten(input_shape=(2,2,2)))\n",
    "\n",
    "#f=K.function([model.input], model.output)\n",
    "f=K.theano.function([model.input], model.nodes['custom_pool'].get_output())\n",
    "#f=K.function([model.layers[0]])"
   ]
  },
  {
   "cell_type": "code",
   "execution_count": null,
   "metadata": {
    "collapsed": false,
    "scrolled": true
   },
   "outputs": [],
   "source": [
    "import numpy as np\n",
    "B = np.random.random((2,2,2,2))\n",
    "B=B.astype(np.float32)\n",
    "#f(B).shape\n",
    "#model.predict(B)\n",
    "B.shape\n",
    "# B.mean(axis=[2,3]).shape"
   ]
  },
  {
   "cell_type": "code",
   "execution_count": null,
   "metadata": {
    "collapsed": false
   },
   "outputs": [],
   "source": [
    "f(B)"
   ]
  },
  {
   "cell_type": "code",
   "execution_count": null,
   "metadata": {
    "collapsed": false
   },
   "outputs": [],
   "source": [
    "B"
   ]
  },
  {
   "cell_type": "code",
   "execution_count": null,
   "metadata": {
    "collapsed": false
   },
   "outputs": [],
   "source": [
    "model.compile(loss='categorical_crossentropy', optimizer='sgd')\n",
    "model.evaluate(B)"
   ]
  },
  {
   "cell_type": "code",
   "execution_count": null,
   "metadata": {
    "collapsed": false
   },
   "outputs": [],
   "source": [
    "model.layers[0].get_"
   ]
  },
  {
   "cell_type": "code",
   "execution_count": null,
   "metadata": {
    "collapsed": true
   },
   "outputs": [],
   "source": []
  },
  {
   "cell_type": "code",
   "execution_count": null,
   "metadata": {
    "collapsed": false
   },
   "outputs": [],
   "source": [
    "Flatten.__doc__\n"
   ]
  },
  {
   "cell_type": "code",
   "execution_count": null,
   "metadata": {
    "collapsed": false
   },
   "outputs": [],
   "source": [
    "from rnd_libs.lib.keras.custom_keras_layers import power_mean_Layer"
   ]
  },
  {
   "cell_type": "code",
   "execution_count": null,
   "metadata": {
    "collapsed": true
   },
   "outputs": [],
   "source": [
    "import keras\n"
   ]
  },
  {
   "cell_type": "code",
   "execution_count": null,
   "metadata": {
    "collapsed": false
   },
   "outputs": [],
   "source": [
    "power_mean_Layer.get_output()"
   ]
  },
  {
   "cell_type": "code",
   "execution_count": null,
   "metadata": {
    "collapsed": false
   },
   "outputs": [],
   "source": [
    "f=K.function([model.input], model.get_output(train=False))"
   ]
  },
  {
   "cell_type": "code",
   "execution_count": null,
   "metadata": {
    "collapsed": false
   },
   "outputs": [],
   "source": [
    "model.output"
   ]
  },
  {
   "cell_type": "code",
   "execution_count": null,
   "metadata": {
    "collapsed": false
   },
   "outputs": [],
   "source": [
    "model.get_output_shape_at(1)"
   ]
  },
  {
   "cell_type": "code",
   "execution_count": null,
   "metadata": {
    "collapsed": false
   },
   "outputs": [],
   "source": [
    "model.input"
   ]
  },
  {
   "cell_type": "code",
   "execution_count": null,
   "metadata": {
    "collapsed": false
   },
   "outputs": [],
   "source": [
    "model.input"
   ]
  },
  {
   "cell_type": "code",
   "execution_count": null,
   "metadata": {
    "collapsed": false
   },
   "outputs": [],
   "source": [
    "import keras\n",
    "print keras.__version__"
   ]
  },
  {
   "cell_type": "code",
   "execution_count": null,
   "metadata": {
    "collapsed": false
   },
   "outputs": [],
   "source": [
    "betas"
   ]
  },
  {
   "cell_type": "code",
   "execution_count": null,
   "metadata": {
    "collapsed": false
   },
   "outputs": [],
   "source": [
    "betas.dtype"
   ]
  },
  {
   "cell_type": "code",
   "execution_count": null,
   "metadata": {
    "collapsed": false
   },
   "outputs": [],
   "source": [
    "from numpy import float32\n",
    "\n",
    "float32(betas)."
   ]
  },
  {
   "cell_type": "code",
   "execution_count": null,
   "metadata": {
    "collapsed": false
   },
   "outputs": [],
   "source": [
    "model.layers[1].output\n"
   ]
  },
  {
   "cell_type": "code",
   "execution_count": null,
   "metadata": {
    "collapsed": false
   },
   "outputs": [],
   "source": [
    "model.output"
   ]
  },
  {
   "cell_type": "code",
   "execution_count": null,
   "metadata": {
    "collapsed": false
   },
   "outputs": [],
   "source": [
    "f([B]).shape"
   ]
  },
  {
   "cell_type": "code",
   "execution_count": null,
   "metadata": {
    "collapsed": false
   },
   "outputs": [],
   "source": [
    "f([B]).shape"
   ]
  },
  {
   "cell_type": "code",
   "execution_count": null,
   "metadata": {
    "collapsed": true
   },
   "outputs": [],
   "source": [
    "import theano"
   ]
  },
  {
   "cell_type": "code",
   "execution_count": null,
   "metadata": {
    "collapsed": false
   },
   "outputs": [],
   "source": [
    "theano.__version__"
   ]
  },
  {
   "cell_type": "code",
   "execution_count": null,
   "metadata": {
    "collapsed": true
   },
   "outputs": [],
   "source": []
  },
  {
   "cell_type": "code",
   "execution_count": null,
   "metadata": {
    "collapsed": false
   },
   "outputs": [],
   "source": [
    "model.get_weights()"
   ]
  },
  {
   "cell_type": "code",
   "execution_count": null,
   "metadata": {
    "collapsed": false
   },
   "outputs": [],
   "source": [
    "import keras\n",
    "keras.__version__"
   ]
  },
  {
   "cell_type": "code",
   "execution_count": null,
   "metadata": {
    "collapsed": false
   },
   "outputs": [],
   "source": [
    "model.get_output()"
   ]
  },
  {
   "cell_type": "code",
   "execution_count": null,
   "metadata": {
    "collapsed": false
   },
   "outputs": [],
   "source": [
    "model.summary()"
   ]
  },
  {
   "cell_type": "code",
   "execution_count": null,
   "metadata": {
    "collapsed": false
   },
   "outputs": [],
   "source": [
    "9000*100"
   ]
  },
  {
   "cell_type": "code",
   "execution_count": null,
   "metadata": {
    "collapsed": false
   },
   "outputs": [],
   "source": [
    "18000+9000"
   ]
  },
  {
   "cell_type": "code",
   "execution_count": null,
   "metadata": {
    "collapsed": false
   },
   "outputs": [],
   "source": [
    "9000*7735 + 7735"
   ]
  },
  {
   "cell_type": "code",
   "execution_count": null,
   "metadata": {
    "collapsed": false
   },
   "outputs": [],
   "source": [
    "tester.conn"
   ]
  },
  {
   "cell_type": "code",
   "execution_count": null,
   "metadata": {
    "collapsed": true
   },
   "outputs": [],
   "source": [
    "str='/nas/datasets/getty-collection/getty-all/81329250.png'"
   ]
  },
  {
   "cell_type": "code",
   "execution_count": null,
   "metadata": {
    "collapsed": false
   },
   "outputs": [],
   "source": [
    "\n",
    "str=str.replace('/nas/','/nas2/')"
   ]
  },
  {
   "cell_type": "code",
   "execution_count": null,
   "metadata": {
    "collapsed": false
   },
   "outputs": [],
   "source": [
    "str"
   ]
  },
  {
   "cell_type": "code",
   "execution_count": null,
   "metadata": {
    "collapsed": false
   },
   "outputs": [],
   "source": [
    "len(B)"
   ]
  },
  {
   "cell_type": "code",
   "execution_count": null,
   "metadata": {
    "collapsed": false
   },
   "outputs": [],
   "source": [
    "trainer.model_config_file"
   ]
  },
  {
   "cell_type": "code",
   "execution_count": null,
   "metadata": {
    "collapsed": false
   },
   "outputs": [],
   "source": [
    "model=trainer.trainer.model"
   ]
  },
  {
   "cell_type": "code",
   "execution_count": null,
   "metadata": {
    "collapsed": false
   },
   "outputs": [],
   "source": [
    "model.summary()"
   ]
  },
  {
   "cell_type": "code",
   "execution_count": null,
   "metadata": {
    "collapsed": false
   },
   "outputs": [],
   "source": [
    "from keras.utils.visualize_util import "
   ]
  },
  {
   "cell_type": "code",
   "execution_count": null,
   "metadata": {
    "collapsed": false
   },
   "outputs": [],
   "source": [
    "f=K.theano.function([model.input], model.nodes['conv_4'].get_output())"
   ]
  },
  {
   "cell_type": "code",
   "execution_count": null,
   "metadata": {
    "collapsed": false
   },
   "outputs": [],
   "source": [
    "filenames=['/nas/datasets/getty-collection/getty-all/87033390.png']\n",
    "trainer.load_mean_file()\n",
    "trainer.im_h=779\n",
    "trainer.im_w=779\n",
    "trainer.load_synset_file()\n",
    "images=trainer.fetch_images(filenames)"
   ]
  },
  {
   "cell_type": "code",
   "execution_count": null,
   "metadata": {
    "collapsed": false
   },
   "outputs": [],
   "source": [
    "filterno=5\n",
    "\n",
    "%matplotlib inline\n",
    "import pylab as pl\n",
    "import matplotlib.cm as cm\n",
    "\n",
    "\n",
    "pl.imshow((f(images)[0,filterno,:,:]))\n",
    "\n"
   ]
  },
  {
   "cell_type": "code",
   "execution_count": null,
   "metadata": {
    "collapsed": true
   },
   "outputs": [],
   "source": []
  }
 ],
 "metadata": {
  "anaconda-cloud": {},
  "kernelspec": {
   "display_name": "Python [conda env:harsimrat-code]",
   "language": "python",
   "name": "conda-env-harsimrat-code-py"
  },
  "language_info": {
   "codemirror_mode": {
    "name": "ipython",
    "version": 2
   },
   "file_extension": ".py",
   "mimetype": "text/x-python",
   "name": "python",
   "nbconvert_exporter": "python",
   "pygments_lexer": "ipython2",
   "version": "2.7.12"
  }
 },
 "nbformat": 4,
 "nbformat_minor": 1
}

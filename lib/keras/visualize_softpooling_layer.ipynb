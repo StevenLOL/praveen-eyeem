{
 "cells": [
  {
   "cell_type": "code",
   "execution_count": 6,
   "metadata": {
    "collapsed": false
   },
   "outputs": [
    {
     "name": "stderr",
     "output_type": "stream",
     "text": [
      "Using Theano backend.\n",
      "Using gpu device 0: Tesla K40c (CNMeM is disabled, cuDNN 5103)\n"
     ]
    }
   ],
   "source": [
    "from keras import backend as K\n",
    "from keras.layers import Layer\n",
    "import numpy as np"
   ]
  },
  {
   "cell_type": "code",
   "execution_count": 7,
   "metadata": {
    "collapsed": false
   },
   "outputs": [],
   "source": [
    "def power_mean_betas(input,p,along_axis):\n",
    "    #return T.max(x,axis=1) * (1.0**p)\n",
    "    temp=K.reshape(input* p[None,:,None,None], (input.shape[0]*input.shape[1], input.shape[2]*input.shape[3]))\n",
    "    x=K.reshape(input, (input.shape[0]*input.shape[1], input.shape[2]*input.shape[3]))\n",
    "    output = K.sum(K.theano.tensor.\n",
    "                   nnet.softmax(temp) * x , axis=along_axis)\n",
    "    return K.reshape(output,(input.shape[0], input.shape[1],1))\n",
    "\n",
    "def power_mean_beta(input,p,along_axis):\n",
    "    #return T.max(x,axis=1) * (1.0**p)\n",
    "    x=K.reshape(input, (input.shape[0]*input.shape[1], input.shape[2]*input.shape[3]))\n",
    "    output = K.sum(K.theano.tensor.nnet.softmax(x * p) * x , axis=along_axis)\n",
    "    return K.reshape(output,(input.shape[0], input.shape[1],1))"
   ]
  },
  {
   "cell_type": "code",
   "execution_count": 8,
   "metadata": {
    "collapsed": false
   },
   "outputs": [],
   "source": [
    "class power_mean_Layer(Layer):\n",
    "    def __init__(self, output_dim, **kwargs):\n",
    "        self.output_dim = output_dim\n",
    "        super(MyLayer, self).__init__(**kwargs)\n",
    "    def call(self, x,p, mask=None):    \n",
    "        return power_mean_betas(x,p,along_axis)\n",
    "    def get_output_shape_for(self, input_shape):\n",
    "        return (input_shape[0], input_shape[1],1)"
   ]
  },
  {
   "cell_type": "code",
   "execution_count": 9,
   "metadata": {
    "collapsed": false
   },
   "outputs": [],
   "source": [
    "p=K.theano.tensor.vector()\n",
    "p_scalar=K.theano.tensor.scalar()\n",
    "input=K.theano.tensor.tensor4()\n",
    "#power_mean(input,p,1)\n",
    "f=K.theano.function([input,p],[power_mean_betas(input,p,1)])\n",
    "f2=K.theano.function([input,p_scalar],[power_mean_beta(input,p_scalar,1)])"
   ]
  },
  {
   "cell_type": "code",
   "execution_count": 1,
   "metadata": {
    "collapsed": false
   },
   "outputs": [
    {
     "data": {
      "text/plain": [
       "array([[[[ 0.44649726,  0.32659942],\n",
       "         [ 0.50427538,  0.56817687]],\n",
       "\n",
       "        [[ 0.00234388,  0.32934645],\n",
       "         [ 0.43834636,  0.74206126]]],\n",
       "\n",
       "\n",
       "       [[[ 0.41586864,  0.30069202],\n",
       "         [ 0.99336916,  0.40483528]],\n",
       "\n",
       "        [[ 0.35489613,  0.43427119],\n",
       "         [ 0.84226733,  0.00313834]]]], dtype=float32)"
      ]
     },
     "execution_count": 1,
     "metadata": {},
     "output_type": "execute_result"
    }
   ],
   "source": [
    "import numpy as np\n",
    "B = np.random.random((2,2,2,2))\n",
    "B=B.astype(np.float32)\n",
    "B"
   ]
  },
  {
   "cell_type": "code",
   "execution_count": 11,
   "metadata": {
    "collapsed": false
   },
   "outputs": [
    {
     "name": "stdout",
     "output_type": "stream",
     "text": [
      "[array([[[ 0.46138722],\n",
      "        [ 0.44651115]],\n",
      "\n",
      "       [[ 0.52869129],\n",
      "        [ 0.49806112]]], dtype=float32)]\n",
      "[[[ 0.46138722]\n",
      "  [ 0.44651115]]\n",
      "\n",
      " [[ 0.52869129]\n",
      "  [ 0.49806112]]]\n"
     ]
    }
   ],
   "source": [
    "betas=np.array([0.0,1.0])\n",
    "betas=betas.astype(np.float32)\n",
    "print f(B,betas)\n",
    "\n",
    "beta=np.float32(0.0)\n",
    "#print f2(B,beta)[0]\n",
    "\n",
    "print f(B,betas)[0]"
   ]
  },
  {
   "cell_type": "code",
   "execution_count": 30,
   "metadata": {
    "collapsed": false
   },
   "outputs": [
    {
     "data": {
      "text/plain": [
       "<keras.backend.theano_backend.Function at 0x7f98a2a7e7d0>"
      ]
     },
     "execution_count": 30,
     "metadata": {},
     "output_type": "execute_result"
    }
   ],
   "source": [
    "f"
   ]
  },
  {
   "cell_type": "code",
   "execution_count": 36,
   "metadata": {
    "collapsed": false
   },
   "outputs": [
    {
     "data": {
      "text/plain": [
       "numpy.float32"
      ]
     },
     "execution_count": 36,
     "metadata": {},
     "output_type": "execute_result"
    }
   ],
   "source": [
    "numpy.float32"
   ]
  },
  {
   "cell_type": "code",
   "execution_count": 44,
   "metadata": {
    "collapsed": false
   },
   "outputs": [
    {
     "data": {
      "text/plain": [
       "array([[ 0.],\n",
       "       [ 0.],\n",
       "       [ 0.],\n",
       "       [ 0.]], dtype=float32)"
      ]
     },
     "execution_count": 44,
     "metadata": {},
     "output_type": "execute_result"
    }
   ],
   "source": [
    "betas[:,None]"
   ]
  },
  {
   "cell_type": "code",
   "execution_count": 59,
   "metadata": {
    "collapsed": false
   },
   "outputs": [
    {
     "data": {
      "text/plain": [
       "array([[[[ 0.        ,  0.        ],\n",
       "         [ 0.        ,  0.        ]],\n",
       "\n",
       "        [[ 0.10760076,  4.82928544],\n",
       "         [ 0.11758095,  1.75946206]]],\n",
       "\n",
       "\n",
       "       [[[ 0.        ,  0.        ],\n",
       "         [ 0.        ,  0.        ]],\n",
       "\n",
       "        [[ 0.85238189,  0.82604259],\n",
       "         [ 4.87081677,  1.6329594 ]]]])"
      ]
     },
     "execution_count": 59,
     "metadata": {},
     "output_type": "execute_result"
    }
   ],
   "source": [
    "betas=np.array([0.0,5.0])\n",
    "B*betas[np.newaxis,:,np.newaxis,np.newaxis]"
   ]
  },
  {
   "cell_type": "code",
   "execution_count": 81,
   "metadata": {
    "collapsed": true
   },
   "outputs": [],
   "source": [
    "import random\n",
    "def random_float(low, high,N):\n",
    "    arr=[]\n",
    "    for i in range(N):\n",
    "        arr.append(random.random()*(high-low) + low)\n",
    "    return np.array(arr)"
   ]
  },
  {
   "cell_type": "code",
   "execution_count": 85,
   "metadata": {
    "collapsed": false
   },
   "outputs": [
    {
     "data": {
      "text/plain": [
       "array([ 0.9217244 ,  0.46935402,  0.1840877 ,  0.95879546,  0.10404153,\n",
       "        0.94298431,  0.42553939,  0.42270785,  0.45661278,  0.01026737])"
      ]
     },
     "execution_count": 85,
     "metadata": {},
     "output_type": "execute_result"
    }
   ],
   "source": [
    "random_float(0, 1,10)"
   ]
  },
  {
   "cell_type": "code",
   "execution_count": null,
   "metadata": {
    "collapsed": true
   },
   "outputs": [],
   "source": []
  }
 ],
 "metadata": {
  "anaconda-cloud": {},
  "kernelspec": {
   "display_name": "Python [conda env:harsimrat-code]",
   "language": "python",
   "name": "conda-env-harsimrat-code-py"
  },
  "language_info": {
   "codemirror_mode": {
    "name": "ipython",
    "version": 2
   },
   "file_extension": ".py",
   "mimetype": "text/x-python",
   "name": "python",
   "nbconvert_exporter": "python",
   "pygments_lexer": "ipython2",
   "version": "2.7.12"
  }
 },
 "nbformat": 4,
 "nbformat_minor": 1
}
